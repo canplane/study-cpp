{
 "cells": [
  {
   "cell_type": "markdown",
   "metadata": {},
   "source": [
    "*2021/01/22 Fri*\n",
    "\n",
    "<hr>"
   ]
  },
  {
   "cell_type": "markdown",
   "metadata": {},
   "source": [
    "# 13-1. 객체의 유일한 소유권 - unique_ptr\n",
    "\n",
    "C++ 11에서 자원을 관리하는 방법에 대해서 다룬다.\n",
    "컴퓨터에서 자원이라 하면, 할당한 메모리도 자원이고 open한 파일 역시 하나의 자원이라 할 수 있다.\n",
    "\n",
    "## 자원 관리의 중요성\n",
    "\n",
    "C++ 이후에 나온 많은 언어(Java 등등)들은 대부분 가비지 컬렉터라 불리는 자원 청소기가 기본적으로 내장되어 있다. 그러나 C++은 그렇지 않다. 프로그램 종료 시까지 영원히 남아 있게 된다.\n",
    "\n",
    "아래와 같은 상황을 어떻게 해결해야 할까?"
   ]
  },
  {
   "cell_type": "code",
   "execution_count": null,
   "metadata": {},
   "outputs": [],
   "source": [
    "#include <iostream>\n",
    "\n",
    "class A {\n",
    "    int *data;\n",
    "    \n",
    "public:\n",
    "    A() {\n",
    "        data = new int[100];\n",
    "        std::cout << \"자원을 획득함!\" << std::endl;\n",
    "    }\n",
    "    ~A() {\n",
    "        std::cout << \"자원을 해제함!\" << std::endl;\n",
    "        delete[] data;\n",
    "    }\n",
    "};\n",
    "\n",
    "void thrower() {\n",
    "    // 예외를 발생시킴!\n",
    "    throw 1;\n",
    "}\n",
    "\n",
    "void do_something() {\n",
    "    A *pa = new A();\n",
    "    thrower();\n",
    "    \n",
    "    // 발생된 예외로 인해 delete pa가 호출되지 않는다!\n",
    "    delete pa;\n",
    "}\n",
    "\n",
    "int main() {\n",
    "    try {\n",
    "        do_something();\n",
    "    } catch (int i) {\n",
    "        std::cout << \"예외 발생!\" << std::endl;\n",
    "        // 예외 처리\n",
    "    }\n",
    "}"
   ]
  },
  {
   "cell_type": "markdown",
   "metadata": {},
   "source": [
    "## Resource Acqusition Is Initialization - RAII\n",
    "\n",
    "비야네 스트로스트룹은 C++에서 자원을 관리하는 방법으로 다음과 같은 디자인 패턴을 제안하였다. RAII; 자원의 획득은 초기화다.\n",
    "\n",
    "자원 관리를 스택에 할당한 객체를 통해 수행하는 것.\n",
    "\n",
    "이전 강좌에서, 예외가 발생해서 함수를 빠져나가더라도, 그 함수의 스택에 정의되어 있는 모든 객체들은 빠집없이 소멸자가 호출된다고 했다.(이를 stack unwinding이라 했다.) 예외가 발생하지 않는다면, 함수가 종료될 때 당연히 소멸자들이 호출되는 것.\n",
    "\n",
    "**그러면 이 소멸자들 안에 다 사용한 자원을 해제하는 루틴을 넣으면 어떨까?**\n",
    "\n",
    "예로 들어, 위 포인터 `pa`의 경우 객체가 아니므로 소멸자가 호출되지 않는다. 그러면 그 대신에 `pa`를 일반적인 포인터가 아닌, 포인터 '객체'로 만들어서 자신이 소멸될 때 자신이 가리키고 있는 데이터도 같이 delete하게 하면 되는 것.\n",
    "\n",
    "즉, 자원(이 경우 메모리) 관리를 스택의 객체(포인터 객체)를 통해 수행하게 되는 것이다.\n",
    "\n",
    "이렇게 똑똑하게 작동하는 포인터 객체를 <u>스마트 포인터</u>라 부른다. C++ 11 이전에는 `auto_ptr`란 게 잠시 등장했지만, 많은 문제가 있어 사용을 금지.\n",
    "\n",
    "이를 보완한 두 가지 형태의 새로운 스마트 포인터가 `unique_ptr`과 `shared_ptr`.\n",
    "\n",
    "## 객체의 유일한 소유권 - unique_ptr\n",
    "\n",
    "C++에서 메모리를 잘못된 방식으로 관리하면, 크게 두 가지 종류의 문제점이 발생할 수 있다.\n",
    "\n",
    "1. 메모리를 사용한 후 해제하지 않은 경우(memory leak) : 서버처럼 장시간 작동하는 프로그램의 경우 나중에 서버가 죽을 수 있다. 그런데, 다행히 RAII 패턴을 사용하면 해결할 수 있고, RAII를 통해서 사용이 끝난 메모리는 항상 해제시켜 버리면 메모리 누수 문제를 사전에 막을 수 있다.\n",
    "2. 해제된 메모리를 다시 참조하는 경우"
   ]
  },
  {
   "cell_type": "code",
   "execution_count": null,
   "metadata": {},
   "outputs": [],
   "source": [
    "Data *data = new Data();\n",
    "Data *data2 = data;\n",
    "\n",
    "// data의 입장 : 사용 다 했으니 소멸시켜야지.\n",
    "delete data;\n",
    "\n",
    "// ...\n",
    "\n",
    "// data2의 입장 : 나도 사용 다 했으니 소멸시켜야지.\n",
    "delete data2;"
   ]
  },
  {
   "cell_type": "markdown",
   "metadata": {},
   "source": [
    "이 경우, 메모리 오류가 나면서 프로그램이 죽는다. <u>double free 버그</u>.\n",
    "\n",
    "이 문제가 발생한 이유는, 만들어진 객체의 소유권이 명확하지 않아서이다. 만약, 어떤 포인터에 객체의 유일한 소유권을 부여해서, 이 포인터 말고는 객체를 소멸시킬 수 없다.라고 한다면, 이런 일은 발생하지 않을 것.\n",
    "\n",
    "이렇게 특정 객체에 유일한 소유권을 부여하는 포인터 객체를 `unique_ptr`이라 한다."
   ]
  },
  {
   "cell_type": "code",
   "execution_count": null,
   "metadata": {},
   "outputs": [],
   "source": [
    "#include <iostream>\n",
    "#include <memory>\n",
    "\n",
    "class A {\n",
    "    int *data;\n",
    "    \n",
    "public:\n",
    "    A() {\n",
    "        std::cout << \"자원을 획득함!\" << std::endl;\n",
    "        data = new int[100];\n",
    "    }\n",
    "    \n",
    "    void some() { std::cout << \"일반 포인터와 동일하게 사용 가능!\" << std::endl; }\n",
    "    \n",
    "    ~A() {\n",
    "        std::cout << \"자원을 해제함!\" << std::endl;\n",
    "        delete[] data;\n",
    "    }\n",
    "};\n",
    "\n",
    "void do_something() {\n",
    "    std::unique_ptr<A> pa(new A());  // A *pa = new A();와 동일한 문장이라 보면 된다.\n",
    "    pa->some();\n",
    "}\n",
    "\n",
    "int main() { do_something(); }"
   ]
  },
  {
   "cell_type": "markdown",
   "metadata": {},
   "source": [
    "\\- 실행 결과\n",
    "```\n",
    "자원을 획득함!\n",
    "일반 포인터와 동일하게 사용 가능!\n",
    "자원을 해제함!\n",
    "```\n",
    "\n",
    "`unique_ptr`은 `->` 연산자를 오버로드해서 마치 포인터를 다루는 것과 같이 사용할 수 있게 하였다.\n",
    "\n",
    "또한 `unique_ptr` 덕분에 `RAII` 패턴을 사용할 수 있다. `pa`는 스택에 정의된 객체이므로 `do_something()` 함수가 종료될 때 자동으로 소멸자가 호출된다. 그리고 이 `unique_ptr`은 소멸자 안에서 자신이 가리키고 있는 자원을 해제해주므로 자원이 잘 해제될 수 있었다.\n",
    "\n",
    "Q. 만약 `unique_ptr`을 복사하려고 한다면?"
   ]
  },
  {
   "cell_type": "code",
   "execution_count": null,
   "metadata": {},
   "outputs": [],
   "source": [
    "void do_something() {\n",
    "    std::unique_ptr<A> pa(new A());\n",
    "    \n",
    "    // pb도 객체를 가리키게 할 수 있을까?\n",
    "    std::unique_ptr<A> pb = pa;\n",
    "}"
   ]
  },
  {
   "cell_type": "markdown",
   "metadata": {},
   "source": [
    "\\- 실행 결과\n",
    "```\n",
    "'std::unique_ptr<A,std::default_delete<_Ty>>::unique_ptr(const std::unique_ptr<_Ty,std::default_delete<_Ty>> &)': attempting to reference a deleted function\n",
    "```\n",
    "\n",
    "컴파일 오류! 삭제된 함수를 사용하려고 했다는 것.\n",
    "\n",
    "## 삭제된 함수\n",
    "\n",
    "사용을 원치 않는 함수를 삭제시키는 방법은 C++ 11에 추가된 기능이다."
   ]
  },
  {
   "cell_type": "code",
   "execution_count": null,
   "metadata": {},
   "outputs": [],
   "source": [
    "#include <iostream>\n",
    "\n",
    "class A {\n",
    "public:\n",
    "    A(int a) {}\n",
    "    A(const A& a) = delete;  // 삭제된 함수\n",
    "};\n",
    "\n",
    "int main() {\n",
    "    A a(3);  // 가능\n",
    "    A b(a);  // 불가능 (복사 생성자는 삭제됨) -> 컴파일 오류\n",
    "}"
   ]
  },
  {
   "cell_type": "markdown",
   "metadata": {},
   "source": [
    "복사 생성자를 명시적으로 삭제했으므로 컴파일 오류.\n",
    "\n",
    "`= delete;`를 사용하게 되면, 프로그래머가 명시적으로 '이 함수는 쓰지 마!'라고 표현할 수 있다. 혹시나 사용하더라도 컴파일 오류 발생.\n",
    "\n",
    "`unique_ptr`도 마찬가지로 `unique_ptr`의 복사 생성자가 명시적으로 삭제되었음.(디폴트 복사 생성자 없음.) 어떠한 객체를 유일하게 소유해야 하므로. 안 그러면 `double free` 버그가 발생하게 된다.\n",
    "\n",
    "## unique_ptr 소유권 이전하기"
   ]
  },
  {
   "cell_type": "code",
   "execution_count": null,
   "metadata": {},
   "outputs": [],
   "source": []
  }
 ],
 "metadata": {
  "kernelspec": {
   "display_name": "C++11",
   "language": "C++11",
   "name": "xcpp11"
  },
  "language_info": {
   "codemirror_mode": "text/x-c++src",
   "file_extension": ".cpp",
   "mimetype": "text/x-c++src",
   "name": "c++",
   "version": "11"
  }
 },
 "nbformat": 4,
 "nbformat_minor": 4
}
