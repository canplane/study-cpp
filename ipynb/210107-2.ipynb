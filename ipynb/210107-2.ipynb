{
 "cells": [
  {
   "cell_type": "markdown",
   "metadata": {},
   "source": [
    "*2021/01/07 Thu*\n",
    "\n",
    "# 4-1. 이 세상은 객체로 이루어져 있다"
   ]
  },
  {
   "cell_type": "markdown",
   "metadata": {},
   "source": [
    "러시아식 유머? : ```play(animal);```"
   ]
  },
  {
   "cell_type": "markdown",
   "metadata": {},
   "source": [
    "## 잠깐 복습\n",
    "\n",
    "* 클래스\n",
    "\n",
    "객체의 설계도\n",
    "\n",
    "* 캡슐화(정보 은닉)\n",
    "\n",
    "은닉성. 실제로 구현되는 부분을 외부에 드러나지 않도록 캡슐로 감싸고 이용 방법만을 알려주는 것.\n",
    "\n",
    "객체의 속성(data fields)과 행위(methods)를 하나로 묶고, 실제 구현 내용 일부를 외부에 감추어 은닉.\n",
    "\n",
    "연관 있는 것들을 하나로 묶어주는 것. 연관된 변수, 함수는 클래스로 묶고 외부에 감출 내용은 감추기. getter, setter\n",
    "\n",
    "* 모듈화\n",
    "\n",
    "크고 복잡한 것을, 좀 더 작고 관리 가능한 단위로 나누어서 독립적으로 개발하는 것.\n",
    "\n",
    "모듈간의 결합(coupling)은 낮고, 응집(cohesion)은 높게. -> 유지 보수, 재사용 용이\n",
    "\n",
    "* 다형성\n",
    "\n",
    "같은 타입이지만 실행 결과가 다양한 객체를 대입(이용)할 수 있는 성질.\n",
    "\n",
    "// 한국, 금호 타이어\n",
    "\n",
    "* 상속\n",
    "\n",
    "자식이 부모를 선택해서 물려받는 것.\n",
    "\n",
    "반복된 코드의 중복을 줄여주고 유지 보수의 편리, 객체의 다형성 구현 가능.\n",
    "\n",
    "* 추상화\n",
    "\n",
    "복잡한 것은 몰라도 되고, 이것만 써.\n",
    "\n",
    "공통적인 메서드 -> 인터페이스\n",
    "\n",
    "어떤 실체로부터 공통적인 부분이나 관심 있는, 핵심적인 특성들만 한 곳에 모은 것. 복잡한 것 X -> 재사용성\n",
    "\n",
    "```double area_circle(double r) { return PI * r * r; }```\n",
    "\n",
    "객체 지향적 관점에서 클래스를 정의하는 것이 바로 추상화라고 정의내릴 수 있음.\n",
    "다른 객체들과 구분되는 핵심적인 특징들에만 집중함으로써, 복잡도를 관리할 수 있도록 한다. 물고기, 사자 -> 동물\n",
    "\n",
    "* 정리하면,\n",
    "\n",
    "**복잡도를 낮추기 위해 추상화를 생각해서 모듈화를 하고, 모듈 간에는 캡슐화가 잘 되도록. 그리고 가능하면 모듈들은 상속을 통해 다형성을 갖게?**"
   ]
  },
  {
   "cell_type": "markdown",
   "metadata": {},
   "source": [
    "## #"
   ]
  },
  {
   "cell_type": "code",
   "execution_count": 9,
   "metadata": {},
   "outputs": [],
   "source": [
    "class Animal {\n",
    "    int foo; // 키워드 명시 안하면 기본적으로 private으로 설정됨.\n",
    "    \n",
    "    private:\n",
    "        int food;\n",
    "        int weight;\n",
    "    \n",
    "    public:\n",
    "        void set_animal(int _food, int _weight) {\n",
    "            food = _food;\n",
    "            weight = _weight;\n",
    "        }\n",
    "}; // 세미콜론 주의!"
   ]
  },
  {
   "cell_type": "code",
   "execution_count": 8,
   "metadata": {},
   "outputs": [],
   "source": [
    "int main() {\n",
    "    Animal animal;\n",
    "    //animal.food = 100; // error : cannot access private member declared in class 'Animal'\n",
    "    animal.set_animal(100, 1000);\n",
    "}\n",
    "main();"
   ]
  },
  {
   "cell_type": "code",
   "execution_count": null,
   "metadata": {},
   "outputs": [],
   "source": []
  }
 ],
 "metadata": {
  "kernelspec": {
   "display_name": "C++11",
   "language": "C++11",
   "name": "xcpp11"
  },
  "language_info": {
   "codemirror_mode": "text/x-c++src",
   "file_extension": ".cpp",
   "mimetype": "text/x-c++src",
   "name": "c++",
   "version": "11"
  }
 },
 "nbformat": 4,
 "nbformat_minor": 4
}
