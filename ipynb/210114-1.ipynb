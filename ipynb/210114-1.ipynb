{
 "cells": [
  {
   "cell_type": "markdown",
   "metadata": {},
   "source": [
    "*2021/01/14 Thu*\n",
    "\n",
    "<hr>"
   ]
  },
  {
   "cell_type": "markdown",
   "metadata": {},
   "source": [
    "# 10-1. C++ STL - 벡터(std::vector), 리스트(list), 데크(deque)\n",
    "\n",
    "C++의 표준 템플릿 라이브러리(STL)은 사용하는 것도 엄청 간단한데, 프로그래밍 능률도 100% 향상시킬 수 있는 엄청난 도구.\n",
    "사실, 이 `STL`의 도입으로 C++이 한 발 더 도약한 것도 과언이 아니라 볼 수 있겠다.\n",
    "\n",
    "## C++ 표준 템플릿 라이브러리(Standard Template Library - STL)\n",
    "\n",
    "C++ 표준 라이브러리에는 많은 라이브러리가 있음. 대표적으로,\n",
    "* 입출력 라이브러리(iostream 등등)\n",
    "* 시간 관련 라이브러리(chrono)\n",
    "* 정규표현식 라이브러리(regex)\n",
    "\n",
    "그러나, C++ 템플릿 라이브러리(STL)를 일컫는다면 다음 세 개의 라이브러리를 의미한다.\n",
    "* 임의 타입의 객체를 보관할 수 있는 컨테이너(container)\n",
    "* 컨테이너에 보관된 원소에 접근할 수 있는 반복자(iterator)\n",
    "* 반복자들을 가지고 일련의 작업을 수행하는 알고리즘(algorithm)\n",
    "\n",
    "편지들을 여러 개의 편지함에 넣는다면, \n",
    "* 편지를 보관하는 각각의 편지함들은 '컨테이너'와 같고, \n",
    "* 편지를 보고 원하는 편지함을 찾는 일은 '반복자'가 수행하고, \n",
    "* 그리고 편지들을 편지함에 날짜 순서로 정렬하여 넣는 일이 있다면 '알고리즘'이 수행하는 것.\n",
    "\n",
    "템플릿 덕분에 우리가 다루려는 객체가 어떤 특성을 갖는지 무관하게 라이브러리를 자유롭게 사용할 수 있다.\n",
    "또한 반복자의 도입으로 알고리즘 라이브러리에 필요한 최소한의 코드만을 작성할 수 있게 되었다.\n",
    "예로 들어, M개 종류의 컨테이너와 N개 종류의 알고리즘이 있다면, 이 모든 것을 지원하기 위해 MN개의 알고리즘 코드가 있어야 했다.\n",
    "\n",
    "그러나, 반복자를 이용해서 컨테이너를 추상화시켜서 접근하기 때문에 N개의 알고리즘 코드만으로 M개 종류의 컨테이너를 모두 지원할 수 있게 되었다.\n",
    "\n",
    "## C++ 'STL' 컨테이너 - 벡터(std::vector)\n",
    "\n",
    "컨테이너는 크게 두 가지 종류가 있다.\n",
    "* 배열처럼 객체들을 순차적으로 보관하는 시퀀스 컨테이너(sequence container) - `vector`, `list`, `deque`\n",
    "* 키를 바탕으로 대응되는 값을 찾아주는 연관 컨테이너(associative container)\n",
    "\n",
    "vector는 임의 위치에 있는 원소 접근을 $O(1)$로 수행할 수 있다. 맨 뒤에 새로운 원소를 추가하거나 제거하는 것 역시도."
   ]
  },
  {
   "cell_type": "code",
   "execution_count": 5,
   "metadata": {},
   "outputs": [
    {
     "name": "stdout",
     "output_type": "stream",
     "text": [
      "vec의 1 번째 원소 :: 10\n",
      "vec의 2 번째 원소 :: 20\n",
      "vec의 3 번째 원소 :: 30\n",
      "vec의 4 번째 원소 :: 40\n"
     ]
    }
   ],
   "source": [
    "#include <iostream>\n",
    "#include <vector>\n",
    "\n",
    "int main() {\n",
    "    std::vector<int> vec;\n",
    "    vec.push_back(10);\n",
    "    vec.push_back(20);\n",
    "    vec.push_back(30);\n",
    "    vec.push_back(40);\n",
    "    \n",
    "    for (std::vector<int>::size_type i = 0; i < vec.size(); i++) {\n",
    "        std::cout << \"vec의 \" << i + 1 << \" 번째 원소 :: \" << vec[i] << std::endl;\n",
    "    }\n",
    "}\n",
    "// size()는 size_type이라는 멤버 타입"
   ]
  },
  {
   "cell_type": "markdown",
   "metadata": {},
   "source": [
    "맨 뒤에 원소를 추가하는 작업은 엄밀히 말하면 amortized $O(1)$ (amortized : 분할 상환)\n",
    "\n",
    "임의의 위치에 원소를 추가하거나 제거하는 것은 $O(n)$으로 느림.\n",
    "\n",
    "* `[]`, `at` : $O(1)$\n",
    "* `push_back`, `pop_back` : amortized $O(1)$ (평균적으로 $O(1)$, 최악의 경우는 $O(n)$\n",
    "* `insert`, `erase` : $O(n)$"
   ]
  },
  {
   "cell_type": "markdown",
   "metadata": {},
   "source": [
    "## 반복자(iterator)\n",
    "\n",
    "컨테이너에 원소로 접근할 수 있는 포인터와 같은 객체.\n",
    "\n",
    "vector의 경우, begin()(vector의 첫 번째 원소), end()(마지막 원소 한 칸 뒤) -> begin() == end()면 빈 벡터"
   ]
  },
  {
   "cell_type": "code",
   "execution_count": null,
   "metadata": {},
   "outputs": [],
   "source": []
  },
  {
   "cell_type": "markdown",
   "metadata": {},
   "source": [
    "## 범위 기반 for 문(range based for loop)"
   ]
  },
  {
   "cell_type": "code",
   "execution_count": null,
   "metadata": {},
   "outputs": [],
   "source": [
    "for (const auto& elem : vec) {\n",
    "    std::cout << elem << std::endl;\n",
    "}"
   ]
  },
  {
   "cell_type": "markdown",
   "metadata": {},
   "source": [
    "## 리스트 (list)\n",
    "\n",
    "시작, 마지막 원소 위치만을 기억하므로 임의 위치에 바로 접근할 수 없다. 그래서 `[]`, `at` 함수가 정의되어 있지 않음.\n",
    "\n",
    "리스트는 임의 위치에 원소를 추가하는 작업이 $O(1)$"
   ]
  },
  {
   "cell_type": "code",
   "execution_count": null,
   "metadata": {},
   "outputs": [],
   "source": [
    "#include <iostream>\n",
    "#include <list>\n",
    "\n",
    "int main() {\n",
    "    std::list<int> lst;\n",
    "    \n",
    "    lst.push_back(10);\n",
    "    lst.push_back(20);\n",
    "    lst.push_back(30);\n",
    "    lst.push_back(40);\n",
    "    \n",
    "    for (std::list<int>::iterator itr = lst.begin(); itr != lst.end(); ++itr) {\n",
    "        std::cout << *itr << std::endl;\n",
    "    }\n",
    "    // 리스트 반복자의 경우는 itr++, itr--, ++itr, --itr 연산밖에 수행할 수 없다.\n",
    "}"
   ]
  },
  {
   "cell_type": "markdown",
   "metadata": {},
   "source": [
    "리스트의 반복자 타입은 `BidirectionalIterator`, 벡터의 반복자 타입은 `RandomAccessIterator`. (후자는 전자를 상속받고 있다.)"
   ]
  },
  {
   "cell_type": "code",
   "execution_count": null,
   "metadata": {},
   "outputs": [],
   "source": [
    "for (std::list<int>::iterator itr = lst.begin(); itr != lst.end(); ++itr) {\n",
    "    // 만일 현재 원소가 20이라면 그 앞에 50을 집어넣는다.\n",
    "    if (*itr == 20) {\n",
    "        lst.insert(itr, 50);\n",
    "    }\n",
    "}\n",
    "\n",
    "for (std::list<int>::iterator itr = lst.begin(); itr != lst.end(); ++itr) {\n",
    "    // 값이 30인 원소를 삭제한다.\n",
    "    if (*itr == 30) {\n",
    "        lst.erase(itr);\n",
    "        break;\n",
    "    }\n",
    "}"
   ]
  },
  {
   "cell_type": "markdown",
   "metadata": {},
   "source": [
    "erase 함수를 이용하여 원하는 위치에 있는 원소를 지울 수도 있다. 리스트의 경우는 벡터와는 다르게 원소를 지워도 반복자가 무효화되지 않아서, 원소의 주소값들은 바뀌지 않기 때문에!"
   ]
  },
  {
   "cell_type": "markdown",
   "metadata": {},
   "source": [
    "## 덱(deque - double ended queue)"
   ]
  },
  {
   "cell_type": "code",
   "execution_count": null,
   "metadata": {},
   "outputs": [],
   "source": [
    "#include <deque>\n",
    "#include <iostream>\n",
    "\n",
    "template <typename T>\n",
    "void print_queue(std::deque<T>& dq) {\n",
    "    // 전체 덱을 출력하기\n",
    "    std::cout << \"[ \";\n",
    "    for (const auto& elem : dq) {\n",
    "        std::cout << elem << \" \";\n",
    "    }\n",
    "    std::cout << \" ] \" << std::endl;\n",
    "}\n",
    "int main() {\n",
    "    std::deque<int> dq;\n",
    "    dq.push_back(10);\n",
    "    dq.push_back(20);\n",
    "    dq.push_front(30);\n",
    "    dq.push_front(40);\n",
    "    \n",
    "    std::cout << \"초기 dq 상태\" << std::endl;\n",
    "    print_deque(dq);\n",
    "    std::cout << \"맨 앞의 원소 제거\" << std::endl;\n",
    "    dq.pop_front();\n",
    "    print_deque(dq);\n",
    "}"
   ]
  },
  {
   "cell_type": "markdown",
   "metadata": {},
   "source": [
    "덱 역시 벡터처럼 임의의 위치 원소에 접근할 수 있으므로 `[]`, `at` 함수 제공하고 있고, 반복자 역시 `RandomAccessIterator` 타입이고 벡터와 정확히 동일한 방식으로 작동한다.\n",
    "\n",
    "## 그래서 어떤 컨테이너를 사용해야 돼?\n",
    "\n",
    "* 일반적인 상황에서는 그냥 벡터를 사용한다.(거의 만능!)\n",
    "* 만약 맨 끝이 아닌 중간에 원소들을 추가하거나 제거하는 일을 많이 하고, 원소들을 순차적으로만 접근한다면 리스트를 사용한다.\n",
    "* 만약에 맨 처음과 끝 모두에 원소들을 추가하는 작업을 많이 하면 덱을 사용한다."
   ]
  },
  {
   "cell_type": "markdown",
   "metadata": {},
   "source": [
    "<hr>"
   ]
  },
  {
   "cell_type": "markdown",
   "metadata": {},
   "source": [
    "# 10-2. C++ STL - 셋(set), 맵(map), unordered_set, unordered_map\n",
    "\n",
    "시퀀스 컨테이너는 말 그대로 '원소' 자체를 보관하는 컨테이너들. 여기서는 연관 컨테이너에 대해 다루어 볼 것.\n",
    "시퀀스 컨테이너와 다르게 key - value 구조를 가진다.\n",
    "특정한 키를 넣으면 이에 대응되는 값을 돌려준다는 것. 물론 템플릿 라이브러리기 때문에 키와 값 모두 임의 타입의 객체가 될 수 있다.\n",
    "\n",
    "* 박명순이 데이터에 존재하나요? (특정 키가 연관 컨테이너에 존재하는지 유무) -> true\n",
    "* 만약 존재한다면 이에 대응되는 값이 무엇인가요? (특정 키에 대응되는 값이 무엇인지 질의) -> 46\n",
    "\n",
    "전자의 경우는 set, multiset이고, 후자의 경우는 map, multimap\n",
    "물론 후자의 경우는 전자처럼 사용할 수 있음.\n",
    "\n",
    "해당하는 키가 맵에 존재하지 않으면 당연히 대응되는 값을 가져올 수 없기 때문.\n",
    "\n",
    "그러나 맵의 경우 셋보다 사용하는 메모리가 크므로 키의 존재 유무만 궁금하다면 셋을 사용하는 것이 좋다.\n",
    "\n",
    "## set"
   ]
  },
  {
   "cell_type": "code",
   "execution_count": null,
   "metadata": {},
   "outputs": [],
   "source": [
    "#include <iostream>\n",
    "#include <set>\n",
    "\n",
    "template <typename T>\n",
    "void print_set(std::set<T>& s) {\n",
    "    // 셋의 모든 원소들을 출력하기\n",
    "    std::cout << \"[ \";\n",
    "    for (typename std::set<T>::iterator itr = s.begin(); itr != s.end(); ++itr) {\n",
    "        std::cout << *itr << \" \";\n",
    "    }\n",
    "    std::cout << \" ] \" << std::endl;\n",
    "}\n",
    "int main() {\n",
    "    std::set<int> s;\n",
    "    s.insert(10);\n",
    "    s.insert(50);\n",
    "    s.insert(20);\n",
    "    s.insert(40);\n",
    "    s.insert(30);\n",
    "    \n",
    "    std::cout << \"순서대로 정렬되서 나온다\" << std::endl;\n",
    "    print_set(s);\n",
    "    \n",
    "    std::cout << \"20이 s의 원소인가요? :: \";\n",
    "    auto itr = s.find(20);\n",
    "    if (itr != s.end()) {\n",
    "        std::cout << \"Yes\" << std::endl;\n",
    "    } else {\n",
    "        std::cout << \"No\" << std::endl;\n",
    "    }\n",
    "    \n",
    "    std::cout << \"25가 s의 원소인가요? :: \";\n",
    "    itr = s.find(25);\n",
    "    if (itr != s.end()) {\n",
    "        std::cout << \"Yes\" << std::endl;\n",
    "    } else {\n",
    "        std::cout << \"No\" << std::endl;\n",
    "    }\n",
    "}"
   ]
  },
  {
   "cell_type": "markdown",
   "metadata": {},
   "source": [
    "셋에 저장되어 있는 원소 접근을 위한 반복자는 `BidirectionalIterator`이다.\n",
    "\n",
    "셋에 원소를 추가하거나 지우는 작업은 $O(logN)$에 처리된다. 시퀀스 컨테이너의 경우 임의의 원소를 지우는 작업이 $O(N)$에 수행되었는데, 이에 비하면 훨씬 빠름.\n",
    "\n",
    "시퀀스 컨테이너가 상자 하나에 원소를 한 개씩 담고, 각 상자에 번호를 매긴 것이라면, 셋은 그냥 큰 상자 안에 모든 원소들을 쑤셔 넣은 것이라 보면 됨. 그저 어디에 있냐가 중요한 게 아니라, 그 상자 안에 원소가 '있냐/없냐'만이 중요한 정보. 그래도 실제로 마구 쑤셔 넣지는 않고, 순서를 지키면서 쑤셔 넣는다. 그래서 $O(logN)$인 것.\n",
    "\n",
    "셋은 레드-블랙 트리(균형 이진 트리). 그리고 셋 안에는 중복된 원소들이 없다. 중복된 원소를 허락하고 싶으면 멀티셋."
   ]
  },
  {
   "cell_type": "code",
   "execution_count": null,
   "metadata": {},
   "outputs": [],
   "source": [
    "#include <iostream>\n",
    "#include <set>\n",
    "#include <string>\n",
    "\n",
    "template <typename T>\n",
    "void print_set(std::set<T>& s) {\n",
    "    // 셋의 모든 원소들을 출력하기\n",
    "    std::cout << \"[ \";\n",
    "    for (const auto& elem : s) {\n",
    "        std::cout << elem << \" \" << std::endl;\n",
    "    }\n",
    "    std::cout << \" ] \" << std::endl;\n",
    "}\n",
    "class Todo {\n",
    "    int priority; // 중요도. 높을수록 급한 것!\n",
    "    std::string job_desc;\n",
    "    \n",
    "public:\n",
    "    Todo(int priority, std::string job_desc)\n",
    "        : priority(priority), job_desc(job_desc) {}\n",
    "};\n",
    "int main() {\n",
    "    std::set<Todo> todos;\n",
    "    \n",
    "    todos.insert(Todo(1, \"농구 하기\"));\n",
    "    todos.insert(Todo(2, \"수학 숙제 하기\"));\n",
    "    todos.insert(Todo(1, \"프로그래밍 프로젝트\"));\n",
    "    todos.insert(Todo(3, \"친구 만나기\"));\n",
    "    todos.insert(Todo(2, \"영화 보기\"));\n",
    "}\n",
    "\n",
    "// 컴파일 오류 : operator<가 정의되어 있지 않음.\n",
    "// 그래서,\n",
    "\n",
    "class Todo {\n",
    "    // ...\n",
    "public:\n",
    "    bool operator<(const Todo& t) const {\n",
    "        if (priority == t.priority) {\n",
    "            return job_desc < t.job_desc;\n",
    "        }\n",
    "        return priority > t.priority;\n",
    "    }\n",
    "    friend std::ostream& operator<<(std::ostream& o, const Todo& td);\n",
    "};\n",
    "\n",
    "std::ostream& operator<<(std::ostream& o, const Todo& td) {\n",
    "    o << \"[ 중요도: \" << td.priority << \"] \" << td.job_desc;\n",
    "    return o;\n",
    "}\n",
    "\n",
    "// 이렇게 추가."
   ]
  },
  {
   "cell_type": "markdown",
   "metadata": {},
   "source": [
    "`bool operator<(const ...) const { ... }`\n",
    "\n",
    "셋 내부적으로 정렬 시에 상수 반복자를 사용한다. 상수 반복자는 상수 함수만을 호출할 수 있다.\n",
    "\n",
    "단, 비교하는 수가 같으면 나중에 추가된 것은 셋에 추가되지 않음.\n",
    "\n",
    "* 함수 객체"
   ]
  },
  {
   "cell_type": "code",
   "execution_count": null,
   "metadata": {},
   "outputs": [],
   "source": [
    "class Todo {\n",
    "    // ...\n",
    "    \n",
    "    friend struct TodoCmp;\n",
    "    friend std::ostream& operator<<(std::ostream& o, const Todo& td);\n",
    "};\n",
    "\n",
    "// 함수 객체\n",
    "struct TodoCmp {\n",
    "    bool operator()(const Todo& t1, const Todo& t2) const {\n",
    "        if (t1.priority == t2.priority) {\n",
    "            return t1.job_desc < t2.job_desc;\n",
    "        }\n",
    "        return t1.priority > t2.priority;\n",
    "    }\n",
    "};\n",
    "\n",
    "int main() {\n",
    "    std::set<Todo, TodoCmp> todos; //\n",
    "    // ...\n",
    "}"
   ]
  },
  {
   "cell_type": "markdown",
   "metadata": {},
   "source": [
    "아무튼 셋은 원소 삽입 삭제를 $O(logN)$에 수행한다.\n",
    "\n",
    "## 맵\n",
    "\n",
    "셋과 거의 똑같은 자료구조. 셋은 키만 보관했지만, 맵의 경우 키에 대응하는 값(value)까지도 보관."
   ]
  },
  {
   "cell_type": "code",
   "execution_count": null,
   "metadata": {},
   "outputs": [],
   "source": [
    "#include <iostream>\n",
    "#include <map>\n",
    "#include <string>\n",
    "\n",
    "template <typename K, typename V>\n",
    "void print_map(std::map<K, V>& m) {\n",
    "    // 맵의 모든 원소들을 출력하기\n",
    "    for (auto itr = m.begin(); itr != m.end(); ++itr) {\n",
    "        std::cout << itr->first << \" \" << itr->second << std::endl;\n",
    "    }\n",
    "}\n",
    "\n",
    "int main() {\n",
    "    std::map<std::string, double> pitcher_list;\n",
    "    \n",
    "    pitcher_list.insert(std::pair<std::string, double>(\"박세웅\", 2.23));\n",
    "    pitcher_list.insert(std::pair<std::string, double>(\"해커\", 2.93));\n",
    "    pitcher_list.insert(std::pair<std::string, double>(\"피어밴드\", 2.95));\n",
    "    \n",
    "    pitcher_list.insert(std::make_pair(\"차우찬\", 3.04));\n",
    "    pitcher_list.insert(std::make_pair(\"장원준\", 3.05));\n",
    "    pitcher_list.insert(std::make_pair(\"헥터\", 3.09));\n",
    "    \n",
    "    pitcher_list[\"니퍼트\"] = 3.56;\n",
    "    pitcher_list[\"박종훈\"] = 3.76;\n",
    "    pitcher_list[\"켈리\"] = 3.90;\n",
    "    \n",
    "    print_map(pitcher_list);\n",
    "    \n",
    "    std::cout << \"박세웅 방어율은? :: \" << pitcher_list[\"박세웅\"] << std::endl;\n",
    "}"
   ]
  },
  {
   "cell_type": "markdown",
   "metadata": {},
   "source": [
    "`pitcher_list[\"Foo\"]`와 같이, 맵에 없는 키를 참조하게 되면 자동으로 값의 디폴트 생성자를 호출해서 원소를 추가한다.\n",
    "double의 경우는 0으로 초기화. 그래서 되도록이면 `find` 함수로 원소가 키에 존재하는지 먼저 확인 후에 값을 참조하는 것이 좋다.\n",
    "\n",
    "`m.find(key)`\n",
    "\n",
    "키가 존재하면 그걸 가리키는 반복자 리턴. 만약 키가 존재하지 않는다면 `end()` 리턴.\n",
    "또한 중복된 원소 허락 X, 같은 키가 원소로 들어 있다면 나중에 오는 `insert`는 무시된다.\n",
    "그러니 원소에 대응되는 값을 바꾸고 싶다면 `insert`를 하지 말고, `[]` 연산자로 대응되는 값을 바꿔주면 된다.\n",
    "\n",
    "## 멀티셋과 멀티맵\n",
    "\n",
    "중복된 원소를 허락한다."
   ]
  },
  {
   "cell_type": "code",
   "execution_count": null,
   "metadata": {},
   "outputs": [],
   "source": [
    "#include <iostream>\n",
    "#include <set>\n",
    "#include <string>\n",
    "\n",
    "template <typename K>\n",
    "void print_set(const std::multiset<K>& s) {\n",
    "    // 셋의 모든 원소들을 출력하기\n",
    "    for (const auto& elem : s) {\n",
    "        std::cout << elem << std::endl;\n",
    "    }\n",
    "}\n",
    "\n",
    "int main() {\n",
    "    std::multiset<std::string> s;\n",
    "    \n",
    "    s.insert(\"a\");\n",
    "    s.insert(\"b\");\n",
    "    s.insert(\"a\");\n",
    "    s.insert(\"c\");\n",
    "    s.insert(\"d\");\n",
    "    s.insert(\"c\");\n",
    "    \n",
    "    print_set(s);\n",
    "    // 기존의 set이었다면 a,b,c,d 이렇게 나왔어야 하지만, 멀티셋의 경우는 중복된 원소를 허락하므로 insert한 모든 원소들이 쭈르륵 나옴.\n",
    "}"
   ]
  },
  {
   "cell_type": "code",
   "execution_count": null,
   "metadata": {},
   "outputs": [],
   "source": []
  }
 ],
 "metadata": {
  "kernelspec": {
   "display_name": "C++11",
   "language": "C++11",
   "name": "xcpp11"
  },
  "language_info": {
   "codemirror_mode": "text/x-c++src",
   "file_extension": ".cpp",
   "mimetype": "text/x-c++src",
   "name": "c++",
   "version": "11"
  }
 },
 "nbformat": 4,
 "nbformat_minor": 4
}
