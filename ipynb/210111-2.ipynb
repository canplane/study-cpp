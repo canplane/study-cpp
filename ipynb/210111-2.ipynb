{
 "cells": [
  {
   "cell_type": "markdown",
   "metadata": {},
   "source": [
    "*2021/01/11 Mon*\n",
    "\n",
    "<hr>"
   ]
  },
  {
   "cell_type": "markdown",
   "metadata": {},
   "source": [
    "# 8-1. Excel 만들기 프로젝트 1부\n",
    "\n",
    "\\* 클래스 내부 함수 선언에서 디폴트 인자를 명시했다면 함수 본체에서 명시하면 안 되고, 반대로 함수 본체에서 명시했다면 클래스 내부 함수 선언에 명시하면 안 된다. 즉, 둘 중 한 곳에서만 표시해야 한다."
   ]
  },
  {
   "cell_type": "code",
   "execution_count": null,
   "metadata": {},
   "outputs": [],
   "source": []
  }
 ],
 "metadata": {
  "kernelspec": {
   "display_name": "C++11",
   "language": "C++11",
   "name": "xcpp11"
  },
  "language_info": {
   "codemirror_mode": "text/x-c++src",
   "file_extension": ".cpp",
   "mimetype": "text/x-c++src",
   "name": "c++",
   "version": "11"
  }
 },
 "nbformat": 4,
 "nbformat_minor": 4
}
