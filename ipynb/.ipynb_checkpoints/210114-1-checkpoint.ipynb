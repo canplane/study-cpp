{
 "cells": [
  {
   "cell_type": "markdown",
   "metadata": {},
   "source": [
    "*2021/01/14 Thu*\n",
    "\n",
    "<hr>"
   ]
  },
  {
   "cell_type": "markdown",
   "metadata": {},
   "source": [
    "# 10-1. C++ STL - 벡터(std::vector), 리스트(list), 데크(deque)\n",
    "\n",
    "C++의 표준 템플릿 라이브러리(STL)은 사용하는 것도 엄청 간단한데, 프로그래밍 능률도 100% 향상시킬 수 있는 엄청난 도구.\n",
    "사실, 이 `STL`의 도입으로 C++이 한 발 더 도약한 것도 과언이 아니라 볼 수 있겠다.\n",
    "\n",
    "## C++ 표준 템플릿 라이브러리(Standard Template Library - STL)\n",
    "\n",
    "C++ 표준 라이브러리에는 많은 라이브러리가 있음. 대표적으로,\n",
    "* 입출력 라이브러리(iostream 등등)\n",
    "* 시간 관련 라이브러리(chrono)\n",
    "* 정규표현식 라이브러리(regex)\n",
    "\n",
    "그러나, C++ 템플릿 라이브러리(STL)를 일컫는다면 다음 세 개의 라이브러리를 의미한다.\n",
    "* 임의 타입의 객체를 보관할 수 있는 컨테이너(container)\n",
    "* 컨테이너에 보관된 원소에 접근할 수 있는 반복자(iterator)\n",
    "* 반복자들을 가지고 일련의 작업을 수행하는 알고리즘(algorithm)\n",
    "\n",
    "편지들을 여러 개의 편지함에 넣는다면, \n",
    "* 편지를 보관하는 각각의 편지함들은 '컨테이너'와 같고, \n",
    "* 편지를 보고 원하는 편지함을 찾는 일은 '반복자'가 수행하고, \n",
    "* 그리고 편지들을 편지함에 날짜 순서로 정렬하여 넣는 일이 있다면 '알고리즘'이 수행하는 것.\n",
    "\n",
    "템플릿 덕분에 우리가 다루려는 객체가 어떤 특성을 갖는지 무관하게 라이브러리를 자유롭게 사용할 수 있다.\n",
    "또한 반복자의 도입으로 알고리즘 라이브러리에 필요한 최소한의 코드만을 작성할 수 있게 되었다.\n",
    "예로 들어, M개 종류의 컨테이너와 N개 종류의 알고리즘이 있다면, 이 모든 것을 지원하기 위해 MN개의 알고리즘 코드가 있어야 했다.\n",
    "\n",
    "그러나, 반복자를 이용해서 컨테이너를 추상화시켜서 접근하기 때문에 N개의 알고리즘 코드만으로 M개 종류의 컨테이너를 모두 지원할 수 있게 되었다.\n",
    "\n",
    "## C++ 'STL' 컨테이너 - 벡터(std::vector)"
   ]
  },
  {
   "cell_type": "code",
   "execution_count": null,
   "metadata": {},
   "outputs": [],
   "source": []
  }
 ],
 "metadata": {
  "kernelspec": {
   "display_name": "C++11",
   "language": "C++11",
   "name": "xcpp11"
  },
  "language_info": {
   "codemirror_mode": "text/x-c++src",
   "file_extension": ".cpp",
   "mimetype": "text/x-c++src",
   "name": "c++",
   "version": "11"
  }
 },
 "nbformat": 4,
 "nbformat_minor": 4
}
