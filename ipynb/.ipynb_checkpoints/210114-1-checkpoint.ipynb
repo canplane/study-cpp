{
 "cells": [
  {
   "cell_type": "markdown",
   "metadata": {},
   "source": [
    "*2021/01/14 Thu*\n",
    "\n",
    "<hr>"
   ]
  },
  {
   "cell_type": "markdown",
   "metadata": {},
   "source": [
    "# 10-1. C++ STL - 벡터(std::vector), 리스트(list), 데크(deque)\n",
    "\n",
    "C++의 표준 템플릿 라이브러리(STL)은 사용하는 것도 엄청 간단한데, 프로그래밍 능률도 100% 향상시킬 수 있는 엄청난 도구.\n",
    "사실, 이 `STL`의 도입으로 C++이 한 발 더 도약한 것도 과언이 아니라 볼 수 있겠다.\n",
    "\n",
    "## C++ 표준 템플릿 라이브러리(Standard Template Library - STL)\n",
    "\n",
    "C++ 표준 라이브러리에는 많은 라이브러리가 있음. 대표적으로,\n",
    "* 입출력 라이브러리(iostream 등등)\n",
    "* 시간 관련 라이브러리(chrono)\n",
    "* 정규표현식 라이브러리(regex)\n",
    "\n",
    "그러나, C++ 템플릿 라이브러리(STL)를 일컫는다면 다음 세 개의 라이브러리를 의미한다.\n",
    "* 임의 타입의 객체를 보관할 수 있는 컨테이너(container)\n",
    "* 컨테이너에 보관된 원소에 접근할 수 있는 반복자(iterator)\n",
    "* 반복자들을 가지고 일련의 작업을 수행하는 알고리즘(algorithm)\n",
    "\n",
    "편지들을 여러 개의 편지함에 넣는다면, \n",
    "* 편지를 보관하는 각각의 편지함들은 '컨테이너'와 같고, \n",
    "* 편지를 보고 원하는 편지함을 찾는 일은 '반복자'가 수행하고, \n",
    "* 그리고 편지들을 편지함에 날짜 순서로 정렬하여 넣는 일이 있다면 '알고리즘'이 수행하는 것.\n",
    "\n",
    "템플릿 덕분에 우리가 다루려는 객체가 어떤 특성을 갖는지 무관하게 라이브러리를 자유롭게 사용할 수 있다.\n",
    "또한 반복자의 도입으로 알고리즘 라이브러리에 필요한 최소한의 코드만을 작성할 수 있게 되었다.\n",
    "예로 들어, M개 종류의 컨테이너와 N개 종류의 알고리즘이 있다면, 이 모든 것을 지원하기 위해 MN개의 알고리즘 코드가 있어야 했다.\n",
    "\n",
    "그러나, 반복자를 이용해서 컨테이너를 추상화시켜서 접근하기 때문에 N개의 알고리즘 코드만으로 M개 종류의 컨테이너를 모두 지원할 수 있게 되었다.\n",
    "\n",
    "## C++ 'STL' 컨테이너 - 벡터(std::vector)\n",
    "\n",
    "컨테이너는 크게 두 가지 종류가 있다.\n",
    "* 배열처럼 객체들을 순차적으로 보관하는 시퀀스 컨테이너(sequence container) - `vector`, `list`, `deque`\n",
    "* 키를 바탕으로 대응되는 값을 찾아주는 연관 컨테이너(associative container)\n",
    "\n",
    "vector는 임의 위치에 있는 원소 접근을 $O(1)$로 수행할 수 있다. 맨 뒤에 새로운 원소를 추가하거나 제거하는 것 역시도."
   ]
  },
  {
   "cell_type": "code",
   "execution_count": 5,
   "metadata": {},
   "outputs": [
    {
     "name": "stdout",
     "output_type": "stream",
     "text": [
      "vec의 1 번째 원소 :: 10\n",
      "vec의 2 번째 원소 :: 20\n",
      "vec의 3 번째 원소 :: 30\n",
      "vec의 4 번째 원소 :: 40\n"
     ]
    }
   ],
   "source": [
    "#include <iostream>\n",
    "#include <vector>\n",
    "\n",
    "int main() {\n",
    "    std::vector<int> vec;\n",
    "    vec.push_back(10);\n",
    "    vec.push_back(20);\n",
    "    vec.push_back(30);\n",
    "    vec.push_back(40);\n",
    "    \n",
    "    for (std::vector<int>::size_type i = 0; i < vec.size(); i++) {\n",
    "        std::cout << \"vec의 \" << i + 1 << \" 번째 원소 :: \" << vec[i] << std::endl;\n",
    "    }\n",
    "}\n",
    "// size()는 size_type이라는 멤버 타입"
   ]
  },
  {
   "cell_type": "markdown",
   "metadata": {},
   "source": [
    "맨 뒤에 원소를 추가하는 작업은 엄밀히 말하면 amortized $O(1)$ (amortized : 분할 상환)\n",
    "\n",
    "임의의 위치에 원소를 추가하거나 제거하는 것은 $O(n)$으로 느림.\n",
    "\n",
    "* `[]`, `at` : $O(1)$\n",
    "* `push_back`, `pop_back` : amortized $O(1)$ (평균적으로 $O(1)$, 최악의 경우는 $O(n)$\n",
    "* `insert`, `erase` : $O(n)$"
   ]
  },
  {
   "cell_type": "markdown",
   "metadata": {},
   "source": [
    "## 반복자(iterator)\n",
    "\n",
    "컨테이너에 원소로 접근할 수 있는 포인터와 같은 객체.\n",
    "\n",
    "vector의 경우, begin()(vector의 첫 번째 원소), end()(마지막 원소 한 칸 뒤) -> begin() == end()면 빈 벡터"
   ]
  },
  {
   "cell_type": "code",
   "execution_count": null,
   "metadata": {},
   "outputs": [],
   "source": []
  },
  {
   "cell_type": "markdown",
   "metadata": {},
   "source": [
    "## 범위 기반 for 문(range based for loop)"
   ]
  },
  {
   "cell_type": "code",
   "execution_count": null,
   "metadata": {},
   "outputs": [],
   "source": [
    "for (const auto& elem : vec) {\n",
    "    std::cout << elem << std::endl;\n",
    "}"
   ]
  },
  {
   "cell_type": "markdown",
   "metadata": {},
   "source": [
    "## 리스트 (list)\n",
    "\n",
    "시작, 마지막 원소 위치만을 기억하므로 임의 위치에 바로 접근할 수 없다. 그래서 `[]`, `at` 함수가 정의되어 있지 않음.\n",
    "\n",
    "리스트는 임의 위치에 원소를 추가하는 작업이 $O(1)$"
   ]
  },
  {
   "cell_type": "code",
   "execution_count": null,
   "metadata": {},
   "outputs": [],
   "source": [
    "#include <iostream>\n",
    "#include <list>\n",
    "\n",
    "int main() {\n",
    "    std::list<int> lst;\n",
    "    \n",
    "    lst.push_back(10);\n",
    "    lst.push_back(20);\n",
    "    lst.push_back(30);\n",
    "    lst.push_back(40);\n",
    "    \n",
    "    for (std::list<int>::iterator itr = lst.begin(); itr != lst.end(); ++itr) {\n",
    "        std::cout << *itr << std::endl;\n",
    "    }\n",
    "    // 리스트 반복자의 경우는 itr++, itr--, ++itr, --itr 연산밖에 수행할 수 없다.\n",
    "}"
   ]
  },
  {
   "cell_type": "markdown",
   "metadata": {},
   "source": [
    "리스트의 반복자 타입은 `BidirectionalIterator`, 벡터의 반복자 타입은 `RandomAccessIterator`. (후자는 전자를 상속받고 있다.)"
   ]
  },
  {
   "cell_type": "code",
   "execution_count": null,
   "metadata": {},
   "outputs": [],
   "source": [
    "for (std::list<int>::iterator itr = lst.begin(); itr != lst.end(); ++itr) {\n",
    "    // 만일 현재 원소가 20이라면 그 앞에 50을 집어넣는다.\n",
    "    if (*itr == 20) {\n",
    "        lst.insert(itr, 50);\n",
    "    }\n",
    "}\n",
    "\n",
    "for (std::list<int>::iterator itr = lst.begin(); itr != lst.end(); ++itr) {\n",
    "    // 값이 30인 원소를 삭제한다.\n",
    "    if (*itr == 30) {\n",
    "        lst.erase(itr);\n",
    "        break;\n",
    "    }\n",
    "}"
   ]
  },
  {
   "cell_type": "markdown",
   "metadata": {},
   "source": [
    "erase 함수를 이용하여 원하는 위치에 있는 원소를 지울 수도 있다. 리스트의 경우는 벡터와는 다르게 원소를 지워도 반복자가 무효화되지 않아서, 원소의 주소값들은 바뀌지 않기 때문에!"
   ]
  },
  {
   "cell_type": "markdown",
   "metadata": {},
   "source": [
    "## 덱(deque - double ended queue)"
   ]
  },
  {
   "cell_type": "code",
   "execution_count": null,
   "metadata": {},
   "outputs": [],
   "source": [
    "#include <deque>\n",
    "#include <iostream>\n",
    "\n",
    "template <typename T>\n",
    "void print_queue(std::deque<T>& dq) {\n",
    "    // 전체 덱을 출력하기\n",
    "    std::cout << \"[ \";\n",
    "    for (const auto& elem : dq) {\n",
    "        std::cout << elem << \" \";\n",
    "    }\n",
    "    std::cout << \" ] \" << std::endl;\n",
    "}\n",
    "int main() {\n",
    "    std::deque<int> dq;\n",
    "    dq.push_back(10);\n",
    "    dq.push_back(20);\n",
    "    dq.push_front(30);\n",
    "    dq.push_front(40);\n",
    "    \n",
    "    std::cout << \"초기 dq 상태\" << std::endl;\n",
    "    print_deque(dq);\n",
    "    std::cout << \"맨 앞의 원소 제거\" << std::endl;\n",
    "    dq.pop_front();\n",
    "    print_deque(dq);\n",
    "}\n",
    "main();"
   ]
  }
 ],
 "metadata": {
  "kernelspec": {
   "display_name": "C++11",
   "language": "C++11",
   "name": "xcpp11"
  },
  "language_info": {
   "codemirror_mode": "text/x-c++src",
   "file_extension": ".cpp",
   "mimetype": "text/x-c++src",
   "name": "c++",
   "version": "11"
  }
 },
 "nbformat": 4,
 "nbformat_minor": 4
}
