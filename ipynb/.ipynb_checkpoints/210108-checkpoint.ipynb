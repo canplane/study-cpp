{
 "cells": [
  {
   "cell_type": "markdown",
   "metadata": {},
   "source": [
    "*2021/01/08 Fri*\n",
    "\n",
    "# 4-2. 클래스의 세계로 오신 것을 환영합니다. (함수의 오버로딩, 생성자)"
   ]
  },
  {
   "cell_type": "markdown",
   "metadata": {},
   "source": [
    "## 오버로딩\n",
    "\n",
    "함수의 시그니처 : 함수를 구분하기 위한 구성 요소. 함수의 이름, 매개 변수의 개수, 매개 변수의 자료형"
   ]
  },
  {
   "cell_type": "markdown",
   "metadata": {},
   "source": [
    "* 오버로딩, 매개 변수 형 변환 우선 순위\n",
    "\n",
    "![오버로딩 우선 순위](figures/Screen%20Shot%202021-01-08%20at%203.32.51%20PM.png)\n",
    "\n",
    "* Ambiguous Call\n",
    "\n",
    "```\n",
    "void print(int x) { ... }\n",
    "void print(char x) { ... }\n",
    "...\n",
    "double c = 3.2f;\n",
    "print(c); // 컴파일 오류(ambiguous call to overloaded function) -> 3단계에서 2개 이상의 가능한 일치가 존재하므로\n",
    "```"
   ]
  },
  {
   "cell_type": "markdown",
   "metadata": {},
   "source": [
    "* 간단한 함수가 아니면 선언만 해두고 보통 대부분 클래스 바깥에서 따로 정의. 클래스 크기가 길어져서 보기 좋지 않으니까.\n",
    "\n",
    "```\n",
    "class Date {\n",
    "    public:\n",
    "        // 선언\n",
    "        void AddDay(int inc); // 함수 원형(function prototype)\n",
    "}\n",
    "\n",
    "// 정의\n",
    "void Date::AddDay(int inc) // 함수 헤더(function header)\n",
    "{\n",
    "    ...\n",
    "} // 함수 본체(function body)\n",
    "```"
   ]
  },
  {
   "cell_type": "markdown",
   "metadata": {},
   "source": [
    "## 생성자"
   ]
  },
  {
   "cell_type": "code",
   "execution_count": null,
   "metadata": {},
   "outputs": [],
   "source": [
    "class Date {\n",
    "    public:\n",
    "        Date(int year, int month, int day) {\n",
    "            ...\n",
    "        }\n",
    "        ...\n",
    "}\n",
    "\n",
    "int main() {\n",
    "    Date day(2011, 3, 1); // 암시적 방법 (implicit)\n",
    "    Date day = Date(2011, 3, 1); // 명시적 방법 (explicit)\n",
    "    ...\n",
    "}"
   ]
  },
  {
   "cell_type": "markdown",
   "metadata": {},
   "source": [
    "* Default Constructor\n",
    "\n",
    "```\n",
    "Date day;\n",
    "Date day = Date();\n",
    "Date day(); // 이건 디폴트 생성자가 아니라, 함수를 선언한 것으로 인식.\n",
    "```\n",
    "\n",
    "사용자가 다른 생성자를 추가한 순간 컴파일러는 자동으로 디폴트 생성자를 삽입하지 않음.\n",
    "\n",
    "그리고 아래는 사용자가 임의로 디폴트 생성자 정의한 것.\n",
    "\n",
    "```\n",
    "Date() {\n",
    "    ...\n",
    "}\n",
    "```\n",
    "\n",
    "C++ 11부터는 명시적으로 디폴트 생성자 정의 가능. 까먹고 개발자가 생성자를 넣지 않은 건지 여부를 구분하기 위함.\n",
    "\n",
    "```\n",
    "class Test {\n",
    "    public:\n",
    "        Test() = default; // 디폴트 생성자를 정의해라\n",
    "        // Test();로 하면 밑에 Test::Test() { ... }의 정의 부분이 있다는 의미\n",
    "}\n",
    "```"
   ]
  },
  {
   "cell_type": "markdown",
   "metadata": {},
   "source": [
    "# 4-3. 스타크래프트를 만들자 1 (복사 생성자, 소멸자)"
   ]
  },
  {
   "cell_type": "code",
   "execution_count": null,
   "metadata": {},
   "outputs": [],
   "source": [
    "Marine *marines[100];\n",
    "marines[0] = new Marine(2, 3); // new는 객체를 동적으로 생성하면서 동시에 자동으로 생성자도 호출\n",
    "delete marines[0];\n",
    "\n",
    "char *name;\n",
    "name = new char[strlen(marine_name) + 1]; // new로 배열 할당\n",
    "strcpy(name, marine_name);\n",
    "delete[] name;"
   ]
  },
  {
   "cell_type": "markdown",
   "metadata": {},
   "source": [
    "## 소멸자(Destructor)\n",
    "\n",
    "객체가 생성될 때 자동으로 호출되었던 생성자처럼, 소멸될 때 자동으로 호출되는 함수.\n",
    "\n",
    "흔한 역할로는, 동적으로 할당받은 메모리를 해제하는 일이나 쓰레드 사이에서 lock된 것을 푸는 일이라든지.\n",
    "객체가 다른 부분에 영향을 끼치지 않도록 깔끔하게 소멸되는 일.\n",
    "\n",
    "```\n",
    "class Marine {\n",
    "    public:\n",
    "        Marine();\n",
    "        ~Marine();\n",
    "        ...\n",
    "}\n",
    "\n",
    "Marine::~Marine() { ... } // 소멸자는 인자 X, 오버로딩도 없음.\n",
    "```"
   ]
  },
  {
   "cell_type": "markdown",
   "metadata": {},
   "source": [
    "* Example"
   ]
  },
  {
   "cell_type": "code",
   "execution_count": null,
   "metadata": {},
   "outputs": [],
   "source": [
    "#include <iostream>\n",
    "#include <string.h>\n",
    "\n",
    "class Marine {\n",
    "    int hp;\n",
    "    int coord_x, coord_y;\n",
    "    int damage;\n",
    "    bool is_dead;\n",
    "    char *name;\n",
    "    \n",
    "public:\n",
    "    Marine();\n",
    "    Marine(int x, int y, const char *marine_name);\n",
    "    Marine(int x, int y);\n",
    "    ~Marine();\n",
    "\n",
    "    int attack();\n",
    "    void be_attacked(int damage_earn);\n",
    "    void move(int x, int y);\n",
    "    \n",
    "    void show_status();\n",
    "}\n",
    "Marine::Marine() {\n",
    "    hp = 50;\n",
    "    coord_x = coord_y = 0;\n",
    "    damage = 5;\n",
    "    is_dead = false;\n",
    "    name = NULL;\n",
    "}\n",
    "Marine::Marine(int x, int y, const char* marine_name) {\n",
    "  name = new char[strlen(marine_name) + 1];\n",
    "  strcpy(name, marine_name);\n",
    "\n",
    "  coord_x = x;\n",
    "  coord_y = y;\n",
    "  hp = 50;\n",
    "  damage = 5;\n",
    "  is_dead = false;\n",
    "}\n",
    "Marine::Marine(int x, int y) {\n",
    "  coord_x = x;\n",
    "  coord_y = y;\n",
    "  hp = 50;\n",
    "  damage = 5;\n",
    "  is_dead = false;\n",
    "  name = NULL;\n",
    "}\n",
    "Marine::~Marine() {\n",
    "  std::cout << name << \" 의 소멸자 호출 ! \" << std::endl;\n",
    "  if (name != NULL) {\n",
    "    delete[] name;\n",
    "  }\n",
    "}\n",
    "..."
   ]
  },
  {
   "cell_type": "markdown",
   "metadata": {},
   "source": [
    "## 복사 생성자\n",
    "\n",
    "```T(const T& a);``` -> ```T a2 = a1;```"
   ]
  },
  {
   "cell_type": "code",
   "execution_count": null,
   "metadata": {},
   "outputs": [],
   "source": [
    "// copy constructor : T(const T& a);\n",
    "Photon_Cannon::Photon_Cannon(const Photon_Cannon &pc) {\n",
    "    hp = pc.hp;\n",
    "    shield = pc.shield;\n",
    "    ...\n",
    "}\n",
    "\n",
    "Photon_Cannon pc3 = pc2; // Photon_Cannon pc3(pc2);와 동일. C++ 컴파일러는 이 문장을 복사 생성자를 호출하는 것으로 해석.\n",
    "\n",
    "// 이건 복사 생성자가 아니라 평범한 대입 연산. 복사 생성자는 오직 생성 시에만 호출되는 것.\n",
    "Photon_Cannon pc3;\n",
    "pc3 = pc2;"
   ]
  },
  {
   "cell_type": "markdown",
   "metadata": {},
   "source": [
    "사실 C++ 컴파일러는 이미 **디폴트 복사 생성자**를 지원해주고 있음. 단, shallow copy.\n",
    "\n",
    "그래서 클래스 안에 힙 영역을 가리키는 name 변수가 있고, 소멸자에서 그걸 해제하는 동작을 취하는 것과 같은 상황에서 런타임 오류가 발생 가능. 한 번 해제된 메모리는 다시 해제될 수 없으니까.\n",
    "\n",
    "따라서 이런 상황에서는 deep copy하는 복사 생성자를 직접 만들어야 함."
   ]
  },
  {
   "cell_type": "code",
   "execution_count": null,
   "metadata": {},
   "outputs": [],
   "source": []
  }
 ],
 "metadata": {
  "kernelspec": {
   "display_name": "C++11",
   "language": "C++11",
   "name": "xcpp11"
  },
  "language_info": {
   "codemirror_mode": "text/x-c++src",
   "file_extension": ".cpp",
   "mimetype": "text/x-c++src",
   "name": "c++",
   "version": "11"
  }
 },
 "nbformat": 4,
 "nbformat_minor": 4
}
