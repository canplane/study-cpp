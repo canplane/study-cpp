{
 "cells": [
  {
   "cell_type": "markdown",
   "metadata": {},
   "source": [
    "# 11. C++에서 예외 처리\n",
    "\n",
    "정상적인 상황에서 벗어난 모든 예외적인 상황들을 예외(exception)라 부른다."
   ]
  },
  {
   "cell_type": "code",
   "execution_count": null,
   "metadata": {},
   "outputs": [],
   "source": [
    "std::vector<int> v(3);  // 크기가 3인 벡터 만듦\n",
    "std::cout << v.at(4);  // ??\n",
    "\n",
    "std::vector<int> v(1000000000);  // 큰 메모리를 할당하는 경우\n",
    "// ?"
   ]
  },
  {
   "cell_type": "markdown",
   "metadata": {},
   "source": [
    "## 기존의 예외 처리 방식\n",
    "\n",
    "C 언어에서는 언어 차원에서 제공하는 예외 처리 방식이라는 것이 딱히 따로 존재하지 않았다."
   ]
  },
  {
   "cell_type": "code",
   "execution_count": 1,
   "metadata": {},
   "outputs": [],
   "source": [
    "char *c = (char *)malloc(1000000000);\n",
    "if (c == NULL) {\n",
    "    printf(\"메모리 할당 오류!\");\n",
    "    return;\n",
    "}"
   ]
  },
  {
   "cell_type": "markdown",
   "metadata": {},
   "source": [
    "## 예외 발생시키기 - throw"
   ]
  },
  {
   "cell_type": "code",
   "execution_count": null,
   "metadata": {},
   "outputs": [],
   "source": [
    "template <typename T>\n",
    "class Vector {\n",
    "public:\n",
    "    Vector(size_t size) : size_(size) {\n",
    "        data_ = new T[size_];\n",
    "        for (int i = 0; i < size_; i++) {\n",
    "            data_[i] = 3;\n",
    "        }\n",
    "    }\n",
    "    const T& at(size_t index) const {\n",
    "        if (index >= size_) {\n",
    "            // 예외를 발생시킨다!\n",
    "            throw std::out_of_range(\"vector의 index가 범위를 초과하였습니다.\");\n",
    "        }\n",
    "        return data_[index];\n",
    "    }\n",
    "    ~Vector() { delete[] data_; }\n",
    "\n",
    "private:\n",
    "    T *data_;\n",
    "    size_t size_;\n",
    "};"
   ]
  },
  {
   "cell_type": "markdown",
   "metadata": {},
   "source": [
    "C++ 표준에는 `out_of_range`, `overflow_error`, `length_error`, `runtime_error` 등등 여러 가지가 정의되어 있고, 표준 라이브러리에서 활용되고 있다.\n",
    "\n",
    "예외가 발생하면 예외 처리하는 부분에 도달하기까지 함수를 빠져나가면서, `stack`에 생성되었던 객체들을 빠짐없이 소멸시켜준다. 그래서 소멸자만 제대로 작성하였다면 예외가 발생하여도 사용하고 있는 자원들을 제대로 소멸시킬 수 있다.\n",
    "\n",
    "## 예외 처리하기 - try와 catch"
   ]
  },
  {
   "cell_type": "code",
   "execution_count": 2,
   "metadata": {},
   "outputs": [],
   "source": [
    "#include <iostream>\n",
    "#include <stdexcept>\n",
    "\n",
    "template <typename T>\n",
    "class Vector {\n",
    "public:\n",
    "    Vector(size_t size) : size_(size) {\n",
    "        data_ = new T[size_];\n",
    "        for (int i = 0; i < size_; i++) {\n",
    "            data_[i] = 3;\n",
    "        }\n",
    "    }\n",
    "    const T& at(size_t index) const {\n",
    "        if (index >= size_) {\n",
    "            throw std::out_of_range(\"vector의 index가 범위를 초과하였습니다.\");\n",
    "        }\n",
    "        return data_[index];\n",
    "    }\n",
    "    ~Vector() { delete[] data_; }\n",
    "    \n",
    "private:\n",
    "    T *data_;\n",
    "    size_t size_;\n",
    "};\n",
    "\n",
    "int main() {\n",
    "    Vector<int> vec(3);\n",
    "    \n",
    "    int index, data = 0;\n",
    "    std::cin >> index;\n",
    "    \n",
    "    try {\n",
    "        data = vec.at(index);\n",
    "    } catch (std::out_of_range& e) {\n",
    "        std::cout << \"예외 발생 ! \" << e.what() << std::endl;\n",
    "    }\n",
    "    // 예외가 발생하지 않았다면 3이 출력되고, 예외가 발생하였다면 원래 data에\n",
    "    // 들어가 있던 0이 출력된다.\n",
    "    std::cout << \"읽은 데이터 : \" << data << std::endl;\n",
    "}"
   ]
  },
  {
   "cell_type": "markdown",
   "metadata": {},
   "source": [
    "`out_of_range` : `what()` 함수로 그 값을 들여다 볼 수 있다. 위 경우 우리가 전달한 문장인 \"vector의 index가 범위를 초과하였습니다\"가 나오게 된다.\n",
    "\n",
    "## 스택 풀기(stack unwinding)\n",
    "\n",
    "> 주의 사항 : 생성자에서 예외가 발생 시에는 소멸자가 호출되지 않는다. 따라서 만일 예외를 던지기 전에 획득한 자원이 있다면 `catch`에서 잘 해제시켜 줘야만 한다.\n",
    "\n",
    "## 여러 종류의 예외 받기"
   ]
  },
  {
   "cell_type": "code",
   "execution_count": null,
   "metadata": {},
   "outputs": [],
   "source": [
    "#include <iostream>\n",
    "#include <string>\n",
    "\n",
    "int func(int c) {\n",
    "    if (c == 1) {\n",
    "        throw 10;\n",
    "    } else if (c == 2) {\n",
    "        throw std::string(\"hi!\");\n",
    "    } else if (c == 3) {\n",
    "        throw 'a';\n",
    "    } else if (c == 4) {\n",
    "        throw \"hello!\";\n",
    "    }\n",
    "    return 0;\n",
    "}\n",
    "\n",
    "int main() {\n",
    "    int c;\n",
    "    std::cin >> c;\n",
    "    \n",
    "    try {\n",
    "        func(c);\n",
    "    } catch (char x) {\n",
    "        std::cout << \"Char : \" << x << std::endl;\n",
    "    } catch (int x) {\n",
    "        std::cout << \"Int : \" << x << std::endl;\n",
    "    } catch (const char *s) {\n",
    "        std::cout << \"String Literal : \" << s << std::endl;\n",
    "    }\n",
    "}"
   ]
  },
  {
   "cell_type": "markdown",
   "metadata": {},
   "source": [
    "흥미로운 점은, 기반 클래스와 파생 클래스의 경우 처리하는 방식."
   ]
  },
  {
   "cell_type": "code",
   "execution_count": null,
   "metadata": {},
   "outputs": [],
   "source": [
    "#include <exception>\n",
    "#include <iostream>\n",
    "\n",
    "class Parent : public std::exception {\n",
    "public:\n",
    "    virtual const char *what() const noexcept override { return \"Parent!\\n\" }\n",
    "};\n",
    "\n",
    "class Child : public Parent {\n",
    "public:\n",
    "    const char *what() const noexcept override { return \"Child!\\n\" }\n",
    "};\n",
    "\n",
    "int func(int c) {\n",
    "    if (c == 1) {\n",
    "        throw Parent();\n",
    "    } else if (c == 2) {\n",
    "        throw Child();\n",
    "    }\n",
    "    return 0;\n",
    "}\n",
    "\n",
    "int main() {\n",
    "    int c;\n",
    "    std::cin >> c;\n",
    "    \n",
    "    try {\n",
    "        func(c);\n",
    "    } catch (Parent& p) {\n",
    "        std::cout << \"Parent Catch!\" << std::endl;\n",
    "        std::cout << p.what();\n",
    "    } catch (Child& c) {\n",
    "        std::cout << \"Child Catch!\" << std::endl;\n",
    "        std::cout << c.what();\n",
    "    }\n",
    "}"
   ]
  },
  {
   "cell_type": "markdown",
   "metadata": {},
   "source": [
    "\\- 실행 결과\n",
    "\n",
    "```\n",
    "1\n",
    "Parent Catch!\n",
    "Parent!\n",
    "2\n",
    "Parent Catch!  // ?\n",
    "Child!\n",
    "```\n",
    "\n",
    "`catch` 문의 경우는 가장 먼저 대입될 수 있는 객체를 받기 때문. 이 같은 문제를 방지하기 위해서는 언제나 `Parent catch`를 `Child catch`보다 뒤에 써주는 것이 좋다.\n",
    "\n",
    "## 모든 예외 받기\n",
    "\n",
    "만약 어떤 예외를 throw했는데, 이를 받는 `catch`가 없다면 런타임 에러. 프로그램이 비정상적으로 종료. 이를 방지하기 위해,"
   ]
  },
  {
   "cell_type": "code",
   "execution_count": null,
   "metadata": {},
   "outputs": [],
   "source": [
    "try {\n",
    "    // ...\n",
    "} catch (int e) {\n",
    "    // ...\n",
    "} catch (...) {  //\n",
    "    // ...\n",
    "}"
   ]
  },
  {
   "cell_type": "markdown",
   "metadata": {},
   "source": [
    "## 예외를 발생시키지 않는 함수 - noexcept\n",
    "\n",
    "만약 어떤 함수가 예외를 발생시키지 않는다면 `noexcept`를 통해 명시할 수 있다."
   ]
  },
  {
   "cell_type": "code",
   "execution_count": null,
   "metadata": {},
   "outputs": [],
   "source": [
    "#include <iostream>\n",
    "\n",
    "int foo() noexcept {}\n",
    "\n",
    "int bar(int x) noexcept { throw 1; }\n",
    "// (경고는 뜨지만) 문제 없이 컴파일한다. 컴파일러가 곧이곧대로 믿는 것.\n",
    "// 대신 noexcept로 명시된 함수가 예외를 발생시키게 된다면 예외가 제대로 처리되지 않고 프로그램이 종료된다.\n",
    "\n",
    "int main() { foo(); }"
   ]
  },
  {
   "cell_type": "markdown",
   "metadata": {},
   "source": [
    "`noexcept` 키워드를 왜 붙이는 것인가? 단순히 프로그래머가 컴파일러에게 주는 힌트. 이를 통해 컴파일러는 여러 가지 추가적인 최적화를 수행할 수 있다.\n",
    "\n",
    "주의 사항 : C++ 11에서부터 소멸자들은 기본적으로 `noexcept`이다. 절대로 소멸자에서 예외를 던지면 안된다."
   ]
  },
  {
   "cell_type": "markdown",
   "metadata": {},
   "source": [
    "<hr>"
   ]
  },
  {
   "cell_type": "markdown",
   "metadata": {},
   "source": [
    "# 12-1. 우측값 레퍼런스와 이동 생성자\n",
    "# 12-2. Move 문법(std::move semantics)과 완벽한 전달(perfect forwarding)\n",
    "\n",
    "*(210126-1.ipynb)*"
   ]
  },
  {
   "cell_type": "code",
   "execution_count": null,
   "metadata": {},
   "outputs": [],
   "source": []
  }
 ],
 "metadata": {
  "kernelspec": {
   "display_name": "C++11",
   "language": "C++11",
   "name": "xcpp11"
  },
  "language_info": {
   "codemirror_mode": "text/x-c++src",
   "file_extension": ".cpp",
   "mimetype": "text/x-c++src",
   "name": "c++",
   "version": "11"
  }
 },
 "nbformat": 4,
 "nbformat_minor": 4
}
