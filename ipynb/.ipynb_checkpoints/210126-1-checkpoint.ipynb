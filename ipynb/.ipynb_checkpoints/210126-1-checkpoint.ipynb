{
 "cells": [
  {
   "cell_type": "markdown",
   "metadata": {},
   "source": [
    "*2021/01/26 Tue*\n",
    "\n",
    "<hr>"
   ]
  },
  {
   "cell_type": "markdown",
   "metadata": {},
   "source": [
    "# 12-1. 우측값 레퍼런스와 이동 생성자\n",
    "\n",
    "## 복사 생략(Copy Elision)"
   ]
  },
  {
   "cell_type": "code",
   "execution_count": null,
   "metadata": {},
   "outputs": [],
   "source": [
    "#include <iostream>\n",
    "\n",
    "class A {\n",
    "    int data_;\n",
    "    \n",
    "public:\n",
    "    A(int data) : data_(data) { std::cout << \"일반 생성자 호출!\" << std::endl; }\n",
    "    \n",
    "    A(const A& a) : data_(a.data_) {\n",
    "        std::cout << \"복사 생성자 호출!\" << std::endl;\n",
    "    }\n",
    "};\n",
    "\n",
    "int main() {\n",
    "    A a(1);  // 일반 생성자 호출\n",
    "    A b(a);  // 복사 생성자 호출\n",
    "    \n",
    "    // 그렇다면 이것은?\n",
    "    A c(A(2));\n",
    "}"
   ]
  },
  {
   "cell_type": "markdown",
   "metadata": {},
   "source": [
    "\\- 실행 결과\n",
    "```\n",
    "일반 생성자 호출!\n",
    "복사 생성자 호출!\n",
    "일반 생성자 호출!  // 뭔가 예상했던 것과 조금 다르다!\n",
    "```\n",
    "\n",
    "똑똑한 컴파일러는 복사를 생략(copy elision)하여 임시로 만들어진 `A(2)`를 `c`로 만들어 버릴 수 있다."
   ]
  },
  {
   "cell_type": "code",
   "execution_count": null,
   "metadata": {},
   "outputs": [],
   "source": [
    "#include <iostream>\n",
    "#include <cstring>\n",
    "\n",
    "class MyString {\n",
    "    char *string_content;  // 문자열 데이터를 가리키는 포인터\n",
    "    int string_length;  // 문자열 길이\n",
    "    \n",
    "    int memory_capacity;  // 현재 할당된 용량\n",
    "    \n",
    "public:\n",
    "    MyString();\n",
    "    \n",
    "    // 문자열로부터 생성\n",
    "    MyString(const char *str);\n",
    "    \n",
    "    // 복사 생성자\n",
    "    MyString(const MyString& str);\n",
    "    \n",
    "    void reserve(int size);\n",
    "    MyString operator+(const MyString &s);\n",
    "    ~MyString();\n",
    "    \n",
    "    int length() const;\n",
    "    \n",
    "    void print();\n",
    "    void println();\n",
    "};\n",
    "\n",
    "MyString::MyString() {\n",
    "    std::cout << \"생성자 호출 !\" << std::endl;\n",
    "    string_length = 0;\n",
    "    memory_capacity = 0;\n",
    "    string_content = nullptr;\n",
    "}\n",
    "MyString::MyString(const char *str) {\n",
    "    std::cout << \"생성자 호출!\" << std::endl;\n",
    "    string_length = strlen(str);\n",
    "    memory_capacity = string_length;\n",
    "    string_content = new char[string_length];\n",
    "    \n",
    "    for (int i = 0; i != string_length; i++) string_content[i] = str[i];\n",
    "}\n",
    "MyString::MyString(const MyString &str) {\n",
    "    std::cout << \"복사 생성자 호출 !\" << std::endl;\n",
    "    string_length = str.string_length;\n",
    "    memory_capacity = str.string_length;\n",
    "    string_content = new char[string_length];\n",
    "    \n",
    "    for (int i = 0; i != string_length; i++)\n",
    "        string_content[i] = str.string_content[i];\n",
    "}\n",
    "MyString::~MyString() { delete[] string_content; }\n",
    "void MyString::reserve(int size) {\n",
    "    if (size > memory_capacity) {\n",
    "        char *prev_string_content = string_content;\n",
    "        \n",
    "        string_content = new char[size];\n",
    "        memory_capacity = size;\n",
    "        \n",
    "        for (int i = 0; i != string_length; i++)\n",
    "            string_content[i] = prev_string_content[i];\n",
    "        \n",
    "        if (prev_string_content != nullptr) delete[] prev_string_content;\n",
    "    }\n",
    "}\n",
    "MyString MyString::operator+(const MyString &s) {\n",
    "    MyString str;\n",
    "    str.reserve(string + s.string_length);\n",
    "    for (int i = 0; i < string_length; i++)\n",
    "        str.string_content[i] = prev_string_content[i];\n",
    "    for (int i = 0; i < s.string_length; i++)\n",
    "        str.string_content[string_length + i] = s.string_content[i];\n",
    "    str.string_length = string_length + s.string_length;\n",
    "    return str;\n",
    "}\n",
    "int MyString::length() const { return string_length; }\n",
    "void MyString::print() {\n",
    "    for (int i = 0; i != string_length; i++) std::cout << string_content[i];\n",
    "}\n",
    "void MyString::println() {\n",
    "    for (int i = 0; i != string_length; i++) std::cout << string_content[i];\n",
    "    \n",
    "    std::cout << std::endl;\n",
    "}\n",
    "\n",
    "int main() {\n",
    "    MyString str1(\"abc\");\n",
    "    MyString str2(\"def\");\n",
    "    std::cout << \"-------------\" << std::endl;\n",
    "    MyString str3 = str1 + str2;\n",
    "    str3.println();\n",
    "}"
   ]
  },
  {
   "cell_type": "markdown",
   "metadata": {},
   "source": [
    "\\- 실행 결과\n",
    "```\n",
    "생성자 호출 !\n",
    "생성자 호출 !\n",
    "------------\n",
    "생성자 호출 !\n",
    "복사 생성자 호출 !  // 복사 생략 최적화를 수행하지 않았음.\n",
    "```\n",
    "\n",
    "만약 `str1`, `str2`의 크기가 엄청 컸다면 쓸 데 없는 복사를 두 번 하는 데 상당한 자원이 소모될 것. 해결 방법은?\n",
    "\n",
    "## 좌측값(lvalue)와 우측값(rvalue)"
   ]
  },
  {
   "cell_type": "code",
   "execution_count": 1,
   "metadata": {},
   "outputs": [],
   "source": [
    "int a = 3;"
   ]
  },
  {
   "cell_type": "markdown",
   "metadata": {},
   "source": [
    "`&`와 같이 주소값을 취할 수 있는, 실체가 있는 값을 좌측값(lvalue)라 부르고, 좌측값은 어떠한 표현식의 왼쪽 오른쪽 모두에 올 수 있다.\n",
    "\n",
    "주소를 취할 수 없는, 실체가 없는 값은 우측값(rvalue), 우측값은 식의 오른쪽에만 존재해야 한다."
   ]
  },
  {
   "cell_type": "code",
   "execution_count": null,
   "metadata": {},
   "outputs": [],
   "source": [
    "int& func1(int& a) { return a; }\n",
    "int func2(int b) { return b; }\n",
    "\n",
    "int main() {\n",
    "    int a = 3;\n",
    "    func1(a) = 4;  //\n",
    "    std::cout << &func1(a) << std::endl;\n",
    "    \n",
    "    int b = 2;\n",
    "    a = func2(b);  // 가능\n",
    "    func2(b) = 5;  // 오류 1\n",
    "    std::cout << &func2(b) << std::endl;  // 오류 2\n",
    "}"
   ]
  },
  {
   "cell_type": "code",
   "execution_count": null,
   "metadata": {},
   "outputs": [],
   "source": [
    "MyString str3 = str1 + str2;\n",
    "// MyString str3(str1.operator+(str2)); 와 동일"
   ]
  },
  {
   "cell_type": "markdown",
   "metadata": {},
   "source": [
    "그런데 `operator+`는 우측값을 리턴하고 있는데, 이 우측값이 어떻게 좌측값 레퍼런스를 인자로 받는 `MyString(const MyString &str);`을 호출할 수 있었을까? 이는 `&`가 <u>좌측값 레퍼런스</u>를 의미하지만, 예외적으로 `const T&`의 타입에 한해서만, 우측값도 레퍼런스로 받을 수 있다. 그 이유는 `const` 레퍼런스이기 때문에 임시로 존재하는 객체의 값을 참조만 할 뿐 이를 변경할 수는 없기 때문.\n",
    "\n",
    "## 그렇다면 이동은 어떻게?\n",
    "\n",
    "`MyString`에서 지적한 문제를 해결할 생성자의 경우, 어떠한 방식으로 작동해야 할까? 간단하다.\n",
    "`str3` 생성 시에 임시로 생성된 객체의 `string_content`를 가리키는 문자열의 주소값을 `str3`의 `string_content`로 해 주면 된다.\n",
    "\n",
    "문제는 이렇게 하게 되면, 임시 객체가 소멸 시에 `string_content`를 메모리에서 해제하게 되는데, 그렇게 되면 `str3`가 가리키고 있던 문자열이 메모리에서 소멸된다. 이를 방지하기 위해서는 임시 생성된 객체의 `string_content`를 `nullptr`로 바꿔주고, 소멸자에서 `string_content`가 `nullptr`이면 소멸하지 않도록 해주면 된다.\n",
    "\n",
    "그러나, 이 방법은 기존의 복사 생성자에서 사용할 수 없다. 왜냐하면 인자를 `const MyString&`으로 받았기 때문에 인자의 값을 변경할 수 없어서. 즉 임시 객체의 `string_content` 값을 수정할 수 없기에 문제가 된다.\n",
    "\n",
    "이와 같은 문제가 발생한 이유는 `const MyString&`이 좌측값과 우측값 모두 받을 수 있다는 점에서 비롯되었다. 그렇다면, 좌측값 말고 우측값만 특이적으로 받을 수 있는 방법은 없을까? 바로 C++ 11부터 제공하는 <u>우측값 레퍼런스</u>를 이용하면 된다.\n",
    "\n",
    "## 우측값 레퍼런스"
   ]
  },
  {
   "cell_type": "code",
   "execution_count": null,
   "metadata": {},
   "outputs": [],
   "source": [
    "class MyString {\n",
    "    // ...\n",
    "    MyString(MyString &&str);  //\n",
    "};\n",
    "// ...\n",
    "MyString::MyString(MyString &&str) {\n",
    "    std::cout << \"이동 생성자 호출 !\" << std::endl;\n",
    "    string_length = str.string_length;\n",
    "    string_content = str.string_content;\n",
    "    memory_capacity = str.memory_capacity;\n",
    "    \n",
    "    // 임시 객체 소멸 시에 메모리를 해제하지 못하게 한다.\n",
    "    str.string_content = nullptr;\n",
    "}\n",
    "MyString::~MyString() {\n",
    "    if (string_content) delete[] string_content;\n",
    "}\n",
    "\n",
    "int main() {\n",
    "    MyString str1(\"abc\");\n",
    "    MyString str2(\"def\");\n",
    "    \n",
    "    std::cout << \"--------\" << std::endl;\n",
    "    MyString str3 = str1 + str2;\n",
    "    str3.println();\n",
    "}"
   ]
  },
  {
   "cell_type": "markdown",
   "metadata": {},
   "source": [
    "\\- 실행 결과\n",
    "```\n",
    "생성자 호출 !\n",
    "생성자 호출 !\n",
    "--------\n",
    "생성자 호출 !\n",
    "이동 생성자 호출 !\n",
    "abcdef\n",
    "```\n",
    "\n",
    "우측값의 레퍼런스를 정의하기 위해서는 좌측값과는 달리 `&&`를 사용해서 정의한다. 그러나, 위에서 `str` 자체는 좌측값.(`str`이란 이름이 있으므로) 다시 말해 `str`은 타입이 `MyString`인 우측값 레퍼런스인 좌측값인 것이다. 따라서 표현식의 좌측에 올 수도 있다."
   ]
  },
  {
   "cell_type": "code",
   "execution_count": null,
   "metadata": {},
   "outputs": [],
   "source": [
    "int a;\n",
    "\n",
    "int& l_a = a;\n",
    "int& ll_a = 3;  // 불가능\n",
    "\n",
    "int&& r_b = 3;\n",
    "int&& rr_b = a;  // 불가능 : 우측값 레퍼런스의 경우 반드시 우측값의 레퍼런스만 가능. a는 좌측값이므로 컴파일되지 않음."
   ]
  },
  {
   "cell_type": "markdown",
   "metadata": {},
   "source": [
    "우측값 레퍼런스의 재미있는 특징으로는, 레퍼런스하는 임시 객체가 소멸되지 않도록 붙들고 있는다는 점."
   ]
  },
  {
   "cell_type": "code",
   "execution_count": null,
   "metadata": {},
   "outputs": [],
   "source": [
    "MyString&& str3 = str1 + str2;\n",
    "str3.println();\n",
    "// str3이 str1 + str2에서 리턴되는 임시 객체의 레퍼런스가 되면서 그 임시 객체가 소멸되지 않도록 한다."
   ]
  },
  {
   "cell_type": "markdown",
   "metadata": {},
   "source": [
    "## 이동 생성자 작성 시 주의할 점\n",
    "\n",
    "만약 위와 같은 `MyString`을 C++ 컨테이너들, 예를 들어 `vector`에 넣기 위해서는 한 가지 주의해야 할 점이 있다. 바로 이동 생성자를 반드시 `noexcept`로 명시해야 한다는 것.\n",
    "\n",
    "`vector`를 생각해보자. `vector`는 새로운 원소를 추가할 때, 할당해놓은 메모리가 부족하다면 새로운 메모리를 할당한 후에 기존에 있던 원소들을 새로운 메모리로 옮기게 된다.\n",
    "\n",
    "복사 생성자를 사용할 때 원소를 복사 과정에서 예외가 발생하면 그냥 새로 할당해놓은 메모리를 소멸시킨 후 사용자에게 예외를 전달하면 된다.\n",
    "\n",
    "그러나 이동 생성자를 사용한 경우에는 예외가 발생하면 꽤 골치아파진다. 이동 중에 예외가 발생하면 섯불리 새로 할당한 메모리를 해제해버릴 수 없기 때문. 그래서 `vector`는 이동 생성자가 `noexcept`가 아닌 이상 이동 생성자를 사용하지 않는다. C++의 다른 컨테이너도 동일."
   ]
  },
  {
   "cell_type": "markdown",
   "metadata": {},
   "source": [
    "<hr>"
   ]
  },
  {
   "cell_type": "markdown",
   "metadata": {},
   "source": [
    "# 12-2. Move 문법(std::move semantics)과 완벽한 전달(perfect forwarding)\n",
    "\n",
    "우측값 레퍼런스를 통해서, 기존에 불가능하였던 우측값에 대한 복사가 아닌 이동의 구현이 가능하게 되었다.(우측값은 단순히 대입 이후 사라지는 값이므로 복사 생성자를 이용하면 오버헤드가 있었음.)\n",
    "\n",
    "하지만, 만약 좌측값도 이동을 시키고 싶다면?"
   ]
  },
  {
   "cell_type": "code",
   "execution_count": null,
   "metadata": {},
   "outputs": [],
   "source": [
    "template <typename T>\n",
    "void my_swap(T &a, T &b) {\n",
    "    T tmp(a);\n",
    "    a = b;\n",
    "    b = tmp;\n",
    "}"
   ]
  },
  {
   "cell_type": "markdown",
   "metadata": {},
   "source": [
    "위 `my_swap` 함수에서 `tmp`라는 임시 객체를 생성하는 식으로 하면 무려 복사를 쓸데없이 3번이 한다는 것. 예로 들어 `T`가 `MyString`인 경우를 생각해보자.\n",
    "\n",
    "문자열 내용을 복사할 필요 없이 각 `MyString` 객체의 `string_content` 주소값(포인터)만 바꿔주면 되는데, 문자열 내용을 계속 복사하게 된다.\n",
    "\n",
    "그런데 `my_swap`에서 이를 구현하는 건 문제가 있다. 일단 `my_swap`은 임의의 타입을 받는 함수(generic)다. 일반적인 타입 `T`에 대해 작동해야 한다는 의미. 그러나 `string_content`의 경우는 `MyString`에만 존재하는 필드이므로 일반적인 타입 `T`에 대해서는 작동하지 않음. 그러면 템플릿 특수화를 쓰면 될 것이다.\n",
    "\n",
    "```\n",
    "template <>\n",
    "void my_swap(MyString &a, MyString &b) {\n",
    "    // ...\n",
    "}\n",
    "```\n",
    "\n",
    "문제는 `string_content`가 `private`이므로 `MyString` 내부에 `swap` 관련한 함수를 만들어야 함. 사실 이렇게 된다면 굳이 `my_swap`이라는 함수를 정의할 필요가 없게 된다.\n",
    "\n",
    "이 문제를 원래의 `my_swap` 함수를 사용하면서 좀 더 깔끔하게 해결할 수 있는 방법은 없을까?\n",
    "\n",
    "`T tmp(a);`\n",
    "\n",
    "먼저 기존의 `my_swap` 함수를 다시 살펴보면, 우리는 위 문장이 복사 생성자 대신에 이동 생성자가 되기를 원한다. 왜냐히면 `tmp`를 복사 생성할 필요 없이, 단순히 `a`를 잠깐 옮겨놓기만 하면 되기 때문. 근데, 문제는 `a`가 좌측값이라는 것.(`a`라는 실체가 있으므로) 따라서 지금 상태로는 우리가 무얼 해도 이동 생성자는 오버로딩되지 않는다.\n",
    "\n",
    "그렇다면 좌측값이 우측값으로 취급될 수 있게 바꿔주는 함수는 없을까?\n",
    "\n",
    "## move 함수(move semantics)\n",
    "\n",
    "다행히 C++ 11부터 `<utility>` 라이브러리에서 좌측값을 우측값으로 바꾸어주는 `move` 함수를 제공하고 있다."
   ]
  },
  {
   "cell_type": "code",
   "execution_count": null,
   "metadata": {},
   "outputs": [],
   "source": [
    "#include <iostream>\n",
    "#include <utility>\n",
    "\n",
    "class A {\n",
    "public:\n",
    "    A() { std::cout << \"일반 생성자 호출!\" << std::endl; }\n",
    "    A(const A& a) { std::cout << \"복사 생성자 호출!\" << std::endl; }\n",
    "    A(A&& a) { std::cout << \"이동 생성자 호출!\" << std::endl; }\n",
    "};\n",
    "\n",
    "int main() {\n",
    "    A a;\n",
    "    A b(a);  // a가 이름이 있는 좌측값이므로 좌측값 레퍼런스가 참조한다.\n",
    "    A c(std::move(a));  // std::move 함수는 인자로 받은 객체를 우측값으로 변환해서 리턴\n",
    "}"
   ]
  },
  {
   "cell_type": "markdown",
   "metadata": {},
   "source": [
    "\\- 실행 결과\n",
    "```\n",
    "일반 생성자 호출!\n",
    "복사 생성자 호출!\n",
    "이동 생성자 호출!\n",
    "```\n",
    "\n",
    "`std::move`는 이름만 보면 무언가 이동시킬 것 같지만 실제로는 단순한 타입 변환만 수행한다.(이동을 수행하지 않고, 단지 인자로 받은 객체를 우측값으로 캐스팅할 뿐이다.)\n",
    "\n",
    "\\+ *비야네 스트롭스트룹은 move라고 이름 지은 것을 후회했다고 한다. 더 적절한 이름은 rvalue와 같은 것이 될 것.*\n",
    "\n",
    "이것을 우리의 `MyString`에 적용해 보자."
   ]
  },
  {
   "cell_type": "code",
   "execution_count": null,
   "metadata": {},
   "outputs": [],
   "source": [
    "#include <iostream>\n",
    "#include <cstring>\n",
    "\n",
    "class MyString {\n",
    "    char *string_content;  // 문자열 데이터를 가리키는 포인터\n",
    "    int string_length;  // 문자열 길이\n",
    "    \n",
    "    int memory_capacity;  // 현재 할당된 용량\n",
    "    \n",
    "public:\n",
    "    MyString();\n",
    "    \n",
    "    // 문자열로부터 생성\n",
    "    MyString(const char *str);\n",
    "    \n",
    "    // 복사 생성자\n",
    "    MyString(const MyString &str);\n",
    "    \n",
    "    // 일반적인 대입 연산자\n",
    "    MyString &operator=(const MyString &s);\n",
    "    \n",
    "    // 이동 대입 연산자\n",
    "    MyString &operator=(MyString&& s);\n",
    "    \n",
    "    ~MyString();\n",
    "    \n",
    "    int length() const;\n",
    "    \n",
    "    void println();\n",
    "};\n",
    "\n",
    "MyString::MyString() {\n",
    "    std::cout << \"생성자 호출 !\" << std::endl;\n",
    "    string_length = 0;\n",
    "    memory_capacity = 0;\n",
    "    string_content = NULL;\n",
    "}\n",
    "MyString::MyString(const char *str) {\n",
    "    std::cout << \"생성자 호출 !\" << std::endl;\n",
    "    string_length = strlen(str);\n",
    "    memory_capacity = string_length;\n",
    "    string_content = new char[string_length];\n",
    "    \n",
    "    for (int i = 0; i != string_length; i++) string_content[i] = str[i];\n",
    "}\n",
    "MyString::MyString(const MyString &str) {\n",
    "    std::cout << \"복사 생성자 호출 !\" << std::endl;\n",
    "    string_length = str.string_length;\n",
    "    string_content = new char[string_length];\n",
    "    \n",
    "    for (int i = 0; i != string_length; i++)\n",
    "        string_content[i] = str.string_content[i];\n",
    "}\n",
    "MyString::MyString(MyString &&str) {\n",
    "    std::cout << \"이동 생성자 호출 !\" << std::endl;\n",
    "    string_length = str.string_length;\n",
    "    string_content = str.string_content;\n",
    "    memory_capacity = str.memory_capacity;\n",
    "    \n",
    "    // 임시 객체 소멸 시에 메모리를 해제하지 못하게 한다.\n",
    "    str.string_content = nullptr;\n",
    "    str.string_length = 0;\n",
    "    str.memory_capacity = 0;\n",
    "}\n",
    "MyString::~MyString() {\n",
    "    if (string_content) delete[] string_content;\n",
    "}\n",
    "MyString &MyString::operator=(const MyString &s) {\n",
    "    std::cout << \"복사!\" << std::endl;\n",
    "    if (s.string_length > memory_capacity) {\n",
    "        delete[] string_content;\n",
    "        string_content = new char[s.string_length];\n",
    "        memory_capacity = s.string_length;\n",
    "    }\n",
    "    string_length = s.string_length;\n",
    "    for (int i = 0; i != string_length; i++) {\n",
    "        string_content[i] = s.string_content[i];\n",
    "    }\n",
    "    \n",
    "    return *this;\n",
    "}\n",
    "MyString& MyString::operator=(MyString&& s) {  // 이동 대입 연산자\n",
    "    std::cout << \"이동!\" << std::endl;\n",
    "    string_content = s.string_content;\n",
    "    memory_capacity = s.memory_capacity;\n",
    "    string_length = s.string_length;\n",
    "    \n",
    "    s.string_content = nullptr;\n",
    "    s.memory_capacity = 0;\n",
    "    s.string_length = 0;\n",
    "    return *this;\n",
    "}\n",
    "int MyString::length() const { return string_length; }\n",
    "void MyString::println() {\n",
    "    for (int i = 0; i != string_length; i++) std::cout << string_content[i];\n",
    "    \n",
    "    std::cout << std::endl;\n",
    "}\n",
    "\n",
    "template <typename T>\n",
    "void my_swap(T &a, T &b) {  // 이동 생성이기 때문에 기존의 복사 생성보다 훨씬 빠르게 수행.\n",
    "    T tmp(std::move(a));\n",
    "    a = std::move(b);\n",
    "    b = std::move(tmp);\n",
    "}\n",
    "int main() {\n",
    "    MyString str1(\"abc\");\n",
    "    MyString str2(\"def\");\n",
    "    std::cout << \"Swap 전 ------\" << std::endl;\n",
    "    std::cout << \"str1 : \";\n",
    "    str1.println();\n",
    "    std::cout << \"str2 : \";\n",
    "    str2.println();\n",
    "    \n",
    "    std::cout << \"Swap 후 ------\" << std::endl;\n",
    "    my_swap(str1, str2);\n",
    "    std::cout << \"str1 : \";\n",
    "    str1.println();\n",
    "    std::cout << \"str2 : \";\n",
    "    str2.println();\n",
    "}"
   ]
  },
  {
   "cell_type": "markdown",
   "metadata": {},
   "source": [
    "\\- 주의 사항\n",
    "\n",
    "데이터가 이동되는 과정은 위와 같이 정의한 이동 생성자나 이동 대입 연산자를 호출할 때 수행되는 것이지, `std::move`를 한 시점에서 수행되는 것이 아니다! 다시 말해, 이동 자체는 `std::move`를 실행함으로써 발생하는 것이 아니라 우측값을 받는 함수들이 오버로딩되면서 수행되는 것이다.\n",
    "\n",
    "## 퀴즈"
   ]
  },
  {
   "cell_type": "code",
   "execution_count": null,
   "metadata": {},
   "outputs": [],
   "source": [
    "class A {\n",
    "public:\n",
    "    A() { std::cout << \"ctor\\n\"; }\n",
    "    A(const A& a) { std::cout << \"copy ctor\\n\"; }\n",
    "    A(A&& a) { std::cout << \"move ctor\\n\"; }\n",
    "};\n",
    "class B {\n",
    "public:\n",
    "    A a_;\n",
    "};\n",
    "\n",
    "int main() {\n",
    "    A a;\n",
    "    B b(/* ?? */);\n",
    "}"
   ]
  },
  {
   "cell_type": "markdown",
   "metadata": {},
   "source": [
    "클래스 `A`는 어떠한 종류의 생성자가 호출되는지 나타내고 있는 단순한 클래스. 그리고 클래스 `B`에는 그냥 `A` 객체를 보관하고 있다.\n",
    "\n",
    "만약 `B` 객체를 생성할 때, 이미 생성되어 있는 `A` 객체를 `B`의 객체 안으로 집어넣고 싶다면 어떨까? 위와 같이 이미 `A` 객체인 `a`가 생성되어 있는데, 아래에서 `B` 객체인 `b`를 생성하면서 `a`를 `B`에 이동시켜야 한다. 그러면 `B`의 생성자를 어떠한 방식으로 작성해야 하는가?\n",
    "\n",
    "* 첫 번째 시도"
   ]
  },
  {
   "cell_type": "code",
   "execution_count": null,
   "metadata": {},
   "outputs": [],
   "source": [
    "class B {\n",
    "public:\n",
    "    B(const A& a) : a_(a) {}\n",
    "    A a_;\n",
    "};\n",
    "\n",
    "int main() {\n",
    "    A a;\n",
    "    B b(a); //\n",
    "}"
   ]
  },
  {
   "cell_type": "markdown",
   "metadata": {},
   "source": [
    "\\- 실행 결과\n",
    "```\n",
    "ctor\n",
    "copy ctor  // 복사 생성자 호출!\n",
    "```\n",
    "\n",
    "그러나 우리가 원하는 것은 `main` 안에서 이미 생성되어 있는 `A`라는 객체를 새로 생성된 `b`의 안으로 이동시키고 싶을 뿐.\n",
    "\n",
    "* 두 번째 시도\n",
    "\n",
    "> 아 이동시키려면 std::move를 해야 하니까 그냥 `a_(std::move(a))`로 해볼까?"
   ]
  },
  {
   "cell_type": "code",
   "execution_count": null,
   "metadata": {},
   "outputs": [],
   "source": [
    "class B {\n",
    "public:\n",
    "    B(const A& a) : a_(std::move(a)) {}\n",
    "    \n",
    "    A a_;\n",
    "};\n",
    "\n",
    "int main() {\n",
    "    A a;\n",
    "    B b(a);\n",
    "}"
   ]
  },
  {
   "cell_type": "markdown",
   "metadata": {},
   "source": [
    "\\- 실행 결과\n",
    "```\n",
    "ctor\n",
    "copy ctor  // 그래도 이동 생성자가 아니라 복사 생성자가 호출이 되었다!\n",
    "```\n",
    "\n",
    "`a`가 `const A&`이므로 `std::move(a)`의 타입은 `const A&&`가 됨. 그런데, `A`의 생성자에는 `const A&`와 `A&&` 두 개 밖에 없으므로 컴파일러가 `const A&`를 택하게 됨. 그래서 복사 생성자가 호출되는 것.\n",
    "\n",
    "* 세 번째 시도\n",
    "> 아 그렇다면 B 생성자에서 아예 우측값을 받는 수밖에 없구나."
   ]
  },
  {
   "cell_type": "code",
   "execution_count": null,
   "metadata": {},
   "outputs": [],
   "source": [
    "class B {\n",
    "public:\n",
    "    B(A&& a) : a_(a) {}\n",
    "    \n",
    "    A a_;\n",
    "};\n",
    "\n",
    "int main() {\n",
    "    A a;\n",
    "    B b(std::move(a));\n",
    "}"
   ]
  },
  {
   "cell_type": "markdown",
   "metadata": {},
   "source": [
    "\\- 실행 결과\n",
    "```\n",
    "ctor\n",
    "copy ctor  // 왜?\n",
    "```\n",
    "\n",
    "이유는 간단하다. a는 우측값 레퍼런스이지만, 그 자체로는 좌측값이기 때문. 따라서 `a`를 다시 한 번 우측값으로 캐스팅시켜줘야 한다.\n",
    "\n",
    "* 정답"
   ]
  },
  {
   "cell_type": "code",
   "execution_count": null,
   "metadata": {},
   "outputs": [],
   "source": [
    "class B {\n",
    "public:\n",
    "    B(A&& a) : a_(std::move(a)) {}\n",
    "    \n",
    "    A a_;\n",
    "};\n",
    "\n",
    "int main() {\n",
    "    A a;\n",
    "    B b(std::move(a));\n",
    "}"
   ]
  },
  {
   "cell_type": "markdown",
   "metadata": {},
   "source": [
    "\\- 실행 결과\n",
    "```\n",
    "ctor\n",
    "move ctor  // 잘 이동되었다!\n",
    "```\n",
    "\n",
    "## 완벽한 전달(perfect forwarding)\n",
    "\n",
    "우측값 레퍼런스를 도입함으로써 해결할 수 있었던 또 다른 문제가 있다. 예로 들어 아래와 같은 `wrapper` 함수를 생각해 보자. C++ 11에 우측값 레퍼런스가 도입되기 전까지 해결할 수 없었던 문제가 있었다."
   ]
  },
  {
   "cell_type": "code",
   "execution_count": null,
   "metadata": {},
   "outputs": [],
   "source": [
    "template <typename T>\n",
    "void wrapper(T u) {\n",
    "    g(u);\n",
    "}"
   ]
  },
  {
   "cell_type": "markdown",
   "metadata": {},
   "source": [
    "그냥 이런 `wrapper` 함수를 만들지 말고 그냥 `g(u)`를 호출하면 되지 않나?\n",
    "\n",
    "그러나 이런 형태의 전달 방식이 종종 사용되는 경우가 있다. 예로 들어 `vector`의 `emplace_back()`.\n",
    "\n",
    "클래스 `A`를 원소로 하는 벡터의 뒤에 원소를 추가하기 위해서는 `vec.push_back(A(1, 2, 3));`와 같이 객체를 생성한 뒤에 인자로 전달해줘야만 한다. 그러나 이 과정에서 불필요한 이동 혹은 복사가 발생하게 된다. 대신, `emplace_back` 함수를 사용하게 되면 `vec.emplace_back(1, 2, 3);`와 같이 인자를 직접 전달받아서 내부에서 `A`의 생성자를 호출한 뒤에 이를 벡터 원소 뒤에 추가.\n",
    "\n",
    "\\+ 사실 `push_back` 함수를 사용할 경우 컴파일러가 알아서 최적화해주기 때문에 불필요한 복사-이동을 수행하지 않고 `emplace_back`을 사용했을 때와 동일한 어셈블리를 생성. 그러므로 `push_back`을 사용하는 것이 훨씬 낫다. (`emplace_back`은 예상치 못한 생성자가 호출될 위험이 있다.)\n",
    "\n",
    "문제는 `emplace_back` 함수가 받은 인자들을 `A`의 생성자에 제대로 전달해야 한다는 점인데, 그렇지 않을 경우 사용자가 의도치 않은 생성자가 호출될 수 있기 때문. 그러면 위와 같은 `wrapper` 함수를 어떻게 하면 잘 정의할 수 있을까?"
   ]
  },
  {
   "cell_type": "code",
   "execution_count": null,
   "metadata": {},
   "outputs": [],
   "source": [
    "#include <iostream>\n",
    "#include <vector>\n",
    "\n",
    "template <typename T>\n",
    "void wrapper(T u) {\n",
    "    g(u);\n",
    "}\n",
    "\n",
    "class A {};\n",
    "\n",
    "void g(A& a) { std::cout << \"좌측값 레퍼런스 호출\" << std::endl; }\n",
    "void g(const A& a) { std::cout << \"좌측값 상수 레퍼런스 호출\" << std::endl; }\n",
    "void g(A&& a) { std::cout << \"우측값 레퍼런스 호출\" << std::endl; }\n",
    "\n",
    "int main() {\n",
    "    A a;\n",
    "    const A ca;\n",
    "    \n",
    "    std::cout << \"원본 ------\" << std::endl;\n",
    "    g(a);\n",
    "    g(ca);\n",
    "    g(A());\n",
    "    \n",
    "    std::cout << \"wrapper ------\" << std::endl;\n",
    "    wrapper(a);\n",
    "    wrapper(ca);\n",
    "    wrapper(A());\n",
    "}"
   ]
  },
  {
   "cell_type": "markdown",
   "metadata": {},
   "source": [
    "\\- 실행 결과\n",
    "```\n",
    "원본 -------\n",
    "좌측값 레퍼런스 호출\n",
    "좌측값 상수 레퍼런스 호출\n",
    "우측값 레퍼런스 호출\n",
    "wrapper ------\n",
    "좌측값 레퍼런스 호출\n",
    "좌측값 레퍼런스 호출\n",
    "좌측값 레퍼런스 호출\n",
    "```\n",
    "\n",
    "`wrapper` 함수를 거칠 경우에 이런 일이 발생하는 이유는, 컴파일러가 템플릿 타입 추론 시, 템플릿 인자 `T`가 레퍼런스가 아닌 일반적인 타입이라면 `const`를 무시하기 때문. 다시 말해,"
   ]
  },
  {
   "cell_type": "code",
   "execution_count": null,
   "metadata": {},
   "outputs": [],
   "source": [
    "template <typename T>\n",
    "void wrapper(T u) {\n",
    "    g(u);\n",
    "}"
   ]
  },
  {
   "cell_type": "markdown",
   "metadata": {},
   "source": [
    "에서 `T`가 전부 다 `class A`로 추론되는 것! 따라서 위 경우 전부 다 좌측값 레퍼런스를 호출하는 `g`를 호출한 것이다.\n",
    "\n",
    "그렇다면 아래 경우는?"
   ]
  },
  {
   "cell_type": "code",
   "execution_count": null,
   "metadata": {},
   "outputs": [],
   "source": [
    "template <typename T>\n",
    "void wrapper(T& u) {\n",
    "    g(u);\n",
    "}\n",
    "// 컴파일 오류 : cannot bind non-const lvalue reference. : wrapper(A());"
   ]
  },
  {
   "cell_type": "markdown",
   "metadata": {},
   "source": [
    "`g(A());`에서 컴파일 오류 발생. `A()` 자체는 `const` 속성이 없으므로 템플릿 인자 추론에서 `T`가 `class A`로 추론된다. 하지만 `A&`는 우측값의 레퍼런스가 될 수 없기 때문에 컴파일 오류가 발생하는 것.\n",
    "\n",
    "그러면 아예 우측값을 레퍼런스로 받을 수 있도록 `const A&`, `A&` 따로 만들어 주는 방법이 있겠다."
   ]
  },
  {
   "cell_type": "code",
   "execution_count": null,
   "metadata": {},
   "outputs": [],
   "source": [
    "template <typename T>\n",
    "void wrapper(T& u) {\n",
    "    std::cout << \"T& 로 추론됨\" << std::endl;\n",
    "    g(u);\n",
    "}\n",
    "template <typename T>\n",
    "void wrapper(const T& u) {\n",
    "    std::cout << \"const T& 로 추론됨\" << std::endl;\n",
    "    g(u);\n",
    "}\n",
    "\n",
    "int main() {\n",
    "    A a;\n",
    "    const A ca;\n",
    "    \n",
    "    wrapper(a);\n",
    "    wrapper(ca);\n",
    "    wrapper(A());\n",
    "}"
   ]
  },
  {
   "cell_type": "markdown",
   "metadata": {},
   "source": [
    "\\- 실행 결과\n",
    "```\n",
    "T& 로 추론됨\n",
    "좌측값 레퍼런스 호출\n",
    "const T& 로 추론됨\n",
    "좌측값 상수 레퍼런스 호출\n",
    "const T& 로 추론됨\n",
    "좌측값 상수 레퍼런스 호출\n",
    "```\n",
    "\n",
    "A()가 const T&로 추론되면서 g(const T&) 함수를 호출. 무엇을 해도 wrapper 안에 u가 좌측값이라는 사실은 변하지 않으므로 언제나 좌측값 레퍼런스를 받는 함수들이 오버로딩되는 것.\n",
    "\n",
    "뿐만 아니라 만약 함수 `g`가 인자를 한 개가 아니라 2개를 받는다면? 그러면 모든 조합의 템플릿 함수를 정의해야 한다. 매우 귀찮은 일. 이렇게 해야하는 이유는, 단순히 일반적인 레퍼런스가 우측값을 받을 수 없기 때문. 그렇다고 디폴트로 상수 레퍼런스만 받게 된다면, 상수가 아닌 레퍼런스도 상수 레퍼런스로 캐스팅되어 들어간다는 것.\n",
    "\n",
    "그러나 C++ 11에서는 이를 간단히 해결할 수 있다.\n",
    "\n",
    "## 보편적 레퍼런스(universal reference)"
   ]
  },
  {
   "cell_type": "code",
   "execution_count": null,
   "metadata": {},
   "outputs": [],
   "source": [
    "#include <iostream>\n",
    "\n",
    "template <typename T>\n",
    "void wrapper(T&& u) {\n",
    "    g(std::forward<T>(u));\n",
    "}\n",
    "\n",
    "class A {};\n",
    "\n",
    "class A {};\n",
    "\n",
    "void g(A& a) { std::cout << \"좌측값 레퍼런스 호출\" << std::endl; }\n",
    "void g(const A& a) { std::cout << \"좌측값 상수 레퍼런스 호출\" << std::endl; }\n",
    "void g(A&& a) { std::cout << \"우측값 레퍼런스 호출\" << std::endl; }\n",
    "\n",
    "int main() {\n",
    "    A a;\n",
    "    const A ca;\n",
    "\n",
    "    std::cout << \"원본 --------\" << std::endl;\n",
    "    g(a);\n",
    "    g(ca);\n",
    "    g(A());\n",
    "\n",
    "    std::cout << \"Wrapper -----\" << std::endl;\n",
    "    wrapper(a);\n",
    "    wrapper(ca);\n",
    "    wrapper(A());\n",
    "}"
   ]
  },
  {
   "cell_type": "markdown",
   "metadata": {},
   "source": [
    "\\- 실행 결과\n",
    "```\n",
    "원본 --------\n",
    "좌측값 레퍼런스 호출\n",
    "좌측값 상수 레퍼런스 호출\n",
    "우측값 레퍼런스 호출\n",
    "Wrapper -----\n",
    "좌측값 레퍼런스 호출\n",
    "좌측값 상수 레퍼런스 호출\n",
    "우측값 레퍼런스 호출\n",
    "```\n",
    "\n",
    "잘 작동한다!\n",
    "\n",
    "`wrapper` 함수는 인자로 아예 `T &&`를 받아버리고 있는데, 이렇게 템플릿 인자 `T`에 대해서 우측값 레퍼런스를 받는 형태를 <u>보편적 레퍼런스(universal reference)</u>라고 한다. 이 보편적 레퍼런스는 우측값만 받는 레퍼런스와는 다르다. "
   ]
  },
  {
   "cell_type": "code",
   "execution_count": null,
   "metadata": {},
   "outputs": [],
   "source": [
    "void show_value(int&& t) { std::cout << \"우측값 : \" << t << std::endl; }\n",
    "\n",
    "int main() {\n",
    "    show_value(5);  // 우측값 ok!\n",
    "    \n",
    "    int x = 3;\n",
    "    show_value(x);  // 에러 : int&& t 형태의 함수는 우측값만을 인자로 받을 수 있다.\n",
    "}"
   ]
  },
  {
   "cell_type": "markdown",
   "metadata": {},
   "source": [
    "그러나 아래와 같은 템플릿 타입의 우측값 레퍼런스는 다르다."
   ]
  },
  {
   "cell_type": "code",
   "execution_count": null,
   "metadata": {},
   "outputs": [],
   "source": [
    "template <typename T>\n",
    "void wrapper(T&& u) { /* ... */ }"
   ]
  },
  {
   "cell_type": "markdown",
   "metadata": {},
   "source": [
    "보편적 레퍼런스는 우측값 뿐만이 아니라 좌측값 역시 받을 수 있다. 좌측값이 왔을 때 `T`의 타입은 어떻게 해석되는가? C++ 11에서는 다음과 같은 <u>레퍼런스 겹침 규칙(reference collapsing rule)</u>에 따라 `T`의 타입을 추론한다."
   ]
  },
  {
   "cell_type": "code",
   "execution_count": null,
   "metadata": {},
   "outputs": [],
   "source": [
    "typedef int& T;\n",
    "T& r1;  // int & &;  r1은 int&\n",
    "T&& r2;  // int & &&;  r2s는 int&\n",
    "\n",
    "typedef int&& U;\n",
    "U& r3;  // int && &;  r3는 int&\n",
    "U&& r4;  // int && &&;  r4는 int&&\n",
    "\n",
    "// 쉽게 생각하면, &는 1이고 &&은 0이라 둔 뒤에, OR 연산을 한다고 보면 된다!"
   ]
  },
  {
   "cell_type": "markdown",
   "metadata": {},
   "source": [
    "그렇다면, `A a`에 대해서 `wrapper(a)`, `wrapper(ca)`는 `T`가 각각 `A&`, `const A&`로 추론될 것이고, `wrapper(A())`의 경우에는 단순히 `A`로 추론될 것!\n",
    "\n",
    "그런데 문제는 이제 직접 `g`에 이 인자를 전달하는 방법. 왜 그냥 `g(u)`로 하지 않았을까?\n",
    "\n",
    "`u`는 좌측값이므로 `int&&`를 오버로딩하는 `g`의 호출을 예상하더라도, 실제로는 `const int&`를 오버로딩하는 `g`가 호출된다. 따라서 이 경우는 `move`를 통해 `u`를 다시 우측값으로 변환하는 것.\n",
    "\n",
    "하지만 당연히도, 아무때나 `move`를 하면 안 된다. 인자로 받은 `u`가 우측값 레퍼런스일 때에만 `move`를 해줘야 한다. 이 문제를 해결해주는 것이 `forward` 함수!\n",
    "\n",
    "```\n",
    "g(forward<T>(u));\n",
    "```\n",
    "\n",
    "`forward`가 어떻게 생겼냐면,"
   ]
  },
  {
   "cell_type": "code",
   "execution_count": null,
   "metadata": {},
   "outputs": [],
   "source": [
    "template <class S>\n",
    "S&& forward(typename std::remove_reference<S>::type& a) noexcept {\n",
    "    return static_cast<S&&>(a);\n",
    "}"
   ]
  },
  {
   "cell_type": "markdown",
   "metadata": {},
   "source": [
    "와 같이 생겼는데, `S`가 `A&`라면,(참고로, `std::remove_reference`는 타입의 레퍼런스를 지워주는 템플릿 메타 함수이다.)"
   ]
  },
  {
   "cell_type": "code",
   "execution_count": null,
   "metadata": {},
   "outputs": [],
   "source": [
    "A&&& forward(typename std::remove_reference<A&>::type& a) noexcept {\n",
    "    return static_cast<A&&&>(a);\n",
    "}\n",
    "\n",
    "// 따라서 레퍼런스 겹침 규칙에 따라,\n",
    "\n",
    "A& forward(A& a) noexcept { return static_cast<A&>(a); }"
   ]
  },
  {
   "cell_type": "markdown",
   "metadata": {},
   "source": [
    "이고, `S`가 `A`라면,"
   ]
  },
  {
   "cell_type": "code",
   "execution_count": null,
   "metadata": {},
   "outputs": [],
   "source": [
    "A&& forward(A& a) noexcept { return static_cast<A>(a); }  // static_cast<A&&> == static_cast<A> ??`"
   ]
  },
  {
   "cell_type": "markdown",
   "metadata": {},
   "source": [
    "가 되어 성공적으로 우측값으로 캐스팅해준다. 따라서 결과적으로 위 그림처럼 원본과 `Wrapper`를 사용했을 때 모두 호출되는 함수가 동일함을 알 수 있다! 성공적으로 인자를 전달한 것."
   ]
  },
  {
   "cell_type": "code",
   "execution_count": null,
   "metadata": {},
   "outputs": [],
   "source": []
  }
 ],
 "metadata": {
  "kernelspec": {
   "display_name": "C++11",
   "language": "C++11",
   "name": "xcpp11"
  },
  "language_info": {
   "codemirror_mode": "text/x-c++src",
   "file_extension": ".cpp",
   "mimetype": "text/x-c++src",
   "name": "c++",
   "version": "11"
  }
 },
 "nbformat": 4,
 "nbformat_minor": 4
}
