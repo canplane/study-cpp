{
 "cells": [
  {
   "cell_type": "markdown",
   "metadata": {},
   "source": [
    "*2021/01/07 Thu*\n",
    "\n",
    "# 1-3. C++은 C 친구 - C와 공통점"
   ]
  },
  {
   "cell_type": "markdown",
   "metadata": {},
   "source": [
    "cin, cout은 printf, scanf와 달리 &, %c 이런 것 구분할 필요 없음.\n",
    "```\n",
    "int user_input;\n",
    "cin >> user_input;\n",
    "```"
   ]
  },
  {
   "cell_type": "markdown",
   "metadata": {},
   "source": [
    "# 2. C++ 참조자(레퍼런스)의 도입"
   ]
  },
  {
   "cell_type": "markdown",
   "metadata": {},
   "source": [
    "* C Style Code"
   ]
  },
  {
   "cell_type": "code",
   "execution_count": 1,
   "metadata": {},
   "outputs": [],
   "source": [
    "#include <iostream>"
   ]
  },
  {
   "cell_type": "code",
   "execution_count": 4,
   "metadata": {},
   "outputs": [],
   "source": [
    "int change_val(int *p) {\n",
    "    *p = 3;\n",
    "    return 0;\n",
    "}"
   ]
  },
  {
   "cell_type": "markdown",
   "metadata": {},
   "source": [
    "int main() {\n",
    "    int number = 5;\n",
    "    std::cout << number << std::endl;\n",
    "    change_val(&number);\n",
    "    std::cout << number << std::endl;\n",
    "}\n",
    "//main();"
   ]
  },
  {
   "cell_type": "markdown",
   "metadata": {},
   "source": [
    "* C++ Code"
   ]
  },
  {
   "cell_type": "code",
   "execution_count": 9,
   "metadata": {},
   "outputs": [
    {
     "name": "stdout",
     "output_type": "stream",
     "text": [
      "a : 5\n",
      "another_a : 5\n"
     ]
    }
   ],
   "source": [
    "int main() {\n",
    "    int a = 3;\n",
    "    int& another_a = a;\n",
    "    \n",
    "    another_a = 5; // 참조자 -> *()라고 생각!\n",
    "    std::cout << \"a : \" << a << std::endl;\n",
    "    std::cout << \"another_a : \" << another_a << std::endl;\n",
    "    \n",
    "    return 0;\n",
    "}\n",
    "main();"
   ]
  },
  {
   "cell_type": "markdown",
   "metadata": {},
   "source": [
    "**레퍼런스는 반드시 처음에 누구의 별명이 될 것인지를 지정해야 한다.**\n",
    "\n",
    "레퍼런스가 한 번 별명이 되면 절대로 다른 이의 별명이 될 수 없다. const\n",
    "```\n",
    "int &another_a; // 불가능\n",
    "another_a = a; // a를 가리키는 게 아니라 그냥 값을 복사하는 것.\n",
    "```\n",
    "\n",
    "따라서 컴파일러상에서 a로 단순히 바꿔치기하면 되므로 포인터 변수처럼 따로 메모리에 영역을 둘 필요는 없음.\n",
    "\n",
    "레퍼런스는 특별한 경우가 아닌 이상 메모리상에서 공간을 차지하지 않는다.\n",
    "\n",
    "```\n",
    "int x;\n",
    "int& y = x; // x\n",
    "int& z = y; // x\n",
    "```\n",
    "\n",
    "참조자의 참조자는 없음.\n",
    "\n",
    "```std::cin >> user_input;```\n",
    "\n",
    "user_input은 레퍼런스\n",
    "\n",
    "```\n",
    "int &ref = 4;\n",
    "std::cout << ref << std::endl;\n",
    "// error : cannot convert from 'int' to 'int &'\n",
    "```\n",
    "\n",
    "이게 가능하면 ```ref = 5;```와 같이 리터럴의 값을 바꾸는 행위가 가능.\n",
    "\n",
    "따라서 상수 리터럴을 레퍼런스가 참조하는 것 역시 불가능.\n",
    "\n",
    "대신 ```const int &ref = 4;```와 같이 상수 참조자로 선언하는 건 리터럴 참조 가능\n",
    "\n",
    "레퍼런스의 레퍼런스, 레퍼런스의 배열, 레퍼런스의 포인터는 존재할 수 없다.\n",
    "\n",
    "```\n",
    "int &arr[2] = {a, b}; // illegal\n",
    "\n",
    "int arr[3] = {1, 2, 3};\n",
    "int (&ref)[3] = arr; // legal\n",
    "ref[0] = 2, ref[1] = 3, ref[2] = 1;\n",
    "```"
   ]
  },
  {
   "cell_type": "markdown",
   "metadata": {},
   "source": [
    "지역 변수의 레퍼런스를 리턴하는 것은 컴파일 오류는 아니지만 경고. 그리고 아래 코드는 런타임 오류.\n",
    "\n",
    "```\n",
    "int &function() {\n",
    "    int a = 2;\n",
    "    return a;\n",
    "}\n",
    "int main() {\n",
    "    int b = function();\n",
    "    b = 3; // segmentation fault -> a가 사라졌으니까\n",
    "    return 0;\n",
    "}\n",
    "```\n",
    "\n",
    "아래와 같은 방식은 가능.\n",
    "\n",
    "```\n",
    "int& function(int &a) {\n",
    "    a = 5;\n",
    "    return a;\n",
    "}\n",
    "```\n",
    "\n",
    "함수의 리턴값은 해당 문장이 끝난 후 바로 사라지는 값이므로 참조자를 만들면 바로 다음에 댕글링 레퍼런스가 되어 버린다.\n",
    "\n",
    "(dangling pointer; 허상 포인터; 적절하고 유효한 객체를 가리키고 있지 않는 포인터)\n",
    "\n",
    "-> 컴파일 오류.\n",
    "\n",
    "\n",
    "```\n",
    "int function() { int a = 5; return a; }\n",
    "int main() {\n",
    "    int &c = function();\n",
    "    // error : cannot bind non-const lvalue reference of type 'int&' to an rvalue of type 'int'\n",
    "    return 0;\n",
    "}\n",
    "```\n",
    "\n",
    "그러나 ```const int &c = function();```였다면 가능.\n",
    "\n",
    "상수 레퍼런스로 리턴 값을 받게 되면 해당 리턴 값의 생명이 연장됨. 연장되는 기간은 레퍼런스가 사라질 때까지."
   ]
  },
  {
   "cell_type": "markdown",
   "metadata": {},
   "source": [
    "![정리](./img/Screen%20Shot%202021-01-07%20at%204.45.50%20PM.png)"
   ]
  },
  {
   "cell_type": "markdown",
   "metadata": {},
   "source": [
    "## 생각 해보기\n",
    "\n",
    "레퍼런스가 메모리 상에 반드시 존재해야 하는 경우는 어떤 경우가 있을까요? 그리고 메모리 상에 존재할 필요가 없는 경우는 또 어떤 경우가 있을 까요? (난이도 : 上)\n",
    "\n",
    "```\n",
    "int f() {}\n",
    "const int &a = f();\n",
    "```\n",
    "와 같은 경우. -> 레퍼런스가 스코프 밖에서 사용된다면 메모리에 존재.\n",
    "\n",
    "```int &b = a;```와 같은 경우."
   ]
  },
  {
   "cell_type": "markdown",
   "metadata": {},
   "source": [
    "# 3. C++의 세계로 오신 것을 환영합니다. (new, delete)"
   ]
  },
  {
   "cell_type": "code",
   "execution_count": 14,
   "metadata": {},
   "outputs": [
    {
     "name": "stdout",
     "output_type": "stream",
     "text": [
      "10\n"
     ]
    }
   ],
   "source": [
    "#include <iostream>\n",
    "\n",
    "int main() {\n",
    "    int *p = new int;\n",
    "    *p = 10;\n",
    "    \n",
    "    std::cout << *p << std::endl;\n",
    "    \n",
    "    delete p;\n",
    "    return 0;\n",
    "}\n",
    "main();"
   ]
  },
  {
   "cell_type": "markdown",
   "metadata": {},
   "source": [
    "* 용법\n",
    "\n",
    "```\n",
    "T *ptr = new T;\n",
    "delete ptr;\n",
    "```\n",
    "\n",
    "* heap 아닌 영역을 delete로 해제하려 하면\n",
    "\n",
    "```\n",
    "int a = 5;\n",
    "delete &a; // 경고\n",
    "```"
   ]
  },
  {
   "cell_type": "code",
   "execution_count": 16,
   "metadata": {},
   "outputs": [
    {
     "name": "stdout",
     "output_type": "stream",
     "text": [
      "array size : "
     ]
    },
    {
     "name": "stdin",
     "output_type": "stream",
     "text": [
      " 3\n"
     ]
    },
    {
     "name": "stdout",
     "output_type": "stream",
     "text": [
      "0th element of list : 0\n",
      "1th element of list : 1879048192\n",
      "2th element of list : -1865490374\n"
     ]
    }
   ],
   "source": [
    "/* new로 배열 할당하기 */\n",
    "\n",
    "#include <iostream>\n",
    "\n",
    "int main() {\n",
    "    int arr_size;\n",
    "    std::cout << \"array size : \";\n",
    "    std::cin >> arr_size;\n",
    "    int *list = new int[arr_size];\n",
    "    for (int i = 0; i < arr_size; i++) {\n",
    "        std::cout << i << \"th element of list : \" << list[i] << std::endl;\n",
    "    }\n",
    "    delete[] list;\n",
    "    return 0;\n",
    "}\n",
    "main();"
   ]
  },
  {
   "cell_type": "code",
   "execution_count": null,
   "metadata": {},
   "outputs": [],
   "source": []
  }
 ],
 "metadata": {
  "kernelspec": {
   "display_name": "C++11",
   "language": "C++11",
   "name": "xcpp11"
  },
  "language_info": {
   "codemirror_mode": "text/x-c++src",
   "file_extension": ".cpp",
   "mimetype": "text/x-c++src",
   "name": "c++",
   "version": "11"
  }
 },
 "nbformat": 4,
 "nbformat_minor": 4
}
