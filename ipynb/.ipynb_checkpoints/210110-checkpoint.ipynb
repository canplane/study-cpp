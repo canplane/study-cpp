{
 "cells": [
  {
   "cell_type": "markdown",
   "metadata": {},
   "source": [
    "*2021/01/10 Sun*"
   ]
  },
  {
   "cell_type": "markdown",
   "metadata": {},
   "source": [
    "# 5-1. 내가 만든 연산자 - 연산자 오버로딩"
   ]
  },
  {
   "cell_type": "markdown",
   "metadata": {},
   "source": [
    "```::``` (범위 지정), ```.``` (멤버 지정), ```.*``` (멤버 포인터로 멤버 지정) 제외한 모든 연산자 사용 가능.\n",
    "\n",
    "* e.g.,"
   ]
  },
  {
   "cell_type": "code",
   "execution_count": null,
   "metadata": {},
   "outputs": [],
   "source": [
    "class MyString {\n",
    "    // ...\n",
    "    bool operator==(MyString& str);\n",
    "};\n",
    "\n",
    "bool MyString::operator==(MyString& str) {\n",
    "    return !compare(str);\n",
    "}\n",
    "// str1 == str2; -> str1.operator==(str2);"
   ]
  },
  {
   "cell_type": "markdown",
   "metadata": {},
   "source": [
    "## 복소수(Complex number) 클래스 만들기"
   ]
  },
  {
   "cell_type": "markdown",
   "metadata": {},
   "source": [
    "(주의 사항 : 사실 ```std::complex```가 정의되어 있음.)"
   ]
  },
  {
   "cell_type": "code",
   "execution_count": null,
   "metadata": {},
   "outputs": [],
   "source": [
    "#include <iostream>\n",
    "\n",
    "class Complex {\n",
    "private:\n",
    "    double real, img;\n",
    "    \n",
    "public:\n",
    "    Complex(double real, double img) : real(real), img(img) {}\n",
    "    \n",
    "    Complex operator+(const Complex& c) const;\n",
    "    Complex operator-(const Complex& c) const;\n",
    "    Complex operator*(const Complex& c) const;\n",
    "    Complex operator/(const Complex& c) const;\n",
    "    \n",
    "    Complex& operator=(const Complex& c);\n",
    "    \n",
    "    void println() { std::cout << \"(\" << real << \", \" << img << \")\" << std::endl; }\n",
    "};\n",
    "\n",
    "Complex Complex::operator+(const Complex& c) const {\n",
    "    Complex temp(real + c.real, img + c.img);\n",
    "    return temp;\n",
    "}\n",
    "Complex Complex::operator+(const Complex& c) const {\n",
    "    Complex temp(real - c.real, img - c.img);\n",
    "}\n",
    "Complex Complex::operator*(const Complex& c) const {\n",
    "    Complex temp(real * c.real - img * c.img, real * c.img + img * c.real);\n",
    "    return temp;\n",
    "}\n",
    "Complex Complex::operator/(const Complex& c) const {\n",
    "    Complex temp(\n",
    "        (real * c.real + img * c.img) / (c.real * c.real + c.img * c.img),\n",
    "        (img * c.real - real * c.img) / (c.real * c.real + c.img * c.img));\n",
    "    return temp;\n",
    "}\n",
    "\n",
    "Complex& Complex::operator=(const Complex& c) {\n",
    "    real = c.real;\n",
    "    img = c.img;\n",
    "    return *this;\n",
    "}\n",
    "\n",
    "int main() {\n",
    "    Complex a(1.0, 2.0);\n",
    "    Complex b(3.0, -2.0);\n",
    "    Complex c(0.0, 0.0);\n",
    "    \n",
    "    c = a * b + a / b + a + b;\n",
    "    c.println();\n",
    "}\n",
    "main();"
   ]
  },
  {
   "cell_type": "markdown",
   "metadata": {},
   "source": [
    "* 주의 사항\n",
    "    * 인자의 값이 내부에서 바뀌지 않는다고 확신할 때에는 ```const``` 키워드를 붙여주는 게, 실수 발생을 줄여줌.\n",
    "    * 상수 함수로 선언할 수 있는 경우는 그렇게 선언하는 게 바람직.\n",
    "\n",
    "사실 ```operator=``` 만들지 않더라도 잘 작동함. 컴파일러 차원에서 디폴트 대입 연산자를 지원하기 때문. (디폴트 복사 생성자가 있던 것과 일맥 상통) 그러나 디폴트 복사 생성자와 마찬가지로 얕은 복사를 수행하므로, 깊은 복사가 필요한 클래스의 경우(클래스 내부적으로 동적으로 할당되는 메모리를 관리하는 포인터가 있다든지.) 대입 연산자 함수를 꼭 만들어주어야 할 필요가 있음."
   ]
  },
  {
   "cell_type": "code",
   "execution_count": null,
   "metadata": {},
   "outputs": [],
   "source": []
  }
 ],
 "metadata": {
  "kernelspec": {
   "display_name": "C++11",
   "language": "C++11",
   "name": "xcpp11"
  },
  "language_info": {
   "codemirror_mode": "text/x-c++src",
   "file_extension": ".cpp",
   "mimetype": "text/x-c++src",
   "name": "c++",
   "version": "11"
  }
 },
 "nbformat": 4,
 "nbformat_minor": 4
}
