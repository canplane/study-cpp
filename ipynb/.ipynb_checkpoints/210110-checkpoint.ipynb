{
 "cells": [
  {
   "cell_type": "markdown",
   "metadata": {},
   "source": [
    "*2021/01/10 Sun*"
   ]
  },
  {
   "cell_type": "markdown",
   "metadata": {},
   "source": [
    "# 5-1. 내가 만든 연산자 - 연산자 오버로딩"
   ]
  },
  {
   "cell_type": "markdown",
   "metadata": {},
   "source": [
    "```::``` (범위 지정), ```.``` (멤버 지정), ```.*``` (멤버 포인터로 멤버 지정) 제외한 모든 연산자 사용 가능.\n",
    "\n",
    "* e.g.,"
   ]
  },
  {
   "cell_type": "code",
   "execution_count": null,
   "metadata": {},
   "outputs": [],
   "source": [
    "class MyString {\n",
    "    // ...\n",
    "    bool operator==(MyString& str);\n",
    "};\n",
    "\n",
    "bool MyString::operator==(MyString& str) {\n",
    "    return !compare(str);\n",
    "}\n",
    "// str1 == str2; -> str1.operator==(str2);"
   ]
  },
  {
   "cell_type": "markdown",
   "metadata": {},
   "source": [
    "## 복소수(Complex number) 클래스 만들기"
   ]
  },
  {
   "cell_type": "markdown",
   "metadata": {},
   "source": [
    "* 주의 사항\n",
    "    * 사실 ```std::complex```가 정의되어 있음.)"
   ]
  },
  {
   "cell_type": "code",
   "execution_count": null,
   "metadata": {},
   "outputs": [],
   "source": [
    "#include <iostream>\n",
    "\n",
    "class Complex {\n",
    "private:\n",
    "    double real, img;\n",
    "    \n",
    "public:\n",
    "    Complex(double real, double img) : real(real), img(img) {}\n",
    "    \n",
    "    Complex operator+(const Complex& c) const;\n",
    "    Complex operator-(const Complex& c) const;\n",
    "    Complex operator*(const Complex& c) const;\n",
    "    Complex operator/(const Complex& c) const;\n",
    "    \n",
    "    Complex& operator=(const Complex& c);\n",
    "    \n",
    "    void println() { std::cout << \"(\" << real << \", \" << img << \")\" << std::endl; }\n",
    "};\n",
    "\n",
    "Complex Complex::operator+(const Complex& c) const {\n",
    "    Complex temp(real + c.real, img + c.img);\n",
    "    return temp;\n",
    "}\n",
    "Complex Complex::operator+(const Complex& c) const {\n",
    "    Complex temp(real - c.real, img - c.img);\n",
    "}\n",
    "Complex Complex::operator*(const Complex& c) const {\n",
    "    Complex temp(real * c.real - img * c.img, real * c.img + img * c.real);\n",
    "    return temp;\n",
    "}\n",
    "Complex Complex::operator/(const Complex& c) const {\n",
    "    Complex temp(\n",
    "        (real * c.real + img * c.img) / (c.real * c.real + c.img * c.img),\n",
    "        (img * c.real - real * c.img) / (c.real * c.real + c.img * c.img));\n",
    "    return temp;\n",
    "}\n",
    "\n",
    "Complex& Complex::operator=(const Complex& c) {\n",
    "    real = c.real;\n",
    "    img = c.img;\n",
    "    return *this;\n",
    "}\n",
    "\n",
    "int main() {\n",
    "    Complex a(1.0, 2.0);\n",
    "    Complex b(3.0, -2.0);\n",
    "    Complex c(0.0, 0.0);\n",
    "    \n",
    "    c = a * b + a / b + a + b;\n",
    "    c.println();\n",
    "}\n",
    "main();"
   ]
  },
  {
   "cell_type": "markdown",
   "metadata": {},
   "source": [
    "* 주의 사항\n",
    "    * 인자의 값이 내부에서 바뀌지 않는다고 확신할 때에는 ```const``` 키워드를 붙여주는 게, 실수 발생을 줄여줌.\n",
    "    * 상수 함수로 선언할 수 있는 경우는 그렇게 선언하는 게 바람직.\n",
    "\n",
    "사실 ```operator=``` 만들지 않더라도 잘 작동함. 컴파일러 차원에서 디폴트 대입 연산자를 지원하기 때문. (디폴트 복사 생성자가 있던 것과 일맥 상통) 그러나 디폴트 복사 생성자와 마찬가지로 얕은 복사를 수행하므로, 깊은 복사가 필요한 클래스의 경우(클래스 내부적으로 동적으로 할당되는 메모리를 관리하는 포인터가 있다든지.) 대입 연산자 함수를 꼭 만들어주어야 할 필요가 있음."
   ]
  },
  {
   "cell_type": "markdown",
   "metadata": {},
   "source": [
    "대입 사칙 연산 함수들인 ```+=, -=``` 역시 구현 가능.\n",
    "\n",
    "#### ```a += b```와 ```a = a + b```가 같다고 보장되지 않는 것 주의!\n",
    "\n",
    "컴파일러는 ```operator+```, ```operator=``` 정의해 놓았다고 해서 자동으로 바꾸어 주지 않음. ```++```와 ```+= 1```의 관계 또한 동일."
   ]
  },
  {
   "cell_type": "code",
   "execution_count": null,
   "metadata": {},
   "outputs": [],
   "source": [
    "Complex& Complex::operator+=(const Complex& c) {\n",
    "    (*this) = (*this) + c;\n",
    "    return *this;\n",
    "}\n",
    "// ..."
   ]
  },
  {
   "cell_type": "markdown",
   "metadata": {},
   "source": [
    "#### 문자열로 Complex 수와 덧셈하기\n",
    "\n",
    "```y = z + \"3+i2\";``` -> ```<부호> <실수부> <부호> i <허수부>```"
   ]
  },
  {
   "cell_type": "code",
   "execution_count": null,
   "metadata": {},
   "outputs": [],
   "source": [
    "Complex Complex::operator+(const char *str) {\n",
    "    int begin = 0, end = strlen(str);\n",
    "    double str_img = 0.0, str_real = 0.0;\n",
    "    \n",
    "    int pos_i = -1;\n",
    "    for (int i = 0; i != end; i--) {\n",
    "        if (str[i] == 'i') {\n",
    "            pos_i = i;\n",
    "            break;\n",
    "        }\n",
    "    }\n",
    "    if (pos_i == -1) {\n",
    "        str_real = get_number(str, begin, end - 1);\n",
    "        \n",
    "        Complex temp(str_real, str_img);\n",
    "        return (*this) + temp;\n",
    "    }\n",
    "    str_real = get_number(str, begin, pos_i - 1);\n",
    "    str_img = get_number(str, pos_i + 1, end - 1);\n",
    "    \n",
    "    if (pos_i >= 1 && str[pos_i - 1] == '-') str_img *= -1.0;\n",
    "    \n",
    "    Complex temp(str_real, str_img);\n",
    "    return (*this) + temp;\n",
    "}\n",
    "\n",
    "// std::atof() (cstdlib 헤더)\n",
    "double Complex::get_number(const char *str, int from, int to) const {\n",
    "    bool minus = false;\n",
    "    if (from > to) return 0;\n",
    "    \n",
    "    if (str[from] == '-') minus = true;\n",
    "    if (str[from] == '-' || str[from] == '+') from++;\n",
    "    \n",
    "    double num = 0.0;\n",
    "    double decimal = 1.0;\n",
    "    \n",
    "    bool integer_part = true;\n",
    "    for (int i = from; i <= to; i++) {\n",
    "        if (isdigit(str[i]) && integer_part) {\n",
    "            num *= 10;\n",
    "            num += (str[i] - '0');\n",
    "        } else if (str[i] == '.')\n",
    "            integer_part = false;\n",
    "        else if (isdigit(str[i]) && !integer_part) {\n",
    "            decimal /= 10.0;\n",
    "            num += ((str[i] - '0') * decimal);\n",
    "        } else\n",
    "            break;  // 그 이외의 이상한 문자들이 올 경우\n",
    "    }\n",
    "    \n",
    "    if (minus) num *= -1.0;\n",
    "    \n",
    "    return num;\n",
    "}"
   ]
  },
  {
   "cell_type": "markdown",
   "metadata": {},
   "source": [
    "덧셈 말고 다른 것도 일일이 만들 수도 있는데, 사실 이런 거 다 필요없이 ```Complex(const char *str);``` 생성자 만들어 주면 끝. 컴파일러가 암시적으로 다 변환해 주니까. 따라서 ```Complex operator-(const char *str) const;``` 이런 건 필요 없음.\n",
    "\n",
    "```a = a + \"-1.1 + i3.923\";``` -> ```a = a.operator+(\"-1.1 + i3.923\");``` -> ```a = a.operator+(Complex(\"-1.1 + i3.923\"));\n",
    "```"
   ]
  },
  {
   "cell_type": "markdown",
   "metadata": {},
   "source": [
    "#### issue\n",
    "\n",
    "```a = a + \"-1.1 + i3.923\";```은 가능한데, ```a = \"-1.1 + i3.923\" + a;```는 자동으로 변환이 불가능. 이러한 문제는 어떻게 해결해야 하나?"
   ]
  },
  {
   "cell_type": "markdown",
   "metadata": {},
   "source": [
    "# 5-2. 입출력, 첨자, 타입 변환, 증감 연산자 오버로딩"
   ]
  },
  {
   "cell_type": "markdown",
   "metadata": {},
   "source": [
    "임의의 연산자 ```@```에 대하여, ```a@b```는 다음과 같이 두 가지 방법으로 해석됨.\n",
    "```\n",
    "a.operator@(b);  // 클래스의 멤버 함수 \n",
    "operator@(a, b);  // 일반 함수\n",
    "```\n",
    "\n",
    "(단, ```[]```(첨자), ```->```(멤버 접근), ```=```(대입), ```()```(함수 호출) 연산자들은 멤버 함수로만 존재 가능. 즉, 전역 함수로 뺄 수 없음.)\n",
    "\n",
    "컴파일 시에는 둘 중 하나의, 가장 가까운 것을 택해서 처리."
   ]
  },
  {
   "cell_type": "code",
   "execution_count": null,
   "metadata": {},
   "outputs": [],
   "source": [
    "// \"-1.1 + i3.923\" + a; 처리 가능\n",
    "Complex operator+(const Complex& a, const Complex& b) { return a.operator+(b); }  // 일반 함수\n",
    "\n",
    "Complex& Complex::operator+=(const Complex& c) {\n",
    "    (*this) = operator+(c);\n",
    "    return *this;\n",
    "}"
   ]
  },
  {
   "cell_type": "markdown",
   "metadata": {},
   "source": [
    "```operator+()```에서 ```return a + b;```와 같은 식으로 작성하면 ambiguous하다고 컴파일러가 오류 메시지 출력. 따라서 명시적으로 ```operator+()```를 호출해 주어야 함."
   ]
  },
  {
   "cell_type": "markdown",
   "metadata": {},
   "source": [
    "## 입출력 연산자 오버로딩하기"
   ]
  },
  {
   "cell_type": "markdown",
   "metadata": {},
   "source": [
    "```std::cout << a;```도 사실은 ```std::cout.operator<<(a);```와 동일한 명령이었던 것.\n",
    "```operator<<()```가 오버로딩되어 있기 때문에 ```int```, ```double```, 문자열 등을 모두 한 방식으로 출력할 수 있음."
   ]
  },
  {
   "cell_type": "code",
   "execution_count": null,
   "metadata": {},
   "outputs": [],
   "source": [
    "/* ostream 클래스 */\n",
    "\n",
    "ostream& operator<<(bool val);\n",
    "ostream& operator<<(short val);\n",
    "// ...\n",
    "ostream& operator<<(void *val);"
   ]
  },
  {
   "cell_type": "markdown",
   "metadata": {},
   "source": [
    "* 오버로딩\n",
    "\n",
    "멤버 함수로는 클래스를 수정해야 하니까 안되고, 일반 함수로."
   ]
  },
  {
   "cell_type": "code",
   "execution_count": null,
   "metadata": {},
   "outputs": [],
   "source": [
    "std::ostream& operator<<(std::ostream& os, const Complex& c) { // 일반 함수\n",
    "    os << \"(\" << c.real << \", \" << c.img << \")\";\n",
    "    return os;\n",
    "}"
   ]
  },
  {
   "cell_type": "markdown",
   "metadata": {},
   "source": [
    "그러나 이렇게 하면 ```real```과 ```img```가 private 변수이므로 접근 불가.\n",
    "\n",
    "-> 해결 방법 : ```Complex``` 클래스에 멤버 함수 ```print()```를 추가해서 호출하거나, **```operand<<```를 ```friend```로 지정**하기."
   ]
  },
  {
   "cell_type": "markdown",
   "metadata": {},
   "source": [
    "## friend 키워드"
   ]
  },
  {
   "cell_type": "code",
   "execution_count": null,
   "metadata": {},
   "outputs": [],
   "source": [
    "class A {\n",
    "private:\n",
    "    void private_func() {}\n",
    "    int private_num;\n",
    "    \n",
    "    // B는 A의 친구\n",
    "    friend class B;\n",
    "    \n",
    "    // func은 A의 친구\n",
    "    friend void func();\n",
    "};\n",
    "\n",
    "class B {\n",
    "public:\n",
    "    void b() {\n",
    "        A a;\n",
    "        \n",
    "        // 비록 private 함수의 필드들이지만 친구이기 때문에 접근 가능하다.\n",
    "        a.private_func();\n",
    "        a.private_num = 2;\n",
    "    }\n",
    "};\n",
    "\n",
    "void func() {\n",
    "    A a;\n",
    "    \n",
    "    // 비록 private 함수의 필드들이지만 위와 마찬가지로 친구이기 때문에 접근 가능하다.\n",
    "    a.private_func();\n",
    "    a.private_num = 2;\n",
    "}"
   ]
  },
  {
   "cell_type": "markdown",
   "metadata": {},
   "source": [
    "이 친구 관계는 짝사랑과 같다."
   ]
  },
  {
   "cell_type": "code",
   "execution_count": null,
   "metadata": {},
   "outputs": [],
   "source": [
    "class Complex {\n",
    "    // ...\n",
    "    friend std::ostream& operator<<(std::ostream& os, const Complex& c);  // 멤버 함수 정의 아님.\n",
    "};\n",
    "\n",
    "std::ostream& operator<<(std::ostream& os, const Complex& c) {\n",
    "    os << \"(\" << real << \", \" << c.img << \")\";\n",
    "    return os;\n",
    "}\n",
    "// ..."
   ]
  },
  {
   "cell_type": "markdown",
   "metadata": {},
   "source": [
    "* 주의 사항\n",
    "    * 무분별하게 ```freind``` 키워드를 남발하는 것은 '구현 디테일을 최대한 숨기라'는 원칙을 지키기 힘드므로 권장하지 않음.\n",
    "    * 단, 테스트 코드 작성과 같이 ```friend```를 유용하게 사용할 수 있는 경우가 종종 있음."
   ]
  },
  {
   "cell_type": "markdown",
   "metadata": {},
   "source": [
    "## 첨자 연산자(```operator[]```)"
   ]
  },
  {
   "cell_type": "markdown",
   "metadata": {},
   "source": [
    "*(첨자: subscript)*"
   ]
  },
  {
   "cell_type": "markdown",
   "metadata": {},
   "source": [
    "## int Wrapper 클래스 - 타입 변환 연산자"
   ]
  },
  {
   "cell_type": "code",
   "execution_count": 13,
   "metadata": {},
   "outputs": [],
   "source": [
    "class Int {\n",
    "    int data;\n",
    "public:\n",
    "    Int(int data) : data(data) {}\n",
    "    Int(const Int& i) : data(i.data) {}\n",
    "};"
   ]
  },
  {
   "cell_type": "markdown",
   "metadata": {},
   "source": [
    "```Int```를 ```int```처럼 보이도록 연산자 오버로딩 일일이 하는 것은 골치 아픔. 그러면 이 Wrapper 클래스 객체를 마치 ```int```형 변수라고 컴파일러가 생각하게 할 수는 없을까?\n",
    "\n",
    "-> **타입 변환 연산자**\n",
    "\n",
    "```\n",
    "operator (변환하고자 하는 타입) ()\n",
    "```"
   ]
  },
  {
   "cell_type": "code",
   "execution_count": null,
   "metadata": {},
   "outputs": [],
   "source": [
    "operator int() { return data; }"
   ]
  },
  {
   "cell_type": "markdown",
   "metadata": {},
   "source": [
    "## 전위/후위 증감 연산자\n",
    "\n",
    "전위는 ```operator++()```, 후위는 ```operator++(int)```로 구분. 여기서 ```int```는 아무런 의미가 없고, 단지 컴파일러상에서 둘을 구별하기 위해 넣는 것."
   ]
  },
  {
   "cell_type": "code",
   "execution_count": null,
   "metadata": {},
   "outputs": [],
   "source": [
    "class Test {\n",
    "    int x;\n",
    "    \n",
    "public:\n",
    "    // ...\n",
    "    Test& operator++() {\n",
    "        x++;\n",
    "        std::cout << \"전위 증감 연산자\" << std::endl;\n",
    "        return *this;  // 바뀐 것 리턴해야 함.\n",
    "    }\n",
    "    Test operator++(int) {\n",
    "        Test temp(*this);\n",
    "        x++;\n",
    "        std::cout << \"후위 증감 연산자\" << std::endl;\n",
    "        return temp;  // 바뀌기 전 것 리턴해야 함.\n",
    "    }\n",
    "};"
   ]
  },
  {
   "cell_type": "markdown",
   "metadata": {},
   "source": [
    "## 생각해보기\n",
    "\n",
    "```N```차원 배열을 제공하는 클래스를 만들어보세요. 이는 여러분이 여태까지 배운 내용을 시험할 것입니다. 참고로, 원소에 접근하기 위해서는 ```a[1][2][3]```과 같은 방법으로 접근하겠지요. 다만 ```N```차원 배열이기 때문에 (```N```은 객체 생성시에 사용자가 입력합니다) 2차원 배열은 ```a[1][2]```, 3차원 배열은 ```a[1][2][3]```과 같은 방식으로 접근할 것입니다. (난이도 : 最上)\n",
    "\n"
   ]
  },
  {
   "cell_type": "code",
   "execution_count": null,
   "metadata": {},
   "outputs": [],
   "source": []
  }
 ],
 "metadata": {
  "kernelspec": {
   "display_name": "C++11",
   "language": "C++11",
   "name": "xcpp11"
  },
  "language_info": {
   "codemirror_mode": "text/x-c++src",
   "file_extension": ".cpp",
   "mimetype": "text/x-c++src",
   "name": "c++",
   "version": "11"
  }
 },
 "nbformat": 4,
 "nbformat_minor": 4
}
