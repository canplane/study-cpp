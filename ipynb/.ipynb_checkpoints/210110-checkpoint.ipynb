{
 "cells": [
  {
   "cell_type": "markdown",
   "metadata": {},
   "source": [
    "*2021/01/10 Sun*"
   ]
  },
  {
   "cell_type": "markdown",
   "metadata": {},
   "source": [
    "# 5-1. 내가 만든 연산자 - 연산자 오버로딩"
   ]
  },
  {
   "cell_type": "markdown",
   "metadata": {},
   "source": [
    "```::``` (범위 지정), ```.``` (멤버 지정), ```.*``` (멤버 포인터로 멤버 지정) 제외한 모든 연산자 사용 가능.\n",
    "\n",
    "* e.g.,"
   ]
  },
  {
   "cell_type": "code",
   "execution_count": null,
   "metadata": {},
   "outputs": [],
   "source": [
    "class MyString {\n",
    "    // ...\n",
    "    bool operator==(MyString& str);\n",
    "};\n",
    "\n",
    "bool MyString::operator==(MyString& str) {\n",
    "    return !compare(str);\n",
    "}\n",
    "// str1 == str2; -> str1.operator==(str2);"
   ]
  },
  {
   "cell_type": "markdown",
   "metadata": {},
   "source": [
    "## 복소수(Complex number) 클래스 만들기"
   ]
  },
  {
   "cell_type": "markdown",
   "metadata": {},
   "source": [
    "* 주의 사항\n",
    "    * 사실 ```std::complex```가 정의되어 있음.)"
   ]
  },
  {
   "cell_type": "code",
   "execution_count": null,
   "metadata": {},
   "outputs": [],
   "source": [
    "#include <iostream>\n",
    "\n",
    "class Complex {\n",
    "private:\n",
    "    double real, img;\n",
    "    \n",
    "public:\n",
    "    Complex(double real, double img) : real(real), img(img) {}\n",
    "    \n",
    "    Complex operator+(const Complex& c) const;\n",
    "    Complex operator-(const Complex& c) const;\n",
    "    Complex operator*(const Complex& c) const;\n",
    "    Complex operator/(const Complex& c) const;\n",
    "    \n",
    "    Complex& operator=(const Complex& c);\n",
    "    \n",
    "    void println() { std::cout << \"(\" << real << \", \" << img << \")\" << std::endl; }\n",
    "};\n",
    "\n",
    "Complex Complex::operator+(const Complex& c) const {\n",
    "    Complex temp(real + c.real, img + c.img);\n",
    "    return temp;\n",
    "}\n",
    "Complex Complex::operator+(const Complex& c) const {\n",
    "    Complex temp(real - c.real, img - c.img);\n",
    "}\n",
    "Complex Complex::operator*(const Complex& c) const {\n",
    "    Complex temp(real * c.real - img * c.img, real * c.img + img * c.real);\n",
    "    return temp;\n",
    "}\n",
    "Complex Complex::operator/(const Complex& c) const {\n",
    "    Complex temp(\n",
    "        (real * c.real + img * c.img) / (c.real * c.real + c.img * c.img),\n",
    "        (img * c.real - real * c.img) / (c.real * c.real + c.img * c.img));\n",
    "    return temp;\n",
    "}\n",
    "\n",
    "Complex& Complex::operator=(const Complex& c) {\n",
    "    real = c.real;\n",
    "    img = c.img;\n",
    "    return *this;\n",
    "}\n",
    "\n",
    "int main() {\n",
    "    Complex a(1.0, 2.0);\n",
    "    Complex b(3.0, -2.0);\n",
    "    Complex c(0.0, 0.0);\n",
    "    \n",
    "    c = a * b + a / b + a + b;\n",
    "    c.println();\n",
    "}\n",
    "main();"
   ]
  },
  {
   "cell_type": "markdown",
   "metadata": {},
   "source": [
    "* 주의 사항\n",
    "    * 인자의 값이 내부에서 바뀌지 않는다고 확신할 때에는 ```const``` 키워드를 붙여주는 게, 실수 발생을 줄여줌.\n",
    "    * 상수 함수로 선언할 수 있는 경우는 그렇게 선언하는 게 바람직.\n",
    "\n",
    "사실 ```operator=``` 만들지 않더라도 잘 작동함. 컴파일러 차원에서 디폴트 대입 연산자를 지원하기 때문. (디폴트 복사 생성자가 있던 것과 일맥 상통) 그러나 디폴트 복사 생성자와 마찬가지로 얕은 복사를 수행하므로, 깊은 복사가 필요한 클래스의 경우(클래스 내부적으로 동적으로 할당되는 메모리를 관리하는 포인터가 있다든지.) 대입 연산자 함수를 꼭 만들어주어야 할 필요가 있음."
   ]
  },
  {
   "cell_type": "markdown",
   "metadata": {},
   "source": [
    "대입 사칙 연산 함수들인 ```+=, -=``` 역시 구현 가능.\n",
    "\n",
    "#### ```a += b```와 ```a = a + b```가 같다고 보장되지 않는 것 주의!\n",
    "\n",
    "컴파일러는 ```operator+```, ```operator=``` 정의해 놓았다고 해서 자동으로 바꾸어 주지 않음. ```++```와 ```+= 1```의 관계 또한 동일."
   ]
  },
  {
   "cell_type": "code",
   "execution_count": null,
   "metadata": {},
   "outputs": [],
   "source": [
    "Complex& Complex::operator+=(const Complex& c) {\n",
    "    (*this) = (*this) + c;\n",
    "    return *this;\n",
    "}\n",
    "// ..."
   ]
  },
  {
   "cell_type": "markdown",
   "metadata": {},
   "source": [
    "#### 문자열로 Complex 수와 덧셈하기\n",
    "\n",
    "```y = z + \"3+i2\";``` -> ```<부호> <실수부> <부호> i <허수부>```"
   ]
  },
  {
   "cell_type": "code",
   "execution_count": null,
   "metadata": {},
   "outputs": [],
   "source": [
    "Complex Complex::operator+(const char *str) {\n",
    "    int begin = 0, end = strlen(str);\n",
    "    double str_img = 0.0, str_real = 0.0;\n",
    "    \n",
    "    int pos_i = -1;\n",
    "    for (int i = 0; i != end; i--) {\n",
    "        if (str[i] == 'i') {\n",
    "            pos_i = i;\n",
    "            break;\n",
    "        }\n",
    "    }\n",
    "    if (pos_i == -1) {\n",
    "        str_real = get_number(str, begin, end - 1);\n",
    "        \n",
    "        Complex temp(str_real, str_img);\n",
    "        return (*this) + temp;\n",
    "    }\n",
    "    str_real = get_number(str, begin, pos_i - 1);\n",
    "    str_img = get_number(str, pos_i + 1, end - 1);\n",
    "    \n",
    "    if (pos_i >= 1 && str[pos_i - 1] == '-') str_img *= -1.0;\n",
    "    \n",
    "    Complex temp(str_real, str_img);\n",
    "    return (*this) + temp;\n",
    "}\n",
    "\n",
    "// std::atof() (cstdlib 헤더)\n",
    "double Complex::get_number(const char *str, int from, int to) const {\n",
    "    bool minus = false;\n",
    "    if (from > to) return 0;\n",
    "    \n",
    "    if (str[from] == '-') minus = true;\n",
    "    if (str[from] == '-' || str[from] == '+') from++;\n",
    "    \n",
    "    double num = 0.0;\n",
    "    double decimal = 1.0;\n",
    "    \n",
    "    bool integer_part = true;\n",
    "    for (int i = from; i <= to; i++) {\n",
    "        if (isdigit(str[i]) && integer_part) {\n",
    "            num *= 10;\n",
    "            num += (str[i] - '0');\n",
    "        } else if (str[i] == '.')\n",
    "            integer_part = false;\n",
    "        else if (isdigit(str[i]) && !integer_part) {\n",
    "            decimal /= 10.0;\n",
    "            num += ((str[i] - '0') * decimal);\n",
    "        } else\n",
    "            break;  // 그 이외의 이상한 문자들이 올 경우\n",
    "    }\n",
    "    \n",
    "    if (minus) num *= -1.0;\n",
    "    \n",
    "    return num;\n",
    "}"
   ]
  },
  {
   "cell_type": "markdown",
   "metadata": {},
   "source": [
    "덧셈 말고 다른 것도 일일이 만들 수도 있는데, 사실 이런 거 다 필요없이 ```Complex(const char *str);``` 생성자 만들어 주면 끝. 컴파일러가 암시적으로 다 변환해 주니까. 따라서 ```Complex operator-(const char *str) const;``` 이런 건 필요 없음.\n",
    "\n",
    "```a = a + \"-1.1 + i3.923\";``` -> ```a = a.operator+(\"-1.1 + i3.923\");``` -> ```a = a.operator+(Complex(\"-1.1 + i3.923\"));\n",
    "```"
   ]
  },
  {
   "cell_type": "markdown",
   "metadata": {},
   "source": [
    "#### issue\n",
    "\n",
    "```a = a + \"-1.1 + i3.923\";```은 가능한데, ```a = \"-1.1 + i3.923\" + a;```는 자동으로 변환이 불가능. 이러한 문제는 어떻게 해결해야 하나?"
   ]
  },
  {
   "cell_type": "markdown",
   "metadata": {},
   "source": [
    "# 5-2. 입출력, 첨자, 타입 변환, 증감 연산자 오버로딩"
   ]
  },
  {
   "cell_type": "code",
   "execution_count": null,
   "metadata": {},
   "outputs": [],
   "source": []
  }
 ],
 "metadata": {
  "kernelspec": {
   "display_name": "C++11",
   "language": "C++11",
   "name": "xcpp11"
  },
  "language_info": {
   "codemirror_mode": "text/x-c++src",
   "file_extension": ".cpp",
   "mimetype": "text/x-c++src",
   "name": "c++",
   "version": "11"
  }
 },
 "nbformat": 4,
 "nbformat_minor": 4
}
