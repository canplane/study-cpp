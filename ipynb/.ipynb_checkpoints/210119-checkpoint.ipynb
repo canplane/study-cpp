{
 "cells": [
  {
   "cell_type": "markdown",
   "metadata": {},
   "source": [
    "*2021/01/19 Tue*\n",
    "\n",
    "<hr>"
   ]
  },
  {
   "cell_type": "markdown",
   "metadata": {},
   "source": [
    "# 10-3. C++ STL - 알고리즘(algorithm)\n",
    "\n",
    "보통 형태가 아래 두 종류 중 하나다."
   ]
  },
  {
   "cell_type": "code",
   "execution_count": null,
   "metadata": {},
   "outputs": [],
   "source": [
    "template <typename Iter>\n",
    "void do_something(Iter begin, Iter end);\n",
    "\n",
    "template <typename Iter, typename Pred>\n",
    "void do_something(Iter begin, Iter end, Pred pred);"
   ]
  },
  {
   "cell_type": "markdown",
   "metadata": {},
   "source": [
    "## 정렬(sort, stable_sort, partial_sort)"
   ]
  },
  {
   "cell_type": "markdown",
   "metadata": {},
   "source": [
    "* `sort` : 일반적인 정렬 함수라 생각하면 된다.\n",
    "* `stable_sort` : 정렬을 하되 원소들 간의 순서를 보존한다.\n",
    "* `partial_sort` : 배열의 일부분만 정렬한다."
   ]
  },
  {
   "cell_type": "code",
   "execution_count": null,
   "metadata": {},
   "outputs": [],
   "source": [
    "#include <algorithm>\n",
    "#include <iostream>\n",
    "#include <vector>\n",
    "\n",
    "template <typename Iter>\n",
    "void print(Iter begin, Iter end) {\n",
    "    while (begin != end) {\n",
    "        std::cout << *begin << \" \";\n",
    "        begin++;\n",
    "    }\n",
    "    std::cout << std::endl;\n",
    "}\n",
    "\n",
    "int main() {\n",
    "    std::vector<int> vec;\n",
    "    vec.push_back(5);\n",
    "    vec.push_back(3);\n",
    "    vec.push_back(1);\n",
    "    vec.push_back(6);\n",
    "    vec.push_back(4);\n",
    "    vec.push_back(7);\n",
    "    vec.push_back(2);\n",
    "    \n",
    "    std::cout << \"정렬 전 ----\" << std::endl;\n",
    "    print(vec.begin(), vec.end());\n",
    "    std::sort(vec.begin(), vec.end());\n",
    "    \n",
    "    std::cout << \"정렬 후 ----\" << std::endl;\n",
    "    print(vec.begin(), vec.end());\n",
    "}"
   ]
  },
  {
   "cell_type": "markdown",
   "metadata": {},
   "source": [
    "```\n",
    "정렬 전 ----\n",
    "5 3 1 6 4 7 2\n",
    "정렬 후 ----\n",
    "1 2 3 4 5 6 7\n",
    "```\n",
    "\n",
    "sort에 들어가는 반복자는 반드시 임의 접근 반복자(RandomAccessIterator) 타입을 만족해야 함.\n",
    "그래서 다뤘던 컨테이너들 중에서는 벡터와 데크만 가능. 예로 들어 리스트의 경우는 양방향 반복자(BidirectionalIterator)이므로 안 됨."
   ]
  },
  {
   "cell_type": "code",
   "execution_count": null,
   "metadata": {},
   "outputs": [],
   "source": [
    "#include <algorithm>\n",
    "#include <iostream>\n",
    "#include <vector>\n",
    "\n",
    "template <typename Iter>\n",
    "void print(Iter begin, Iter end) {\n",
    "    while (begin != end) {\n",
    "        std::cout << *begin << \" \";\n",
    "        begin++;\n",
    "    }\n",
    "    std::cout << std::endl;\n",
    "}\n",
    "\n",
    "////\n",
    "struct int_compare {\n",
    "    bool operator()(const int& a, const int& b) const { return a > b; }\n",
    "};\n",
    "////\n",
    "\n",
    "int main() {\n",
    "    std::vector<int> vec;\n",
    "    vec.push_back(5);\n",
    "    vec.push_back(3);\n",
    "    vec.push_back(1);\n",
    "    vec.push_back(6);\n",
    "    vec.push_back(4);\n",
    "    vec.push_back(7);\n",
    "    vec.push_back(2);\n",
    "    \n",
    "    std::cout << \"정렬 전 ----\" << std::endl;\n",
    "    print(vec.begin(), vec.end());\n",
    "    std::sort(vec.begin(), vec.end(), int_compare()); //\n",
    "    \n",
    "    std::sort << \"정렬 후 ----\" << std::endl;\n",
    "    print(vec.begin(), vec.end());\n",
    "}"
   ]
  },
  {
   "cell_type": "markdown",
   "metadata": {},
   "source": [
    "```\n",
    "정렬 전 ----\n",
    "5 3 1 6 4 7 2\n",
    "정렬 후 ----\n",
    "7 6 5 4 3 2 1\n",
    "```\n",
    "\n",
    "그런데 `int`나 `string`과 같은 기본 타입들은 `<`, `>` 연산자들이 기본으로 내장되어 있다. 그러니 굳이 `int`, `string` 등등에 대하여 따로 함수 객체를 만들 필요 없다.\n",
    "\n",
    "그리고 `functional` 헤더에 다음과 같은 템플릿 클래스가 존재한다. `greater`에 사용하고자 하는 타입을 넣게 되면 위와 같은 함수 객체를 자동으로 만들어 준다."
   ]
  },
  {
   "cell_type": "code",
   "execution_count": null,
   "metadata": {},
   "outputs": [],
   "source": [
    "template <typename T>\n",
    "struct greater_comp {\n",
    "    bool operator()(const T& a, const T& b) const { return a > b; }\n",
    "};\n",
    "\n",
    "// 사용\n",
    "std::sort(vec.begin(), vec.end(), greater<int>());"
   ]
  },
  {
   "cell_type": "markdown",
   "metadata": {},
   "source": [
    "* `partial_sort`"
   ]
  },
  {
   "cell_type": "code",
   "execution_count": null,
   "metadata": {},
   "outputs": [],
   "source": [
    "#include <algorithm>\n",
    "#include <iostream>\n",
    "#include <vector>\n",
    "\n",
    "template <typename Iter>\n",
    "void print(Iter begin, Iter end) {\n",
    "    while (begin != end) {\n",
    "        std::cout << *begin << \" \";\n",
    "        begin++;\n",
    "    }\n",
    "    std::cout << std::endl;\n",
    "}\n",
    "\n",
    "int main() {\n",
    "    std::cout << std::endl;\n",
    "    vec.push_back(5);\n",
    "    vec.push_back(3);\n",
    "    vec.push_back(1);\n",
    "    vec.push_back(6);\n",
    "    vec.push_back(4);\n",
    "    vec.push_back(7);\n",
    "    vec.push_back(2);\n",
    "    \n",
    "    std::cout << \"정렬 전 ----\" << std::endl;\n",
    "    print(vec.begin(), vec.end());\n",
    "    std::partial_sort(vec.begin(), vec.begin() + 3, vec.end());\n",
    "    \n",
    "    std::cout << \"정렬 후 ----\" << std::endl;\n",
    "    print(vec.begin(), vec.end());\n",
    "}"
   ]
  },
  {
   "cell_type": "markdown",
   "metadata": {},
   "source": [
    "```\n",
    "정렬 전 ----\n",
    "5 3 1 6 4 7 2\n",
    "정렬 후 ----\n",
    "1 2 3 6 5 7 4\n",
    "```\n",
    "\n",
    "`partial_sort`는 일부만 정렬하는 함수. `std::partial_sort(start, middle, end)`\n",
    "\n",
    "복잡도 : 전체 원소 개수 `N`개, 정렬하려는 부분 크기가 `M`이라면 `partial_sort`의 복잡도는 $O(NlogM)$\n",
    "\n",
    "* `stable_sort`"
   ]
  },
  {
   "cell_type": "code",
   "execution_count": null,
   "metadata": {},
   "outputs": [],
   "source": [
    "#include <algorithm>\n",
    "#include <functional>\n",
    "#include <iostream>\n",
    "#include <string>\n",
    "#include <vector>\n",
    "\n",
    "template <typename Iter>\n",
    "void print(Iter begin, Iter end) {\n",
    "    while (begin != end) {\n",
    "        std::cout << \"[\" << *begin << \"] \";\n",
    "        begin++;\n",
    "    }\n",
    "    std::cout << std::endl;\n",
    "}\n",
    "struct User {\n",
    "    std::string name;\n",
    "    int age;\n",
    "    \n",
    "    User(std::string name, int age) : name(name), age(age) {}\n",
    "    \n",
    "    bool operator<(const User& u) const { return age < u.age; }\n",
    "};\n",
    "\n",
    "std::ostream& operator<<(std::ostream& o, const User& u) {\n",
    "    o << u.name << \", \" << u.age;\n",
    "    return o;\n",
    "}\n",
    "\n",
    "int main() {\n",
    "    std::vector<User> vec;\n",
    "    for (int i = 0; i < 100; i++) {\n",
    "        std::string name = \"\";\n",
    "        name.push_back('a' + i / 26);\n",
    "        name.push_back('a' + i % 26);\n",
    "        vec.push_back(User(name, static_cast<int>(rand() % 10)));\n",
    "    }\n",
    "    \n",
    "    std::vector<User> vec2 = vec;\n",
    "    \n",
    "    std::cout << \"정렬 전 ----\" << std::endl;\n",
    "    print(vec.begin(), vec.end());\n",
    "    \n",
    "    std::cout << \"정렬 후 ----\" << std::endl;\n",
    "    print(vec.begin(), vec.end());\n",
    "    \n",
    "    std::cout << \"stable_sort의 경우 ---\" << std::endl;\n",
    "    std::stable_sort(vec2.begin(), vec2.end());\n",
    "    print(vec2.begin(), vec2.end());\n",
    "}"
   ]
  },
  {
   "cell_type": "markdown",
   "metadata": {},
   "source": [
    "`stable_sort`는 `sort`보다 좀 더 오래 걸린다. C++ 표준에 따르면 `sort` 함수는 최악의 경우에도 $O(nlogn)$이 보장되지만 `stable_sort`의 경우 최악의 경우에서 $O(n(logn)^2)$으로 작동하게 됨. 조금 더 느린 편.\n",
    "\n",
    "## 원소 제거(remove, remove_if)"
   ]
  },
  {
   "cell_type": "code",
   "execution_count": null,
   "metadata": {},
   "outputs": [],
   "source": []
  }
 ],
 "metadata": {
  "kernelspec": {
   "display_name": "C++11",
   "language": "C++11",
   "name": "xcpp11"
  },
  "language_info": {
   "codemirror_mode": "text/x-c++src",
   "file_extension": ".cpp",
   "mimetype": "text/x-c++src",
   "name": "c++",
   "version": "11"
  }
 },
 "nbformat": 4,
 "nbformat_minor": 4
}
