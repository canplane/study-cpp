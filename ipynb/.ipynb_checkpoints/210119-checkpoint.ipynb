{
 "cells": [
  {
   "cell_type": "markdown",
   "metadata": {},
   "source": [
    "*2021/01/19 Tue*\n",
    "\n",
    "<hr>"
   ]
  },
  {
   "cell_type": "markdown",
   "metadata": {},
   "source": [
    "# 10-3. C++ STL - 알고리즘(algorithm)\n",
    "\n",
    "보통 형태가 아래 두 종류 중 하나다."
   ]
  },
  {
   "cell_type": "code",
   "execution_count": null,
   "metadata": {},
   "outputs": [],
   "source": [
    "template <typename Iter>\n",
    "void do_something(Iter begin, Iter end);\n",
    "\n",
    "template <typename Iter, typename Pred>\n",
    "void do_something(Iter begin, Iter end, Pred pred);"
   ]
  },
  {
   "cell_type": "markdown",
   "metadata": {},
   "source": [
    "## 정렬(sort, stable_sort, partial_sort)"
   ]
  },
  {
   "cell_type": "markdown",
   "metadata": {},
   "source": [
    "* `sort` : 일반적인 정렬 함수라 생각하면 된다.\n",
    "* `stable_sort` : 정렬을 하되 원소들 간의 순서를 보존한다.\n",
    "* `partial_sort` : 배열의 일부분만 정렬한다."
   ]
  },
  {
   "cell_type": "code",
   "execution_count": null,
   "metadata": {},
   "outputs": [],
   "source": [
    "#include <algorithm>\n",
    "#include <iostream>\n",
    "#include <vector>\n",
    "\n",
    "template <typename Iter>\n",
    "void print(Iter begin, Iter end) {\n",
    "    while (begin != end) {\n",
    "        std::cout << *begin << \" \";\n",
    "        begin++;\n",
    "    }\n",
    "    std::cout << std::endl;\n",
    "}\n",
    "\n",
    "int main() {\n",
    "    std::vector<int> vec;\n",
    "    vec.push_back(5);\n",
    "    vec.push_back(3);\n",
    "    vec.push_back(1);\n",
    "    vec.push_back(6);\n",
    "    vec.push_back(4);\n",
    "    vec.push_back(7);\n",
    "    vec.push_back(2);\n",
    "    \n",
    "    std::cout << \"정렬 전 ----\" << std::endl;\n",
    "    print(vec.begin(), vec.end());\n",
    "    std::sort(vec.begin(), vec.end());\n",
    "    \n",
    "    std::cout << \"정렬 후 ----\" << std::endl;\n",
    "    print(vec.begin(), vec.end());\n",
    "}"
   ]
  },
  {
   "cell_type": "markdown",
   "metadata": {},
   "source": [
    "```\n",
    "정렬 전 ----\n",
    "5 3 1 6 4 7 2\n",
    "정렬 후 ----\n",
    "1 2 3 4 5 6 7\n",
    "```\n",
    "\n",
    "sort에 들어가는 반복자는 반드시 임의 접근 반복자(RandomAccessIterator) 타입을 만족해야 함.\n",
    "그래서 다뤘던 컨테이너들 중에서는 벡터와 데크만 가능. 예로 들어 리스트의 경우는 양방향 반복자(BidirectionalIterator)이므로 안 됨."
   ]
  },
  {
   "cell_type": "code",
   "execution_count": null,
   "metadata": {},
   "outputs": [],
   "source": [
    "#include <algorithm>\n",
    "#include <iostream>\n",
    "#include <vector>\n",
    "\n",
    "template <typename Iter>\n",
    "void print(Iter begin, Iter end) {\n",
    "    while (begin != end) {\n",
    "        std::cout << *begin << \" \";\n",
    "        begin++;\n",
    "    }\n",
    "    std::cout << std::endl;\n",
    "}\n",
    "\n",
    "////\n",
    "struct int_compare {\n",
    "    bool operator()(const int& a, const int& b) const { return a > b; }\n",
    "};\n",
    "////\n",
    "\n",
    "int main() {\n",
    "    std::vector<int> vec;\n",
    "    vec.push_back(5);\n",
    "    vec.push_back(3);\n",
    "    vec.push_back(1);\n",
    "    vec.push_back(6);\n",
    "    vec.push_back(4);\n",
    "    vec.push_back(7);\n",
    "    vec.push_back(2);\n",
    "    \n",
    "    std::cout << \"정렬 전 ----\" << std::endl;\n",
    "    print(vec.begin(), vec.end());\n",
    "    std::sort(vec.begin(), vec.end(), int_compare()); //\n",
    "    \n",
    "    std::sort << \"정렬 후 ----\" << std::endl;\n",
    "    print(vec.begin(), vec.end());\n",
    "}"
   ]
  },
  {
   "cell_type": "markdown",
   "metadata": {},
   "source": [
    "```\n",
    "정렬 전 ----\n",
    "5 3 1 6 4 7 2\n",
    "정렬 후 ----\n",
    "7 6 5 4 3 2 1\n",
    "```\n",
    "\n",
    "그런데 `int`나 `string`과 같은 기본 타입들은 `<`, `>` 연산자들이 기본으로 내장되어 있다. 그러니 굳이 `int`, `string` 등등에 대하여 따로 함수 객체를 만들 필요 없다.\n",
    "\n",
    "그리고 `functional` 헤더에 다음과 같은 템플릿 클래스가 존재한다. `greater`에 사용하고자 하는 타입을 넣게 되면 위와 같은 함수 객체를 자동으로 만들어 준다."
   ]
  },
  {
   "cell_type": "code",
   "execution_count": null,
   "metadata": {},
   "outputs": [],
   "source": [
    "template <typename T>\n",
    "struct greater_comp {\n",
    "    bool operator()(const T& a, const T& b) const { return a > b; }\n",
    "};\n",
    "\n",
    "// 사용\n",
    "std::sort(vec.begin(), vec.end(), greater<int>());"
   ]
  },
  {
   "cell_type": "markdown",
   "metadata": {},
   "source": [
    "* `partial_sort`"
   ]
  },
  {
   "cell_type": "code",
   "execution_count": null,
   "metadata": {},
   "outputs": [],
   "source": [
    "#include <algorithm>\n",
    "#include <iostream>\n",
    "#include <vector>\n",
    "\n",
    "template <typename Iter>\n",
    "void print(Iter begin, Iter end) {\n",
    "    while (begin != end) {\n",
    "        std::cout << *begin << \" \";\n",
    "        begin++;\n",
    "    }\n",
    "    std::cout << std::endl;\n",
    "}\n",
    "\n",
    "int main() {\n",
    "    std::cout << std::endl;\n",
    "    vec.push_back(5);\n",
    "    vec.push_back(3);\n",
    "    vec.push_back(1);\n",
    "    vec.push_back(6);\n",
    "    vec.push_back(4);\n",
    "    vec.push_back(7);\n",
    "    vec.push_back(2);\n",
    "    \n",
    "    std::cout << \"정렬 전 ----\" << std::endl;\n",
    "    print(vec.begin(), vec.end());\n",
    "    std::partial_sort(vec.begin(), vec.begin() + 3, vec.end());\n",
    "    \n",
    "    std::cout << \"정렬 후 ----\" << std::endl;\n",
    "    print(vec.begin(), vec.end());\n",
    "}"
   ]
  },
  {
   "cell_type": "markdown",
   "metadata": {},
   "source": [
    "```\n",
    "정렬 전 ----\n",
    "5 3 1 6 4 7 2\n",
    "정렬 후 ----\n",
    "1 2 3 6 5 7 4\n",
    "```\n",
    "\n",
    "`partial_sort`는 일부만 정렬하는 함수. `std::partial_sort(start, middle, end)`\n",
    "\n",
    "복잡도 : 전체 원소 개수 `N`개, 정렬하려는 부분 크기가 `M`이라면 `partial_sort`의 복잡도는 $O(NlogM)$\n",
    "\n",
    "* `stable_sort`"
   ]
  },
  {
   "cell_type": "code",
   "execution_count": null,
   "metadata": {},
   "outputs": [],
   "source": [
    "#include <algorithm>\n",
    "#include <functional>\n",
    "#include <iostream>\n",
    "#include <string>\n",
    "#include <vector>\n",
    "\n",
    "template <typename Iter>\n",
    "void print(Iter begin, Iter end) {\n",
    "    while (begin != end) {\n",
    "        std::cout << \"[\" << *begin << \"] \";\n",
    "        begin++;\n",
    "    }\n",
    "    std::cout << std::endl;\n",
    "}\n",
    "struct User {\n",
    "    std::string name;\n",
    "    int age;\n",
    "    \n",
    "    User(std::string name, int age) : name(name), age(age) {}\n",
    "    \n",
    "    bool operator<(const User& u) const { return age < u.age; }\n",
    "};\n",
    "\n",
    "std::ostream& operator<<(std::ostream& o, const User& u) {\n",
    "    o << u.name << \", \" << u.age;\n",
    "    return o;\n",
    "}\n",
    "\n",
    "int main() {\n",
    "    std::vector<User> vec;\n",
    "    for (int i = 0; i < 100; i++) {\n",
    "        std::string name = \"\";\n",
    "        name.push_back('a' + i / 26);\n",
    "        name.push_back('a' + i % 26);\n",
    "        vec.push_back(User(name, static_cast<int>(rand() % 10)));\n",
    "    }\n",
    "    \n",
    "    std::vector<User> vec2 = vec;\n",
    "    \n",
    "    std::cout << \"정렬 전 ----\" << std::endl;\n",
    "    print(vec.begin(), vec.end());\n",
    "    \n",
    "    std::cout << \"정렬 후 ----\" << std::endl;\n",
    "    print(vec.begin(), vec.end());\n",
    "    \n",
    "    std::cout << \"stable_sort의 경우 ---\" << std::endl;\n",
    "    std::stable_sort(vec2.begin(), vec2.end());\n",
    "    print(vec2.begin(), vec2.end());\n",
    "}"
   ]
  },
  {
   "cell_type": "markdown",
   "metadata": {},
   "source": [
    "`stable_sort`는 `sort`보다 좀 더 오래 걸린다. C++ 표준에 따르면 `sort` 함수는 최악의 경우에도 $O(nlogn)$이 보장되지만 `stable_sort`의 경우 최악의 경우에서 $O(n(logn)^2)$으로 작동하게 됨. 조금 더 느린 편.\n",
    "\n",
    "## 원소 제거(remove, remove_if)\n",
    "\n",
    "사실 대부분의 컨테이너에는 원소를 제거하는 함수가 있다."
   ]
  },
  {
   "cell_type": "code",
   "execution_count": null,
   "metadata": {},
   "outputs": [],
   "source": [
    "std::vector<int> vec;\n",
    "// ...\n",
    "vec.erase(vec.begin() + 3);  // vec[3] 제거"
   ]
  },
  {
   "cell_type": "markdown",
   "metadata": {},
   "source": [
    "그런데, 이것만으로는 부족. 예로 들어, 벡터에서 값이 3인 원소를 제거하려면 아래와 같이 해야 했는데, 문제점이 있었다."
   ]
  },
  {
   "cell_type": "code",
   "execution_count": null,
   "metadata": {},
   "outputs": [],
   "source": [
    "#include <iostream>\n",
    "#include <vector>\n",
    "\n",
    "template <typename Iter>\n",
    "void print(Iter begin, Iter end) {\n",
    "    while (begin != end) {\n",
    "        std::cout << \"[\" << *begin << \"] \";\n",
    "        begin++;\n",
    "    }\n",
    "    std::cout << std::endl;\n",
    "}\n",
    "\n",
    "int main() {\n",
    "    std::vector<int> vec;\n",
    "    // ...\n",
    "    \n",
    "    std::vector<int>::iterator itr = vec.begin();\n",
    "    for (; begin != vec.end(); ++itr) {\n",
    "        if (*itr == 3) {\n",
    "            vec.erase(itr);\n",
    "            \n",
    "            itr = vec.begin();\n",
    "            // 원소가 제거될 때마다 기존에 제거하였던 반복자들이 초기화되므로 해당 위치를 가리키는 반복자를 다시 가져와야 했다.\n",
    "        }\n",
    "    }\n",
    "}"
   ]
  },
  {
   "cell_type": "markdown",
   "metadata": {},
   "source": [
    "해결하는 방법은?"
   ]
  },
  {
   "cell_type": "code",
   "execution_count": 1,
   "metadata": {},
   "outputs": [],
   "source": [
    "#include <algorithm>\n",
    "#include <functional>\n",
    "#include <iostream>\n",
    "#include <string>\n",
    "#include <vector>\n",
    "\n",
    "template <typename Iter>\n",
    "void print(Iter begin, Iter end) {\n",
    "    while (begin != end) {\n",
    "        std::cout << \"[\" << *begin << \"] \";\n",
    "        begin++;\n",
    "    }\n",
    "    std::cout << std::endl;\n",
    "}\n",
    "int main() {\n",
    "    std::vector<int> vec;\n",
    "    vec.push_back(5);\n",
    "    vec.push_back(3);\n",
    "    vec.push_back(1);\n",
    "    vec.push_back(2);\n",
    "    vec.push_back(3);\n",
    "    vec.push_back(4);\n",
    "    \n",
    "    std::cout << \"처음 vec 상태 ----\" << std::endl;\n",
    "    print(vec.begin(), vec.end());\n",
    "    \n",
    "    std::cout << \"벡터에서 값이 3인 원소 제거 ---\" << std::endl;\n",
    "    vec.erase(std::remove(vec.begin(), vec.end(), 3), vec.end());  ////\n",
    "    print(vec.begin(), vec.end());\n",
    "}"
   ]
  },
  {
   "cell_type": "code",
   "execution_count": 2,
   "metadata": {},
   "outputs": [
    {
     "name": "stdout",
     "output_type": "stream",
     "text": [
      "처음 vec 상태 ----\n",
      "[5] [3] [1] [2] [3] [4] \n",
      "벡터에서 값이 3인 원소 제거 ---\n",
      "[5] [1] [2] [4] \n"
     ]
    }
   ],
   "source": [
    "main();"
   ]
  },
  {
   "cell_type": "markdown",
   "metadata": {},
   "source": [
    "`remove` 함수는 원소의 이동만을 수행하지(뒤로 밀기) 실제로 원소를 삭제하는 연산을 수행하지는 않는다. 따라서 벡터에서 실제로 원소를 지우기 위해서는 반드시 `erase` 함수를 호출하여 실제로 원소를 지워줘야만 한다.\n",
    "\n",
    "```\n",
    "vec.erase(remove(vec.begin(), vec.end(), 3), vec.end());\n",
    "// 값이 3인 원소들을 뒤로 보내버리고, 그 원소들을 벡터에서 삭제해버린다.\n",
    "```\n",
    "`remove` 함수의 경우 반복자의 타입이 `ForwardIterator`(순방향 반복자)이므로 벡터뿐만 아니라, 리스트, 혹은 셋, 맵에서도 모두 사용할 수 있다.\n",
    "\n",
    "그리고 `erase` 함수는 2가지 형태가 있음.\n",
    "* `Iterator erase(Iterator pos);` : `pos`가 가리키는 원소를 벡터에서 지움\n",
    "* `Iterator erase(Iterator first, Iterator last);` : `first`부터 `last` 사이에 있는 모든 원소들을 지우는 형태\n",
    "\n",
    "\\+ 반복자 종류\n",
    "* 입력 반복자(input iterator)\n",
    "* 출력 반복자(output iterator)\n",
    "* 순방향 반복자(forward iterator)\n",
    "* 양방향 반복자(bidirectional iterator)\n",
    "* 임의 접근 반복자(random access iterator)\n",
    "\n",
    "값이 딱 얼마로 정해진 것이 아니라 특정한 조건을 만족하는 원소들은 제거하려면 그 조건을 판단할 함수를 전달해야 한다. -> `remove_if` 함수!"
   ]
  },
  {
   "cell_type": "code",
   "execution_count": null,
   "metadata": {},
   "outputs": [],
   "source": [
    "#include <algorithm>\n",
    "#include <functional>\n",
    "#include <iostream>\n",
    "#include <string>\n",
    "#include <vector>\n",
    "\n",
    "template <typename Iter>\n",
    "void print(Iter begin, Iter end) {\n",
    "    while (begin != end) {\n",
    "        std::cout << \"[\" << *begin << \"] \";\n",
    "        begin++;\n",
    "    }\n",
    "    std::cout << std::endl;\n",
    "}\n",
    "struct is_odd {\n",
    "    bool operator()(const int& i) { return i % 2 == 1; }  // true인 것 제거\n",
    "};\n",
    "int main() {\n",
    "    std::vector<int> vec;\n",
    "    vec.push_back(5);\n",
    "    vec.push_back(3);\n",
    "    vec.push_back(1);\n",
    "    vec.push_back(2);\n",
    "    vec.push_back(3);\n",
    "    vec.push_back(4);\n",
    "    \n",
    "    std::cout << \"처음 vec 상태 ------\" << std::endl;\n",
    "    print(vec.begin(), vec.end());\n",
    "    \n",
    "    std::cout << \"벡터에서 홀수인 원소 제거 ---\" << std::endl;\n",
    "    vec.erase(std::remove_if(vec.begin(), vec.end(), is_odd()), vec.end());  //\n",
    "    print(vec.begin(), vec.end());\n",
    "}"
   ]
  },
  {
   "cell_type": "markdown",
   "metadata": {},
   "source": [
    "`is_odd` 구조체에 `operator()`를 만들어서 함수 객체를 전달했는데, 함수 객체로 실제 함수를 전달할 수도 있다."
   ]
  },
  {
   "cell_type": "code",
   "execution_count": null,
   "metadata": {},
   "outputs": [],
   "source": [
    "template <typename Iter, typename Pred>\n",
    "remove_if(Iter first, Iter last, Pred pred);  // Pred는 함수 포인터 타입"
   ]
  },
  {
   "cell_type": "markdown",
   "metadata": {},
   "source": [
    "만약 홀수인 원소를 삭제하되, 처음 2개만 삭제한다면? 함수 객체의 경우는 사실 클래스의 객체이므로 멤버 변수를 생각할 수 있다."
   ]
  },
  {
   "cell_type": "code",
   "execution_count": null,
   "metadata": {},
   "outputs": [],
   "source": [
    "#include <algorithm>\n",
    "#include <functional>\n",
    "#include <iostream>\n",
    "#include <string>\n",
    "#include <vector>\n",
    "\n",
    "template <typename Iter>\n",
    "void print(Iter begin, Iter end) {\n",
    "    while (begin != end) {\n",
    "        std::cout << \"[\" << *begin << \"] \";\n",
    "        begin++;\n",
    "    }\n",
    "    std::cout << std::endl;\n",
    "}\n",
    "struct is_odd {\n",
    "    int num_delete;\n",
    "    is_odd() : num_delete(0) {}\n",
    "    \n",
    "    bool operator()(const int& i) {\n",
    "        if (num_delete >= 2) return false;\n",
    "        \n",
    "        if (i % 2 == 1) {\n",
    "            num_delete++;\n",
    "            return true;\n",
    "        }\n",
    "        return false;\n",
    "    }\n",
    "};\n",
    "\n",
    "int main() {\n",
    "    std::vector<int> vec;\n",
    "    vec.push_back(5);\n",
    "    vec.push_back(3);\n",
    "    vec.push_back(1);\n",
    "    vec.push_back(2);\n",
    "    vec.push_back(3);\n",
    "    vec.push_back(4);\n",
    "    \n",
    "    std::cout << \"처음 vec 상태 ------\" << std::endl;\n",
    "    print(vec.begin(), vec.end());\n",
    "    \n",
    "    std::cout << \"벡터에서 홀수인 원소 앞의 2개 제거 ---\" << std::endl;\n",
    "    vec.erase(std::remove_if(vec.begin(), vec.end(), is_odd()), vec.end());\n",
    "    print(vec.begin(), vec.end());\n",
    "}"
   ]
  },
  {
   "cell_type": "markdown",
   "metadata": {},
   "source": [
    "그런데 이렇게 짜면 안 된다. C++ 표준에 따르면, 함수 객체는 이전의 호출에 의해 내부 상태가 달라지면 안 된다. 즉, 함수 객체 안에 인스턴스 변수를 넣는 것은 원칙상 안 된다는 것. 왜냐하면 `remove_if`를 실제로 구현했을 때, 해당 함수 객체가 여러 번 복사될 수 있기 때문. 어떻게 구현하냐에 따라 달라짐. *(예시 코드는 원래 강좌에 제시)* 그리고 C++ 표준은 `remove_if` 함수를 어떤 방식으로 구현하라고 정해 놓지 않았다.\n",
    "\n",
    "그럼 어떻게 하는가? `num_delete`를 객체 내부 변수가 아니라 외부 변수로 빼는 방법이 있다."
   ]
  },
  {
   "cell_type": "code",
   "execution_count": 3,
   "metadata": {},
   "outputs": [],
   "source": [
    "#include <algorithm>\n",
    "#include <functional>\n",
    "#include <iostream>\n",
    "#include <string>\n",
    "#include <vector>\n",
    "\n",
    "template <typename Iter>\n",
    "void print(Iter begin, Iter end) {\n",
    "    while (begin != end) {\n",
    "        std::cout << \"[\" << *begin << \"] \";\n",
    "        begin++;\n",
    "    }\n",
    "    std::cout << std::endl;\n",
    "}\n",
    "struct is_odd {\n",
    "    int *num_delete;\n",
    "    \n",
    "    is_odd(int *num_delete) : num_delete(num_delete) {}\n",
    "    \n",
    "    bool operator()(const int& i) {\n",
    "        if (*num_delete >= 2) return false;\n",
    "        \n",
    "        if (i % 2 == 1) {\n",
    "            (*num_delete)++;\n",
    "            return true;\n",
    "        }\n",
    "        return false;\n",
    "    }\n",
    "};\n",
    "int main() {\n",
    "    std::vector<int> vec;\n",
    "    vec.push_back(5);\n",
    "    vec.push_back(3);\n",
    "    vec.push_back(1);\n",
    "    vec.push_back(2);\n",
    "    vec.push_back(3);\n",
    "    vec.push_back(4);\n",
    "    \n",
    "    std::cout << \"처음 vec 상태 ------\" << std::endl;\n",
    "    print(vec.begin(), vec.end());\n",
    "    \n",
    "    std::cout << \"벡터에서 홀수인 원소 앞의 2개 제거 ---\" << std::endl;\n",
    "    int num_delete = 0;\n",
    "    vec.erase(std::remove_if(vec.begin(), vec.end(), is_odd(&num_delete)), vec.end());\n",
    "    print(vec.begin(), vec.end());\n",
    "}"
   ]
  },
  {
   "cell_type": "code",
   "execution_count": 4,
   "metadata": {},
   "outputs": [
    {
     "name": "stdout",
     "output_type": "stream",
     "text": [
      "처음 vec 상태 ------\n",
      "[5] [3] [1] [2] [3] [4] \n",
      "벡터에서 홀수인 원소 앞의 2개 제거 ---\n",
      "[1] [2] [3] [4] \n"
     ]
    }
   ],
   "source": [
    "main();"
   ]
  },
  {
   "cell_type": "markdown",
   "metadata": {},
   "source": [
    "그런데, 이렇게 하면 안 좋은 점은 STL을 사용할 때마다 외부에 클래스나 함수를 하나씩 만들어줘야 한다는 것. 물론 프로젝트의 크기가 작다면 크게 문제가 되지는 않겠지만 프로젝트의 크기가 커진다면, 잘못 사용하게 될 수 있음.\n",
    "\n",
    "그래서 제일 이상적인 방법은 STL 알고리즘을 사용할 때 그 안에 써 놓는 것!\n",
    "\n",
    "## 람다 함수(lambda function)\n",
    "\n",
    "C++ 11에서 처음 도입. 익명의 함수 객체!"
   ]
  },
  {
   "cell_type": "code",
   "execution_count": 6,
   "metadata": {},
   "outputs": [],
   "source": [
    "#include <algorithm>\n",
    "#include <functional>\n",
    "#include <iostream>\n",
    "#include <string>\n",
    "#include <vector>\n",
    "\n",
    "template <typename Iter>\n",
    "void print(Iter begin, Iter end) {\n",
    "    while (begin != end) {\n",
    "        std::cout << \"[\" << *begin << \"] \";\n",
    "        begin++;\n",
    "    }\n",
    "    std::cout << std::endl;\n",
    "}\n",
    "\n",
    "int main() {\n",
    "    std::vector<int> vec;\n",
    "    vec.push_back(5);\n",
    "    vec.push_back(3);\n",
    "    vec.push_back(1);\n",
    "    vec.push_back(2);\n",
    "    vec.push_back(3);\n",
    "    vec.push_back(4);\n",
    "    \n",
    "    std::cout << \"처음 vec 상태 ------\" << std::endl;\n",
    "    print(vec.begin(), vec.end());\n",
    "    \n",
    "    std::cout << \"벡터에서 홀수인 원소 제거 ---\" << std::endl;\n",
    "    vec.erase(std::remove_if(vec.begin(), vec.end(), \n",
    "            [](int i) -> bool { return i % 2 == 1; }),  // 람다 함수\n",
    "        vec.end());\n",
    "    print(vec.begin(), vec.end());\n",
    "}"
   ]
  },
  {
   "cell_type": "code",
   "execution_count": 7,
   "metadata": {},
   "outputs": [
    {
     "name": "stdout",
     "output_type": "stream",
     "text": [
      "처음 vec 상태 ------\n",
      "[5] [3] [1] [2] [3] [4] \n",
      "벡터에서 홀수인 원소 제거 ---\n",
      "[2] [4] \n"
     ]
    }
   ],
   "source": [
    "main();"
   ]
  },
  {
   "cell_type": "markdown",
   "metadata": {},
   "source": [
    "람다 함수 : `[](int i) -> bool { return i % 2 == 1; }`\n",
    "```\n",
    "[capture list] (받는 인자) -> 리턴 타입 { 함수 본체 }\n",
    "```\n",
    "\n",
    "리턴 타입을 생략한다면 알아서 추측해줌. return 경로가 여러 군데여서 추측할 수 없다면 컴파일 오류가 발생하지만.\n",
    "```\n",
    "[capture list] (받는 인자) { 함수 본체 }\n",
    "```\n",
    "\n",
    "* 호출 : \n",
    "```\n",
    "[](int i) { return i % 2 == 1; }(3);  // true\n",
    "```\n",
    "또는\n",
    "```\n",
    "auto func = [](int i) { return i % 2 == 1; };\n",
    "func(4);  // false\n",
    "```"
   ]
  },
  {
   "cell_type": "code",
   "execution_count": null,
   "metadata": {},
   "outputs": [],
   "source": [
    "std::cout << \"벡터에서 홀수인 원소 최대 2개 제거 ---\" << std::endl;\n",
    "int num_erased = 0;\n",
    "vec.erase(std::remove_if(vec.begin(), vec.end(),\n",
    "                        [&num_erased](int i) {\n",
    "                            // 이럴 때 캡쳐 목록(capture list)을 사용하는 것!! 없으면 참조 못함. 함수니까 자신만의 스코프가 있음.\n",
    "                            if (num_erase >= 2)\n",
    "                                return false;\n",
    "                            else if (i % 2 == 1) {\n",
    "                                num_erased++;\n",
    "                                return true;\n",
    "                            }\n",
    "                            return false;\n",
    "                        }),\n",
    "          vec.end());\n",
    "print(vec.begin(), vec.end());"
   ]
  },
  {
   "cell_type": "markdown",
   "metadata": {},
   "source": [
    "캡처 목록에서 `num_erase` 앞에 `&`가 붙어 있는데, 레퍼런스를 캡처한다는 의미! 즉, 함수 내부에서 `num_erased`의 값을 바꿀 수 있음.\n",
    "\n",
    "만약 `&`을 앞에 붙이지 않는다면 그것의 복사본을 얻는데 그 형태가 `const`가 됨. 그래서 내부에서 `num_erased`의 값을 바꿀 수 없게 됨.\n",
    "\n",
    "그러면 클래스의 멤버 함수 안에서 람다를 사용할 때, 멤버 변수들을 참조하려면 어떻게 해야 할까? 그 때는 그냥 직접 멤버 변수를 전달하기보다는 `[this]`로 전달하고 `if (this->num_erased >= 2) ...`와 같이 사용하면 된다. `this`를 복사본으로 전달하는 것.(`this`는 레퍼런스로는 전달할 수 없음.)\n",
    "\n",
    "캡처 리스트의 사용 방법은 이것 말고도 꽤 많음.\n",
    "* `[]` : 아무것도 캡처 안 함.\n",
    "* `[&a, b]` : `a`는 레퍼런스로 캡처, `b`는 (변경 불가능한) 복사본으로 캡처.\n",
    "* `[&]` : 외부의 모든 변수들을 레퍼런스로 캡처.\n",
    "* `[=]` : 외부의 모든 변수들을 복사본으로 캡처.\n",
    "\n",
    "## 원소 수정하기(transform)"
   ]
  },
  {
   "cell_type": "code",
   "execution_count": null,
   "metadata": {},
   "outputs": [],
   "source": []
  }
 ],
 "metadata": {
  "kernelspec": {
   "display_name": "C++11",
   "language": "C++11",
   "name": "xcpp11"
  },
  "language_info": {
   "codemirror_mode": "text/x-c++src",
   "file_extension": ".cpp",
   "mimetype": "text/x-c++src",
   "name": "c++",
   "version": "11"
  }
 },
 "nbformat": 4,
 "nbformat_minor": 4
}
