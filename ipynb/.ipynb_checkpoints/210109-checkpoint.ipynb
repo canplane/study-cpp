{
 "cells": [
  {
   "cell_type": "markdown",
   "metadata": {},
   "source": [
    "*2021/01/09 Sat*"
   ]
  },
  {
   "cell_type": "markdown",
   "metadata": {},
   "source": [
    "# 4-4. 스타크래프트를 만들자 2 (const, static)"
   ]
  },
  {
   "cell_type": "markdown",
   "metadata": {},
   "source": [
    "## 생성자의 초기화 리스트(initializer list)"
   ]
  },
  {
   "cell_type": "code",
   "execution_count": null,
   "metadata": {},
   "outputs": [],
   "source": [
    "Marine::Marine(int coord_x, int coord_y)\n",
    "    : coord_x(coord_x), coord_y(coord_y), is_dead(false) {}\n",
    "\n",
    "// 아래 코드와 동일.\n",
    "\n",
    "Marine::Marine(int _coord_x, int _coord_y) {\n",
    "    coord_x = _coord_x;\n",
    "    coord_y = _coord_y;\n",
    "    is_dead = false;\n",
    "}\n",
    "\n",
    "/*\n",
    "위는 int a = 10;, 아래는 int a; a = 10;의 느낌.\n",
    "레퍼런스나 상수는 생성과 동시에 초기화되어야 했음. 복사 생성자도 그렇고. 이럴 때 위처럼 초기화 리스트를 쓰는 것.\n",
    "*/"
   ]
  },
  {
   "cell_type": "code",
   "execution_count": null,
   "metadata": {},
   "outputs": [],
   "source": [
    "class Test {\n",
    "    int i;\n",
    "    public:\n",
    "        Test(int i) : i(i) {}\n",
    "};\n",
    "int main() {\n",
    "    Test a = 10; // 가능 -> Test a(10);\n",
    "    // int i(10);도 됨.\n",
    "}"
   ]
  },
  {
   "cell_type": "markdown",
   "metadata": {},
   "source": [
    "## static 변수\n",
    "\n",
    "클래스 하나에만 종속되는 변수. 클래스의 모든 객체들이 공유하는 변수."
   ]
  },
  {
   "cell_type": "code",
   "execution_count": null,
   "metadata": {},
   "outputs": [],
   "source": [
    "class Marine {\n",
    "    static int total_marine_num;\n",
    "    // static 변수를 클래스 내부에서 초기화하는 건 불가능. const static이면 가능 (e.g., const static int x = 0;)\n",
    "    \n",
    "    public:\n",
    "        Marine();\n",
    "        Marine(int x, int y);\n",
    "        Marine(int x, int y, int default_damage);\n",
    "    \n",
    "        ~Marine() { total_marine_num--; }\n",
    "};\n",
    "\n",
    "////\n",
    "int Marine::total_marine_num = 0;\n",
    "////\n",
    "\n",
    "Marine::Marine()\n",
    "    : hp(50), coord_x(0), coord_y(0), default_damage(5), is_dead(false) {\n",
    "    total_marine_num++;\n",
    "}\n",
    "..."
   ]
  },
  {
   "cell_type": "markdown",
   "metadata": {},
   "source": [
    "* static 함수\n",
    "\n",
    "```static T func(arg, ...);```\n",
    "\n",
    "호출 : ```(객체).(멤버 변수/함수)``` vs ```(클래스)::(static 변수/함수)```"
   ]
  },
  {
   "cell_type": "markdown",
   "metadata": {},
   "source": [
    "## this 키워드"
   ]
  },
  {
   "cell_type": "code",
   "execution_count": 3,
   "metadata": {},
   "outputs": [],
   "source": [
    "class Marine {\n",
    "    ...\n",
    "    public:\n",
    "        Marine& be_attacked(int damage_earn);\n",
    "    ...\n",
    "};\n",
    "\n",
    "Marine& Marine::be_attacked(int damage_earn) {\n",
    "    hp -= damage_earn; // this->hp -= damage_earn;\n",
    "    if (hp <= 0) is_dead = true; // if (this->hp <= 0) this->is_dead = true;\n",
    "            \n",
    "    return *this;\n",
    "}"
   ]
  },
  {
   "cell_type": "markdown",
   "metadata": {},
   "source": [
    "* 레퍼런스를 리턴하는 함수"
   ]
  },
  {
   "cell_type": "code",
   "execution_count": null,
   "metadata": {},
   "outputs": [],
   "source": [
    "class Test {\n",
    "    int x;\n",
    "    ...\n",
    "    public:\n",
    "        int& access_x() { return x; }\n",
    "        int get_x() { return x; }\n",
    "        void show_x() { std::cout << x << std::endl; }\n",
    "    ...\n",
    "};\n",
    "\n",
    "Test a;\n",
    "int& d = a.get_x(); // 컴파일 오류 : int&는 lvalue에 대한 레퍼런스, a.get_x()는 rvalue\n",
    "d = 4;"
   ]
  },
  {
   "cell_type": "markdown",
   "metadata": {},
   "source": [
    "부연 설명 - 좌측값은 어떠한 메모리를 가리키는데, & 연산자를 통해 그 위치를 참조할 수 있다. 우측값은 좌측값이 아닌 값들이다."
   ]
  },
  {
   "cell_type": "markdown",
   "metadata": {},
   "source": [
    "## 상수 함수\n",
    "\n",
    "변수들의 값을 바꾸지 않고 읽기만 하는, 마치 상수 같은 함수."
   ]
  },
  {
   "cell_type": "code",
   "execution_count": null,
   "metadata": {},
   "outputs": [],
   "source": [
    "class Test {\n",
    "    public:\n",
    "        int attack() const;\n",
    "};\n",
    "\n",
    "int Test::attack() const { return default_damage; }"
   ]
  },
  {
   "cell_type": "markdown",
   "metadata": {},
   "source": [
    "## 생각해보기\n",
    "\n",
    "아래와 같은 코드에서 *복사 생성*은 몇 번이나 표시될까요?"
   ]
  },
  {
   "cell_type": "code",
   "execution_count": null,
   "metadata": {},
   "outputs": [],
   "source": [
    "#include <iostream>\n",
    "\n",
    "class A {\n",
    "  int x;\n",
    "\n",
    " public:\n",
    "  A(int c) : x(c) {}\n",
    "  A(const A& a) {\n",
    "    x = a.x;\n",
    "    std::cout << \"복사 생성\" << std::endl;\n",
    "  }\n",
    "};\n",
    "\n",
    "class B {\n",
    "  A a;\n",
    "\n",
    " public:\n",
    "  B(int c) : a(c) {}\n",
    "  B(const B& b) : a(b.a) {}\n",
    "  A get_A() {\n",
    "    A temp(a);\n",
    "    return temp;\n",
    "  }\n",
    "};\n",
    "\n",
    "int main() {\n",
    "  B b(10);\n",
    "\n",
    "  std::cout << \"---------\" << std::endl;\n",
    "  A a1 = b.get_A();\n",
    "}"
   ]
  },
  {
   "cell_type": "markdown",
   "metadata": {},
   "source": [
    "-> 3번(A temp(a); return temp; A a1 = b.get_A();) (return temp; -> temp -> 임시 객체)\n",
    "\n",
    "단, 컴파일러는 copy elision이라는 기술 사용해서 불필요한 복사 막고 있음. -> temp가 a1 객체의 복사 생성자에 바로 들어간다 생각하면 2번이 나올 수도 있는 것."
   ]
  },
  {
   "cell_type": "markdown",
   "metadata": {},
   "source": [
    "# 5. 내가 만드는 String 클래스"
   ]
  },
  {
   "cell_type": "code",
   "execution_count": null,
   "metadata": {},
   "outputs": [],
   "source": [
    "while (some_condition) {\n",
    "  str.insert(some_location, 'a');\n",
    "}"
   ]
  },
  {
   "cell_type": "markdown",
   "metadata": {},
   "source": [
    "'insert 작업에서의 잦은 할당/해제를 피하기 위해 미리 메모리를 할당해놓기' 와 '메모리를 할당해 놓되, 많은 자원을 낭비하지 않는다' 라는 두 조건을 모두 만족하는 방법이 있을까요? 물론 있습니다. 메모리를 미리 할당할 경우, 현재 메모리 크기의 두 배 정도를 할당해 놓는다는 것입니다."
   ]
  },
  {
   "cell_type": "code",
   "execution_count": null,
   "metadata": {},
   "outputs": [],
   "source": [
    "if (string_length + str.string_length > memory_capacity) {\n",
    "    // 이제 새롭게 동적으로 할당을 해야 한다.\n",
    "\n",
    "    if (memory_capacity * 2 > string_length + str.string_length)\n",
    "      memory_capacity *= 2;\n",
    "    else\n",
    "      memory_capacity = string_length + str.string_length;\n",
    "..."
   ]
  },
  {
   "cell_type": "markdown",
   "metadata": {},
   "source": [
    "위와 같은 방법은 C++에서 동적으로 할당되는 메모리를 처리하는 데 매우 빈번하게 사용되는 기법 중 하나!"
   ]
  },
  {
   "cell_type": "markdown",
   "metadata": {},
   "source": [
    "문자열을 검색하는 알고리즘은 수 없이 많지만, 어떤 상황에 대해서도 좋은 성능을 발휘하는 알고리즘은 없습니다. (예를 들어 짧은 문자열 검색에 최적화 된 알고리즘과 긴 문자열 검색에 최적화 된 알고리즘들 같이 말입니다) 그렇기에 특별한 알고리즘을 사용하는 경우에는 그 클래스의 사용 목적이 명확해서 그 알고리즘이 좋은 성능을 발휘할 수 있는 경우에만 사용하는 것이 보통입니다. 따라서 우리의 MyString 의 경우, 가장 간단한 방법으로 find 알고리즘을 구현하기로 하였습니다."
   ]
  },
  {
   "cell_type": "markdown",
   "metadata": {},
   "source": [
    "여태까지 배운 C++ 에 대한 내용을 종합해서 훌륭한 MyString 클래스를 만들었다고 볼 수 있습니다. 우리의 MyString 클래스는 다음과 같은 인터페이스를 제공합니다.\n",
    "* 문자 c 혹은 C 형식 문자열 str 에서 생성할 수 있는 생성자와 복사 생성자\n",
    "* 문자열의 길이를 리턴하는 함수(length)\n",
    "* 문자열 대입 함수(assign)\n",
    "* 문자열 메모리 할당 함수(reserve) 및 현재 할당된 크기를 알아오는 함수(capacity)\n",
    "* 특정 위치의 문자를 리턴하는 함수(at)\n",
    "* 특정 위치에 특정 문자열을 삽입하는 함수(insert)\n",
    "* 특정 위치의 특정 개수의 문자를 지우는 함수(erase)\n",
    "* 특정 위치를 시작으로 특정 문자열을 검색하는 함수(find)\n",
    "* 두 문자열을 사전식 비교하는 함수(compare)"
   ]
  },
  {
   "cell_type": "markdown",
   "metadata": {},
   "source": [
    "## 생각해보기\n",
    "\n",
    "여러가지 검색 알고리즘(KMP, Boyer - Moore) 들을 이용하는 find 함수를 만들어보세요. 어떤 알고리즘의 경우 미리 계산된 테이블이 필요할 텐데, 이러한 정보들 역시 class 변수로 처리하셔도 됩니다. (난이도 : 上)"
   ]
  },
  {
   "cell_type": "markdown",
   "metadata": {},
   "source": [
    "# 4-6. 클래스의 explicit과 mutable 키워드"
   ]
  },
  {
   "cell_type": "markdown",
   "metadata": {},
   "source": [
    "## explicit"
   ]
  },
  {
   "cell_type": "code",
   "execution_count": null,
   "metadata": {},
   "outputs": [],
   "source": [
    "class MyString {\n",
    "    ...\n",
    "public:\n",
    "    MyString(int capacity);\n",
    "    void DoSomethingWithString(MyString s);\n",
    "    ...\n",
    "}\n",
    "\n",
    "int main()\n",
    "{\n",
    "    ...\n",
    "    DoSomethingWithString(3); // 실수 -> 그러나 컴파일러는 3을 MyString(3)으로 implicit conversion.\n",
    "    ...\n",
    "}"
   ]
  },
  {
   "cell_type": "markdown",
   "metadata": {},
   "source": [
    "C++ 컴파일러는 꽤 똑똑해서 위와 같이 오류가 나야 하는 코드도 적당한 생성자를 찾고 암시적 변환해서 컴파일.\n",
    "\n",
    "-> ```explicit``` 키워드를 통해 원치 않는 암시적 변환을 할 수 없도록 컴파일러에게 명시할 수 있음."
   ]
  },
  {
   "cell_type": "code",
   "execution_count": null,
   "metadata": {},
   "outputs": [],
   "source": [
    "class MyString {\n",
    "    ...\n",
    "public:\n",
    "    explicit MyString(int capacity);\n",
    "    void DoSomethingWithString(MyString s);\n",
    "    ...\n",
    "}\n",
    "\n",
    "int main()\n",
    "{\n",
    "    ...\n",
    "    DoSomethingWithString(3); // error : no matching function for call to 'DoSomethingWithString'\n",
    "    ...\n",
    "}"
   ]
  },
  {
   "cell_type": "markdown",
   "metadata": {},
   "source": [
    "## mutable\n",
    "\n",
    "외부에서 보기에 상수 함수일지라도, 내부에서 데이터베이스에 대한 cache 변수가 존재해서 그것을 업데이트하는 작업과 같은 것을 수행하는 애매한 경우."
   ]
  },
  {
   "cell_type": "code",
   "execution_count": null,
   "metadata": {},
   "outputs": [],
   "source": [
    "class Server {\n",
    "    // ... (생략) ...\n",
    "    \n",
    "    mutable Cache cache; // mutable 키워드 선언\n",
    "    \n",
    "    User GetUserInfo(const int user_id) const {\n",
    "        Data user_data = cache.find(user_id);\n",
    "        \n",
    "        if (!user_data) {\n",
    "            user_data = Database.find(user_id);\n",
    "            \n",
    "            cache.update(user_id, user_data); // mutable이 아니었다면, 내부 상태를 변경하는 동작이므로 불가능\n",
    "        }\n",
    "        \n",
    "        return User(user_data);\n",
    "    }\n",
    "};\n"
   ]
  }
 ],
 "metadata": {
  "kernelspec": {
   "display_name": "C++11",
   "language": "C++11",
   "name": "xcpp11"
  },
  "language_info": {
   "codemirror_mode": "text/x-c++src",
   "file_extension": ".cpp",
   "mimetype": "text/x-c++src",
   "name": "c++",
   "version": "11"
  }
 },
 "nbformat": 4,
 "nbformat_minor": 4
}
