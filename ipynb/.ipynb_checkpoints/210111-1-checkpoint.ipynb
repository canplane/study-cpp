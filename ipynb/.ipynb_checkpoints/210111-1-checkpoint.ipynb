{
 "cells": [
  {
   "cell_type": "markdown",
   "metadata": {},
   "source": [
    "*2021/01/11 Mon*\n",
    "\n",
    "<hr>"
   ]
  },
  {
   "cell_type": "markdown",
   "metadata": {},
   "source": [
    "# 7-1. C++에서의 입출력(```istream```, ```ostream```)"
   ]
  },
  {
   "cell_type": "markdown",
   "metadata": {},
   "source": [
    "## C++ 입출력 라이브러리\n",
    "\n",
    "![구조](figures/Screen%20Shot%202021-01-11%20at%201.16.33%20AM.png)\n",
    "\n",
    "다음 2개 클래스는 입출력 작업을 위해 바탕을 깔아주는 클래스이다.\n",
    "* ```ios_base``` : 많은 일은 하지 않고, 스트림의 입출력 형식 관련 데이터를 처리한다. 예로 들어, 실수형을 출력할 때의 정밀도, 또는 정수형 출력을 10진수로 할지, 16진수로 할지 등.\n",
    "\n",
    "* ```ios``` : 스트림 버퍼 초기화, 입출력 작업의 상태 처리(```eof()```, ```good()```(현재 입출력 작업을 잘 수행하고 있는지), ...) 등"
   ]
  },
  {
   "cell_type": "markdown",
   "metadata": {},
   "source": [
    "## ```istream``` 클래스\n",
    "\n",
    "실제로 입력을 수행하는 클래스\n",
    "\n",
    "```cin```, ```operator>>()```, ...\n",
    "\n",
    "> <pre>istream& operator>>(bool& val);\n",
    "istream& operator>>(short& val);\n",
    "...\n",
    "</pre>\n",
    "\n",
    "물론, 위와 같은 멤버 함수 말고도, 외부 함수로 연산자 오버로딩 가능.\n",
    "> <pre>istream& operator>>(istream& in, std::string& s) { ... }</pre>\n",
    "\n",
    "또한 ```operator>>```에서는 모든 공백 문자를 입력 시 무시해 버린다."
   ]
  },
  {
   "cell_type": "code",
   "execution_count": 1,
   "metadata": {},
   "outputs": [],
   "source": [
    "#include <iostream>\n",
    "#include <string>\n",
    "\n",
    "int main() {\n",
    "  std::string s;\n",
    "  while (true) {\n",
    "    std::cin >> s;\n",
    "    std::cout << \"word : \" << s << std::endl;\n",
    "  }\n",
    "}"
   ]
  },
  {
   "cell_type": "markdown",
   "metadata": {},
   "source": [
    "\\- 실행 결과\n",
    "\n",
    "> <pre>this is a long sentence\n",
    "word : this\n",
    "word : is\n",
    "word : a\n",
    "word : long\n",
    "word : sentence\n",
    "ABCD EFGH IJKL\n",
    "word : ABCD\n",
    "word : EFGH\n",
    "word : IJKL\n",
    "</pre>"
   ]
  },
  {
   "cell_type": "markdown",
   "metadata": {},
   "source": [
    "* 정수를 입력받는 프로그램"
   ]
  },
  {
   "cell_type": "code",
   "execution_count": null,
   "metadata": {},
   "outputs": [],
   "source": [
    "#include <iostream>\n",
    "using namespace std;\n",
    "int main() {\n",
    "    int t;\n",
    "    while (true) {\n",
    "        std::cin >> t;\n",
    "        std::cout << \"입력 :: \" << t << std::endl;\n",
    "        if (t == 0) break;\n",
    "    }\n",
    "}"
   ]
  },
  {
   "cell_type": "markdown",
   "metadata": {},
   "source": [
    "그런데 이 프로그램에서 숫자가 아닌 문자(예로 들어, '*c*')를 입력했다면, ```t```의 쓰레기 값이 바뀌지 않고 무한 루프에 빠지는 기괴한 결과가 나타남.\n",
    "\n",
    "```ios``` 클래스에서 스트림의 상태를 관리한다고 했는데, 스트림의 상태를 관리하는 <u>플래그 4개</u>가 정의되어 있음.\n",
    "* ```goodbit``` : 스트림에 입출력 작업이 가능할 때\n",
    "* ```badbit``` : 스트림에 복구 불가능한 오류 발생 시\n",
    "* ```failbit``` : 스트림에 복구 가능한 오류 발생 시\n",
    "* ```eofbit``` : 입력 작업 시에 ```EOF``` 도달 시\n",
    "\n",
    "위와 같은 문제에서는 ```failbit```가 켜지고, 입력 값을 받지 않고 리턴해 버림. 그런데, 버퍼에 남아 있는 '*c\\n*' 문자열에는 여전히 손대지 않고 있으니 무한 루프에 빠지는 것!"
   ]
  },
  {
   "cell_type": "code",
   "execution_count": null,
   "metadata": {},
   "outputs": [],
   "source": [
    "int t;\n",
    "while (std::cin >> t) {\n",
    "    std::cout << \"입력 :: \" << t << std::endl;\n",
    "    if (t == 0) break;\n",
    "}"
   ]
  },
  {
   "cell_type": "markdown",
   "metadata": {},
   "source": [
    "위 코드로 수정하면 제대로 처리됨.\n",
    "\n",
    "\\- 과정\n",
    "* ```operator>>()```는 호출한 자신인 ```cin```을 리턴함.\n",
    "* 그리고 ```operator void*() const;```가 정의되어 있는데, ```NULL```을 리턴하지 않는 조건이 ```failbit```, ```badbit```가 모두 ```off```일 때, 즉 스트림에 정상적으로 입출력 작업을 수행할 수 있을 때임.\n",
    "* 그래서 ```ios``` 객체 → ```void *``` → ```bool```로 가는 2단 변환을 통해서 ```while``` 문을 빠져 나오는 것.\n",
    "\n",
    "그런데, 플래그와 버퍼를 다시 초기화하는 것이 아니니까 더 입력받을 수 없는 것은 마찬가지."
   ]
  },
  {
   "cell_type": "code",
   "execution_count": null,
   "metadata": {},
   "outputs": [],
   "source": [
    "int t;\n",
    "while (true) {\n",
    "    std::cin >> t;\n",
    "    std::cout << \"입력 :: \" << t << std::endl;\n",
    "    if (std::cin.fail()) {\n",
    "        std::cout << \"제대로 입력해주세요\" << std::endl;\n",
    "        std::cin.clear();            // 플래그들을 초기화 하고\n",
    "        std::cin.ignore(100, '\\n');  // 개행문자가 나올 때 까지 무시한다\n",
    "    }\n",
    "    if (t == 1) break;\n",
    "}"
   ]
  },
  {
   "cell_type": "markdown",
   "metadata": {},
   "source": [
    "위 코드로 수정하면 문제점 해결하고 계속 입력받을 수 있음.\n",
    "\n",
    "\\- 과정\n",
    "* ```failbit``` 또는 ```badbit```가 ```true```라면, ```ios::fail()```은 ```true``` 리턴.\n",
    "* ```ios::clear()```은 인자를 주지 않으면 플래그를 ```goodbit```로 초기화시킴.\n",
    "* ```istream::ignore()```은 최대 첫 번째 인자(*100*)만큼, 두 번째 인자가 나올 때(*'\\n'*)까지 버퍼에서 무시."
   ]
  },
  {
   "cell_type": "markdown",
   "metadata": {},
   "source": [
    "## 형식 플래그(Format 'flag')와 조작자(Manipulator)"
   ]
  },
  {
   "cell_type": "code",
   "execution_count": null,
   "metadata": {},
   "outputs": [],
   "source": [
    "int t;\n",
    "std::cin.setf(std::ios_base::hex, std::ios_base::basefield);  // 10진수 대신 16진수로 스트림의 입출력 형식 바꾸기\n",
    "// hex는 서식 플래그\n",
    "std::cin >> t;\n",
    "std::cout << \"입력 :: \" << t << std::endl;"
   ]
  },
  {
   "cell_type": "markdown",
   "metadata": {},
   "source": [
    "\\- 실행 결과\n",
    "\n",
    "> <pre>ff\n",
    "입력 :: 255\n",
    "0xFF\n",
    "입력 :: 255\n",
    "123\n",
    "입력 :: 291\n",
    "ABCDE\n",
    "입력 :: 703710\n",
    "</pre>\n",
    "\n",
    "* ```ios_base::setf()```\n",
    "\n",
    "스트림의 설정을 바꾸는 함수\n",
    "\n",
    "2가지 버전이 있는데, 위의 것은 OR 하는 것이고, 아래의 것은 해당 마스크 영역에 대해서 ```fmtfl```에 켜져 있지 않은 건 초기화. 수를 처리하는 방식은 1가지 진수만 한 번에 처리할 수 있으므로 위 코드처럼 한 것.\n",
    "\n",
    "```\n",
    "fmtflags setf(fmtflags fmtfl);\n",
    "fmtflags setf(fmtflags fmtfl, fmtflags mask);\n",
    "```\n",
    "\n",
    "그런데, 다음과 같은 방식으로도 16진수 받을 수 있음."
   ]
  },
  {
   "cell_type": "code",
   "execution_count": null,
   "metadata": {},
   "outputs": [],
   "source": [
    "int t;\n",
    "std::cin >> std::hex >> t;  //\n",
    "std::cout << \"입력 :: \" << t << std::endl;"
   ]
  },
  {
   "cell_type": "markdown",
   "metadata": {},
   "source": [
    "```ios_base::hex```는 단순한 상수 값이지만, 여기서의 ```std::hex```는 함수.(이렇게 스트림을 조작하여 입출력 방식을 바꿔 주는 함수를 <u>조작자</u>라고 함.) 이름만 갖고 서로 다른 것이다!\n",
    "\n",
    "이게 가능한 것은 ```istream& operator>>(ios_base& (*pf)(ios_base&));```가 있고, 호출된 ```hex```가 단순히 ```setf```를 호출해 주는 역할을 수행하기 때문. 이렇게, 조작자를 사용하면 훨씬 쉽게 입력 형식을 바꿀 수 있게 됨. 더 나아가서, 출력 형식으로 왼쪽, 오른쪽 정렬을 시켜주는 ```left```, ```right``` 등 여러 가지 조작자들이 있음."
   ]
  },
  {
   "cell_type": "markdown",
   "metadata": {},
   "source": [
    "## 스트림 버퍼에 대해\n",
    "\n",
    "```streambuf``` 클래스\n",
    "\n",
    "1바이트짜리 문자뿐만 아니라 ```wchar_t```, 즉 다중 바이트 문자(```UTF-8``` 같은 것.)에 대한 처리를 용이하게 하기 위해 C++ 입출력 라이브러리에서 스트림 버퍼를 추상화한 것.\n",
    "\n",
    "이 클래스 안에는 입력 버퍼, 출력 버퍼를 구분해서 각각 ```get area```, ```put area```라 부름. 그리고 각각을 가리키는 포인터도 ```g```, ```p```를 붙여서 표현.\n",
    "\n",
    "* e.g., 미리 앞 글자 훔쳐보기(움직이지는 않음.)"
   ]
  },
  {
   "cell_type": "code",
   "execution_count": null,
   "metadata": {},
   "outputs": [],
   "source": [
    "char peek = std::cin.rdbuf()->snextc();"
   ]
  },
  {
   "cell_type": "markdown",
   "metadata": {},
   "source": [
    "<hr>"
   ]
  },
  {
   "cell_type": "markdown",
   "metadata": {},
   "source": [
    "# 7-2. C++에서 파일 입출력 - ```std::ifstream```, ```std::ofstream```, ```std::stringstream```"
   ]
  },
  {
   "cell_type": "markdown",
   "metadata": {},
   "source": [
    "## ```fstream```\n",
    "\n",
    "```istream```, ```ostream```을 상속받아서 각각 ```ifstream```, ```ofstream```."
   ]
  },
  {
   "cell_type": "code",
   "execution_count": null,
   "metadata": {},
   "outputs": [],
   "source": [
    "#include <fstream>  // 파일 입출력\n",
    "#include <iostream>\n",
    "#include <string>\n",
    "\n",
    "int main() {\n",
    "    std::ifstream in(\"test.txt\");\n",
    "    std::string s;\n",
    "    \n",
    "    if (in.is_open()) {\n",
    "        in >> s;  //\n",
    "        std::cout << \"입력 받은 문자열 :: \" << s << std::endl;\n",
    "    } else {\n",
    "        std::cout << \"파일을 찾을 수 없습니다!\" << std::endl;\n",
    "    }\n",
    "    return 0;\n",
    "}"
   ]
  },
  {
   "cell_type": "markdown",
   "metadata": {},
   "source": [
    "공백 문자 나올 때까지만 읽는 건 동일.\n",
    "\n",
    "C 언어에서는 파일 입출력 후에 ```fclose```를 해 주어야 했지만, 여기서는 ifstream 객체의 소멸자에서 자동적으로 ```close```를 해 준다.\n",
    "\n",
    "기존 파일 스트림과의 연결을 종료하고, 새로운 파일과 연결을 시켜줄 때는 다음과 같이 하면 됨."
   ]
  },
  {
   "cell_type": "code",
   "execution_count": null,
   "metadata": {},
   "outputs": [],
   "source": [
    "in.close();\n",
    "in.open(\"other.txt\");"
   ]
  },
  {
   "cell_type": "markdown",
   "metadata": {},
   "source": [
    "* 이진수로 읽기"
   ]
  },
  {
   "cell_type": "code",
   "execution_count": null,
   "metadata": {},
   "outputs": [],
   "source": [
    "int x;\n",
    "std::ifstream in(\"test.txt\", std::ios::binary);  // binary 형태로 받겠다고 명시\n",
    "\n",
    "in.read((char *)(&x), 4);  // 4바이트 내용 읽기\n",
    "std::cout << std::hex << x << std::endl;"
   ]
  },
  {
   "cell_type": "markdown",
   "metadata": {},
   "source": [
    "\\- test.txt(hex 형식)\n",
    "> <pre>EF BB BF EC 94 B9 ...</pre>\n",
    "\n",
    "\\- 실행 결과(→ 리틀 엔디안!)\n",
    "> <pre>ecbfbbef</pre>"
   ]
  },
  {
   "cell_type": "markdown",
   "metadata": {},
   "source": [
    "## 파일 전체 읽기"
   ]
  },
  {
   "cell_type": "code",
   "execution_count": 1,
   "metadata": {},
   "outputs": [],
   "source": [
    "#include <fstream>\n",
    "#include <iostream>\n",
    "#include <string>\n",
    "\n",
    "int main() {\n",
    "    // 파일 읽기 준비\n",
    "    std::ifstream in(\"test.txt\");\n",
    "    std::string s;\n",
    "\n",
    "    if (in.is_open()) {\n",
    "        // 위치 지정자를 파일 끝으로 옮긴다.\n",
    "        in.seekg(0, std::ios::end);  // C에서의 fseek()과 같은 함수!\n",
    "\n",
    "        // 그리고 그 위치를 읽는다. (파일의 크기)\n",
    "        int size = in.tellg();\n",
    "\n",
    "        // 그 크기의 문자열을 할당한다.\n",
    "        s.resize(size);\n",
    "\n",
    "        // 위치 지정자를 다시 파일 맨 앞으로 옮긴다.\n",
    "        in.seekg(0, std::ios::beg);\n",
    "\n",
    "        // 파일 전체 내용을 읽어서 문자열에 저장한다.\n",
    "        in.read(&s[0], size);\n",
    "        std::cout << s << std::endl;\n",
    "    } else {\n",
    "        std::cout << \"파일을 찾을 수 없습니다!\" << std::endl;\n",
    "    }\n",
    "    \n",
    "    return 0;\n",
    "}"
   ]
  },
  {
   "cell_type": "markdown",
   "metadata": {},
   "source": [
    "* 파일 전체를 한 줄씩 읽기"
   ]
  },
  {
   "cell_type": "code",
   "execution_count": null,
   "metadata": {},
   "outputs": [],
   "source": [
    "// getline 으로 읽어들이기\n",
    "#include <fstream>\n",
    "#include <iostream>\n",
    "#include <string>\n",
    "\n",
    "int main() {\n",
    "    // 파일 읽기 준비\n",
    "    std::ifstream in(\"test.txt\");\n",
    "    char buf[100];\n",
    "\n",
    "    if (!in.is_open()) {\n",
    "        std::cout << \"파일을 찾을 수 없습니다!\" << std::endl;\n",
    "        return 0;\n",
    "    }\n",
    "\n",
    "    while (in) {\n",
    "        in.getline(buf, 100);  //\n",
    "        std::cout << buf << std::endl;\n",
    "    }\n",
    "\n",
    "    return 0;\n",
    "}"
   ]
  },
  {
   "cell_type": "markdown",
   "metadata": {},
   "source": [
    "```ifstream::getline(buf, 100);```\n",
    "\n",
    "파일에서 개행 문자가 나올 때까지 (최대 지정한 크기 - 1)만큼 읽게 됨.(여기서는 최대 99글자) 1 적게 읽는 것은 ```buf```의 맨 마지막 문자로 널 종료 문자를 넣어줘야 하기 때문.\n",
    "\n",
    "```ifstream::getline(buf, 100, '.');```\n",
    "\n",
    "이런 식으로, 개행 문자 대신 원하는 문자가 나올 때까지 입력받을 수도 있음.\n",
    "\n",
    "또한 ```while(in) {```과 같이 자기 자신을 ```bool```로 캐스팅할 수 있음.(```operator bool()``` 캐스팅 연산자) ```in```이 ```true```이기 위해서는 **<u>다음</u>** 입력 작업이 성공적이어야만 하고, 현재 스트림에 오류 플래그가 켜져 있지 않아야만 한다.\n",
    "\n",
    "그런데, ```getline```은 개행 문자 또는 임의로 지정한 문자가 나오기 전에 버퍼 크기가 다 차면 ```failbit```를 키므로 이러한 조건도 확인해야 함. 그리고 이러한 한계 극복을 위해 ```std::string```에서 ```getline``` 함수를 제공하고 있다."
   ]
  },
  {
   "cell_type": "code",
   "execution_count": null,
   "metadata": {},
   "outputs": [],
   "source": [
    "// std::string에 정의된 getline 사용\n",
    "std::ifstream in(\"test.txt\");\n",
    "\n",
    "std::string s;\n",
    "while (in) {\n",
    "    getline(in, s);  // ifstream이 아니라 std::string에 정의된 함수\n",
    "}"
   ]
  },
  {
   "cell_type": "markdown",
   "metadata": {},
   "source": [
    "* 주의 사항\n",
    "\n",
    "> 한 가지 주의할 사항으로 **<u>```while``` 문 조건으로 절대 ```in.eof()```를 사용하면 안됩니다.</u>** 이러한 코드를 사용했다면 99퍼센트의 확률로 잘못된 코드입니다. 왜냐하면 ```eof``` 함수는 파일 위치 지시자가 파일에 끝에 도달한 이후에 ```true```를 리턴하기 때문입니다.\n",
    "\n",
    "> 예를 들어서 ```while``` 문 안에서 파일을 쭈르륵 읽다가 파일 끝(EOF) 바로 직전까지 읽었다고 해봅시다. 그렇다면 아직 EOF를 읽지 않았으므로 ```in.eof()```는 참인 상태일 것입니다. 그 상태에서 예컨대 ```in >> data```를 하게 된다면 ```data```에는 아무것도 들어가지 않게 됩니다. 즉 초기화가 되지 않은 상태로 남아있는 것입니다!\n",
    "\n",
    "> 다시 말해 ```in.eof()```는 ```while``` 문 안에서 파일 읽기가 안전하다라는 것을 보장하지 않습니다. 정확한 사용법은 그냥 ```while(in)```처럼 스트림 객체 자체를 전달하는 것입니다. 앞에서도 말했듯이 **<u>```istream``` 객체는 다음 읽기가 안전할 때만 ```true```로 캐스팅</u>**됩니다."
   ]
  },
  {
   "cell_type": "markdown",
   "metadata": {},
   "source": [
    "## 파일에 쓰기"
   ]
  },
  {
   "cell_type": "code",
   "execution_count": null,
   "metadata": {},
   "outputs": [],
   "source": [
    "std::ofstream out(\"test.txt\");  // 덮어 쓰기\n",
    "// or\n",
    "std::ofstream out(\"test.txt\", std::ios::app);  // 붙여 쓰기\n",
    "\n",
    "out << \"추가\";"
   ]
  },
  {
   "cell_type": "markdown",
   "metadata": {},
   "source": [
    "## ```std::ofstream``` 연산자 오버로딩하기\n",
    "\n",
    "예전에 다룬, 입출력 연산자 오버로딩 예제와 방식이 동일.\n",
    "\n",
    "단순히 ```ofstream``` 객체의 레퍼런스를 받고, 다시 이를 리턴하는 ```operator<<``` 함수를 정의하면 됨."
   ]
  },
  {
   "cell_type": "code",
   "execution_count": null,
   "metadata": {},
   "outputs": [],
   "source": [
    "class Human {\n",
    "    std::string name;\n",
    "    int age;\n",
    "\n",
    "public:\n",
    "    Human(const std::string& name, int age) : name(name), age(age) {}\n",
    "    std::string get_info() {\n",
    "        return \"Name :: \" + name + \" / Age :: \" + std::to_string(age);\n",
    "    }\n",
    "\n",
    "    friend std::ofstream& operator<<(std::ofstream& o, Human& h);  //\n",
    "};\n",
    "\n",
    "std::ofstream& operator<<(std::ofstream& o, Human& h) {  //\n",
    "    o << h.get_info();\n",
    "    return o;\n",
    "}"
   ]
  },
  {
   "cell_type": "markdown",
   "metadata": {},
   "source": [
    "## 문자열 스트림(```std::stringstream```)\n",
    "\n",
    "* ```sstream```\n",
    "    * ```std::istringstream``` : 마치 문자열을 하나의 스트림이라 생각하게 해주는 가상화 장치 (e.g., 문자열에서 숫자로 바꾸는 함수)\n",
    "    * ```std::ostringstream``` : 거꾸로 데이터를 출력할 수 있는 것. (e.g., 숫자에서 문자열로 바꾸는 함수)"
   ]
  },
  {
   "cell_type": "code",
   "execution_count": null,
   "metadata": {},
   "outputs": [],
   "source": [
    "#include <iostream>\n",
    "#include <sstream>\n",
    "#include <string>\n",
    "\n",
    "double to_number(std::string s) {\n",
    "    std::istringstream ss(s);\n",
    "    double x;\n",
    "\n",
    "    ss >> x;\n",
    "    return x;\n",
    "}\n",
    "std::string to_str(int x) {\n",
    "    std::ostringstream ss;\n",
    "    ss << x;\n",
    "\n",
    "    return ss.str();  // str 함수로 현재 문자열 스트림에 쓰여 있는 값을 불러 오기\n",
    "}\n",
    "\n",
    "int main() {\n",
    "    std::cout << \"변환:: 1 + 2 = \" << to_number(\"1\") + to_number(\"2\") << std::endl;\n",
    "    std::cout << \"문자열로 변환:: 1 + 2 = \" << to_str(1 + 2) << std::endl;\n",
    "\n",
    "    return 0;\n",
    "}"
   ]
  },
  {
   "cell_type": "markdown",
   "metadata": {},
   "source": [
    "## 생각 해보기\n",
    "\n",
    "![문제 1](figures/Screen%20Shot%202021-01-11%20at%204.56.46%20AM.png)\n",
    "\n",
    "![문제 2](figures/Screen%20Shot%202021-01-11%20at%204.56.56%20AM.png)"
   ]
  }
 ],
 "metadata": {
  "kernelspec": {
   "display_name": "C++11",
   "language": "C++11",
   "name": "xcpp11"
  },
  "language_info": {
   "codemirror_mode": "text/x-c++src",
   "file_extension": ".cpp",
   "mimetype": "text/x-c++src",
   "name": "c++",
   "version": "11"
  }
 },
 "nbformat": 4,
 "nbformat_minor": 4
}
