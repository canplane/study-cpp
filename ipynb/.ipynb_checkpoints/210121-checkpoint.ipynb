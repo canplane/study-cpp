{
 "cells": [
  {
   "cell_type": "markdown",
   "metadata": {},
   "source": [
    "# 10-4. C++ 문자열의 모든 것(string과 string_view)\n",
    "\n",
    "## basic_string\n",
    "\n",
    "`std::string`은 사실 `basic_string`이라는 클래스 템플릿의 인스턴스화 버전."
   ]
  },
  {
   "cell_type": "code",
   "execution_count": null,
   "metadata": {},
   "outputs": [],
   "source": [
    "template <class CharT, class Traits = std::char_traits<CharT>,\n",
    "            class Allocator = std::allocator<CharT> >\n",
    "class basic_string;"
   ]
  }
 ],
 "metadata": {
  "kernelspec": {
   "display_name": "C++11",
   "language": "C++11",
   "name": "xcpp11"
  },
  "language_info": {
   "codemirror_mode": "text/x-c++src",
   "file_extension": ".cpp",
   "mimetype": "text/x-c++src",
   "name": "c++",
   "version": "11"
  }
 },
 "nbformat": 4,
 "nbformat_minor": 4
}
