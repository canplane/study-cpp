{
 "cells": [
  {
   "cell_type": "markdown",
   "metadata": {},
   "source": [
    "*2021/01/08 Fri*\n",
    "\n",
    "# 4-2. 클래스의 세계로 오신 것을 환영합니다. (함수의 오버로딩, 생성자)"
   ]
  },
  {
   "cell_type": "markdown",
   "metadata": {},
   "source": [
    "## 오버로딩\n",
    "\n",
    "함수의 시그니처 : 함수를 구분하기 위한 구성 요소. 함수의 이름, 매개 변수의 개수, 매개 변수의 자료형"
   ]
  },
  {
   "cell_type": "markdown",
   "metadata": {},
   "source": [
    "* 오버로딩, 매개 변수 형 변환 우선 순위\n",
    "\n",
    "![오버로딩 우선 순위](img/Screen%20Shot%202021-01-08%20at%203.32.51%20PM.png)\n",
    "\n",
    "* Ambiguous Call\n",
    "\n",
    "```\n",
    "void print(int x) { ... }\n",
    "void print(char x) { ... }\n",
    "...\n",
    "double c = 3.2f;\n",
    "print(c); // 컴파일 오류(ambiguous call to overloaded function) -> 3단계에서 2개 이상의 가능한 일치가 존재하므로\n",
    "```"
   ]
  },
  {
   "cell_type": "markdown",
   "metadata": {},
   "source": [
    "* 간단한 함수가 아니면 선언만 해두고 보통 대부분 클래스 바깥에서 따로 정의. 클래스 크기가 길어져서 보기 좋지 않으니까.\n",
    "\n",
    "```\n",
    "class Date {\n",
    "    public:\n",
    "        // 선언\n",
    "        void AddDay(int inc); // 함수 원형(function prototype)\n",
    "}\n",
    "\n",
    "// 정의\n",
    "void Date::AddDay(int inc) // 함수 헤더(function header)\n",
    "{\n",
    "    ...\n",
    "} // 함수 본체(function body)\n",
    "```"
   ]
  },
  {
   "cell_type": "markdown",
   "metadata": {},
   "source": [
    "## 생성자"
   ]
  },
  {
   "cell_type": "code",
   "execution_count": null,
   "metadata": {},
   "outputs": [],
   "source": [
    "class Date {\n",
    "    public:\n",
    "        Date(int year, int month, int day) {\n",
    "            ...\n",
    "        }\n",
    "        ...\n",
    "}\n",
    "\n",
    "int main() {\n",
    "    Date day(2011, 3, 1); // 암시적 방법 (implicit)\n",
    "    Date day = Date(2011, 3, 1); // 명시적 방법 (explicit)\n",
    "    ...\n",
    "}"
   ]
  },
  {
   "cell_type": "markdown",
   "metadata": {},
   "source": [
    "* Default Constructor\n",
    "\n",
    "```\n",
    "Date day;\n",
    "Date day = Date();\n",
    "Date day(); // 이건 디폴트 생성자가 아니라, 함수를 선언한 것으로 인식.\n",
    "```\n",
    "\n",
    "사용자가 다른 생성자를 추가한 순간 컴파일러는 자동으로 디폴트 생성자를 삽입하지 않음.\n",
    "\n",
    "그리고 아래는 사용자가 임의로 디폴트 생성자 정의한 것.\n",
    "\n",
    "```\n",
    "Date() {\n",
    "    ...\n",
    "}\n",
    "```\n",
    "\n",
    "C++ 11부터는 명시적으로 디폴트 생성자 정의 가능. 까먹고 개발자가 생성자를 넣지 않은 건지 여부를 구분하기 위함.\n",
    "\n",
    "```\n",
    "class Test {\n",
    "    public:\n",
    "        Test() = default; // 디폴트 생성자를 정의해라\n",
    "        // Test();로 하면 밑에 Test::Test() { ... }의 정의 부분이 있다는 의미\n",
    "}\n",
    "```"
   ]
  },
  {
   "cell_type": "markdown",
   "metadata": {},
   "source": [
    "# 4-3. 스타크래프트를 만들자 1 (복사 생성자, 소멸자)"
   ]
  },
  {
   "cell_type": "code",
   "execution_count": null,
   "metadata": {},
   "outputs": [],
   "source": [
    "Marine *marines[100];\n",
    "marines[0] = new Marine(2, 3); // new는 객체를 동적으로 생성하면서 동시에 자동으로 생성자도 호출\n",
    "delete marines[0];\n",
    "\n",
    "char *name;\n",
    "name = new char[strlen(marine_name) + 1]; // new로 배열 할당\n",
    "strcpy(name, marine_name);\n",
    "delete[] name;"
   ]
  },
  {
   "cell_type": "markdown",
   "metadata": {},
   "source": [
    "## 소멸자(Destructor)\n",
    "\n",
    "객체가 생성될 때 자동으로 호출되었던 생성자처럼, 소멸될 때 자동으로 호출되는 함수.\n",
    "\n",
    "```\n",
    "class Marine {\n",
    "    public:\n",
    "        Marine();\n",
    "        ~Marine();\n",
    "        ...\n",
    "}\n",
    "\n",
    "Marine::~Marine() { ... } // 소멸자는 인자 X, 오버로딩도 없음.\n",
    "```"
   ]
  },
  {
   "cell_type": "raw",
   "metadata": {},
   "source": []
  }
 ],
 "metadata": {
  "kernelspec": {
   "display_name": "C++11",
   "language": "C++11",
   "name": "xcpp11"
  },
  "language_info": {
   "codemirror_mode": "text/x-c++src",
   "file_extension": ".cpp",
   "mimetype": "text/x-c++src",
   "name": "c++",
   "version": "11"
  }
 },
 "nbformat": 4,
 "nbformat_minor": 4
}
